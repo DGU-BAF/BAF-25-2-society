{
 "cells": [
  {
   "cell_type": "markdown",
   "id": "cfe1e87f",
   "metadata": {},
   "source": [
    "# 1. 라이브러리 & 데이터 불러오기"
   ]
  },
  {
   "cell_type": "markdown",
   "id": "bb651d0b",
   "metadata": {},
   "source": [
    "## 1. 데이터셋 병합 및 Rename"
   ]
  },
  {
   "cell_type": "code",
   "execution_count": 59,
   "id": "7df5289f",
   "metadata": {},
   "outputs": [],
   "source": [
    "import pandas as pd\n",
    "import numpy as np\n",
    "import matplotlib.pyplot as plt\n",
    "import seaborn as sns\n",
    "sns.set(style=\"whitegrid\", font=\"Malgun Gothic\")\n",
    "\n",
    "df_info = pd.read_csv(\"../data/raw/big_data_set1_f.csv\", encoding=\"cp949\")\n",
    "df_usage = pd.read_csv(\"../data/raw/big_data_set2_f.csv\", encoding=\"cp949\")\n",
    "df_customer = pd.read_csv(\"../data/raw/big_data_set3_f.csv\", encoding=\"cp949\")"
   ]
  },
  {
   "cell_type": "code",
   "execution_count": 60,
   "id": "8331d362",
   "metadata": {},
   "outputs": [],
   "source": [
    "# 컬럼명 리네이밍\n",
    "rename_info = {\n",
    "    \"ENCODED_MCT\": \"num\",        # 가맹점ID\n",
    "    \"MCT_BSE_AR\": \"addr\",        # 주소\n",
    "    \"MCT_NM\": \"name\",            # 가맹점명\n",
    "    \"MCT_BRD_NUM\": \"brand_cd\",   # 브랜드코드\n",
    "    \"MCT_SIGUNGU_NM\": \"sigungu\", # 지역(시군구)\n",
    "    \"HPSN_MCT_ZCD_NM\": \"biz_type\", # 업종\n",
    "    \"HPSN_MCT_BZN_CD_NM\": \"market\", # 상권\n",
    "    \"ARE_D\": \"open\",             # 개설일\n",
    "    \"MCT_ME_D\": \"close\"          # 폐업일\n",
    "}\n",
    "\n",
    "rename_usage = {\n",
    "    \"ENCODED_MCT\": \"num\",          # 가맹점ID\n",
    "    \"TA_YM\": \"ym\",                 # 기준년월\n",
    "\n",
    "    \"MCT_OPE_MS_CN\": \"oper_month_grp\", # 운영 개월 구간\n",
    "    \"RC_M1_SAA\": \"sales_grp\",      # 매출금액 구간\n",
    "    \"RC_M1_TO_UE_CT\": \"txn_cnt_grp\", # 매출건수 구간\n",
    "    \"RC_M1_UE_CUS_CN\": \"cust_cnt_grp\", # 유니크 고객 수 구간\n",
    "    \"RC_M1_AV_NP_AT\": \"avg_pay_grp\",   # 객단가 구간\n",
    "    \"APV_CE_RAT\": \"cancel_rate_grp\",   # 취소율 구간\n",
    "\n",
    "    \"DLV_SAA_RAT\": \"delivery_sales_ratio\",  # 배달 매출 비율\n",
    "    \"M1_SME_RY_SAA_RAT\": \"rel_sales_ratio\", # 업종 대비 매출 비율\n",
    "    \"M1_SME_RY_UE_CT\": \"rel_txn_ratio\",     # 업종 대비 건수 비율\n",
    "\n",
    "    \"M12_SME_RY_SAA_PCE_RT\": \"sales_rank_industry\", # 업종 내 매출 순위(%)  \n",
    "    \"M12_SME_BZN_SAA_PCE_RT\": \"sales_rank_market\",  # 상권 내 매출 순위(%)  \n",
    "    \"M12_SME_RY_ME_MCT_RAT\": \"share_sales_industry\",# 업종 내 해지 가맹점 비중  \n",
    "    \"M12_SME_BZN_ME_MCT_RAT\": \"share_sales_market\"  # 상권 내 해지 가맹점 비중\n",
    "}\n",
    "\n",
    "rename_customer = {\n",
    "    \"ENCODED_MCT\": \"num\",   # 가맹점ID\n",
    "    \"TA_YM\": \"ym\",          # 기준년월\n",
    "\n",
    "    # 성별/연령별 비율\n",
    "    \"M12_MAL_1020_RAT\": \"male_20below_ratio\",\n",
    "    \"M12_MAL_30_RAT\": \"male_30_ratio\",\n",
    "    \"M12_MAL_40_RAT\": \"male_40_ratio\",\n",
    "    \"M12_MAL_50_RAT\": \"male_50_ratio\",\n",
    "    \"M12_MAL_60_RAT\": \"male_60plus_ratio\",\n",
    "\n",
    "    \"M12_FME_1020_RAT\": \"female_20below_ratio\",\n",
    "    \"M12_FME_30_RAT\": \"female_30_ratio\",\n",
    "    \"M12_FME_40_RAT\": \"female_40_ratio\",\n",
    "    \"M12_FME_50_RAT\": \"female_50_ratio\",\n",
    "    \"M12_FME_60_RAT\": \"female_60plus_ratio\",\n",
    "\n",
    "    # 고객 행동 지표\n",
    "    \"MCT_UE_CLN_REU_RAT\": \"revisit_ratio\",  # 재방문 고객 비율\n",
    "    \"MCT_UE_CLN_NEW_RAT\": \"new_ratio\",      # 신규 고객 비율\n",
    "\n",
    "    # 고객 유형 비율\n",
    "    \"RC_M1_SHC_RSD_UE_CLN_RAT\": \"resident_ratio\", # 거주 인구 고객 비율\n",
    "    \"RC_M1_SHC_WP_UE_CLN_RAT\": \"worker_ratio\",    # 직장인 고객 비율\n",
    "    \"RC_M1_SHC_FLP_UE_CLN_RAT\": \"floating_ratio\"  # 유동인구 고객 비율\n",
    "}\n"
   ]
  },
  {
   "cell_type": "code",
   "execution_count": 61,
   "id": "ae2b63db",
   "metadata": {},
   "outputs": [
    {
     "name": "stdout",
     "output_type": "stream",
     "text": [
      "usage 기간: 2023-01-01 00:00:00 ~ 2024-12-01 00:00:00\n",
      "customer 기간: 2023-01-01 00:00:00 ~ 2024-12-01 00:00:00\n",
      "월별 병합 크기: (86590, 30)\n",
      " 최종 데이터 크기: (86590, 39)\n",
      "          num         ym oper_month_grp           sales_grp  \\\n",
      "0  000F03E44A 2023-01-01       5_75-90%  6_90%초과(하위 10% 이하)   \n",
      "1  000F03E44A 2023-02-01       5_75-90%  6_90%초과(하위 10% 이하)   \n",
      "2  000F03E44A 2023-03-01       5_75-90%  6_90%초과(하위 10% 이하)   \n",
      "3  000F03E44A 2023-04-01       5_75-90%  6_90%초과(하위 10% 이하)   \n",
      "4  000F03E44A 2023-05-01       5_75-90%  6_90%초과(하위 10% 이하)   \n",
      "\n",
      "          txn_cnt_grp        cust_cnt_grp         avg_pay_grp cancel_rate_grp  \\\n",
      "0            5_75-90%            5_75-90%            4_50-75%         1_상위1구간   \n",
      "1  6_90%초과(하위 10% 이하)  6_90%초과(하위 10% 이하)  6_90%초과(하위 10% 이하)             NaN   \n",
      "2  6_90%초과(하위 10% 이하)  6_90%초과(하위 10% 이하)  6_90%초과(하위 10% 이하)             NaN   \n",
      "3            5_75-90%            5_75-90%            3_25-50%         1_상위1구간   \n",
      "4            5_75-90%            5_75-90%  6_90%초과(하위 10% 이하)         1_상위1구간   \n",
      "\n",
      "   delivery_sales_ratio  rel_sales_ratio  ...  floating_ratio  \\\n",
      "0                   NaN              0.5  ...           100.0   \n",
      "1                   NaN              0.0  ...             NaN   \n",
      "2                   NaN              0.0  ...             NaN   \n",
      "3                   NaN              1.3  ...             0.0   \n",
      "4                   NaN              0.0  ...           100.0   \n",
      "\n",
      "                  addr  name  brand_cd  sigungu    biz_type  market  \\\n",
      "0  서울특별시 성동구 왕십리로4가길 9  육육**       NaN   서울 성동구  중식-딤섬/중식만두      뚝섬   \n",
      "1  서울특별시 성동구 왕십리로4가길 9  육육**       NaN   서울 성동구  중식-딤섬/중식만두      뚝섬   \n",
      "2  서울특별시 성동구 왕십리로4가길 9  육육**       NaN   서울 성동구  중식-딤섬/중식만두      뚝섬   \n",
      "3  서울특별시 성동구 왕십리로4가길 9  육육**       NaN   서울 성동구  중식-딤섬/중식만두      뚝섬   \n",
      "4  서울특별시 성동구 왕십리로4가길 9  육육**       NaN   서울 성동구  중식-딤섬/중식만두      뚝섬   \n",
      "\n",
      "        open  close  is_closed  \n",
      "0 2022-02-25    NaT          0  \n",
      "1 2022-02-25    NaT          0  \n",
      "2 2022-02-25    NaT          0  \n",
      "3 2022-02-25    NaT          0  \n",
      "4 2022-02-25    NaT          0  \n",
      "\n",
      "[5 rows x 39 columns]\n"
     ]
    }
   ],
   "source": [
    "\n",
    "# 1. 리네이밍 적용\n",
    "df_info.rename(columns=rename_info, inplace=True)\n",
    "df_usage.rename(columns=rename_usage, inplace=True)\n",
    "df_customer.rename(columns=rename_customer, inplace=True)\n",
    "\n",
    "\n",
    "# 2. 날짜 변환\n",
    "for col in [\"open\", \"close\"]:\n",
    "    df_info[col] = (\n",
    "        df_info[col]\n",
    "        .astype(str)                              # 숫자 → 문자열\n",
    "        .str.replace(r\"\\D\", \"\", regex=True)       # 숫자 외 문자 제거\n",
    "        .str.slice(0, 8)                          # 앞 8자리만 사용 (YYYYMMDD)\n",
    "    )\n",
    "    df_info[col] = pd.to_datetime(df_info[col], format=\"%Y%m%d\", errors=\"coerce\")\n",
    "\n",
    "# ym: YYYYMM 숫자 → 문자열 변환 후 파싱\n",
    "df_usage[\"ym\"]    = pd.to_datetime(df_usage[\"ym\"].astype(str), format=\"%Y%m\", errors=\"coerce\")\n",
    "df_customer[\"ym\"] = pd.to_datetime(df_customer[\"ym\"].astype(str), format=\"%Y%m\", errors=\"coerce\")\n",
    "\n",
    "print(\"usage 기간:\", df_usage[\"ym\"].min(), \"~\", df_usage[\"ym\"].max())\n",
    "print(\"customer 기간:\", df_customer[\"ym\"].min(), \"~\", df_customer[\"ym\"].max())\n",
    "\n",
    "\n",
    "# 3. 월별 데이터 병합\n",
    "df_monthly = pd.merge(df_usage, df_customer, on=[\"num\", \"ym\"], how=\"outer\")\n",
    "print(\"월별 병합 크기:\", df_monthly.shape)\n",
    "\n",
    "\n",
    "# 4. 기본 정보 붙이기\n",
    "df_final = pd.merge(df_monthly, df_info, on=\"num\", how=\"left\")\n",
    "\n",
    "\n",
    "# 5. 폐업 여부 플래그\n",
    "df_final[\"is_closed\"] = df_final[\"close\"].notnull().astype(int)\n",
    "\n",
    "\n",
    "# 6. 특수 결측치 치환\n",
    "for bad in [-999999.9, -999999, \"-999999.9\", \"-999999\"]:\n",
    "    df_final.replace(bad, pd.NA, inplace=True)\n",
    "\n",
    "\n",
    "# 7. 숫자형 변환 (비율/랭크 등)\n",
    "ratio_cols = [\n",
    "    \"delivery_sales_ratio\", \"rel_sales_ratio\", \"rel_txn_ratio\",\n",
    "    \"sales_rank_industry\", \"sales_rank_market\",\n",
    "    \"share_sales_industry\", \"share_sales_market\",\n",
    "    \"revisit_ratio\", \"new_ratio\",\n",
    "    \"resident_ratio\", \"worker_ratio\", \"floating_ratio\",\n",
    "    \"male_20below_ratio\", \"male_30_ratio\", \"male_40_ratio\",\n",
    "    \"male_50_ratio\", \"male_60plus_ratio\",\n",
    "    \"female_20below_ratio\", \"female_30_ratio\", \"female_40_ratio\",\n",
    "    \"female_50_ratio\", \"female_60plus_ratio\",\n",
    "]\n",
    "for c in ratio_cols:\n",
    "    if c in df_final.columns:\n",
    "        df_final[c] = pd.to_numeric(df_final[c], errors=\"coerce\")\n",
    "\n",
    "\n",
    "# 8. 범주형 변환\n",
    "group_cols = [\n",
    "    \"oper_month_grp\", \"sales_grp\", \"txn_cnt_grp\",\n",
    "    \"cust_cnt_grp\", \"avg_pay_grp\", \"cancel_rate_grp\"\n",
    "]\n",
    "for c in group_cols:\n",
    "    if c in df_final.columns:\n",
    "        df_final[c] = df_final[c].astype(\"category\")\n",
    "\n",
    "# 9. 정렬 (중복 제거는 하지 않음)\n",
    "df_final = df_final.sort_values([\"num\", \"ym\"]).reset_index(drop=True)\n",
    "\n",
    "\n",
    "# 10. 저장\n",
    "df_final.to_csv(\"../data/processed/df_final.csv\", index=False, encoding=\"utf-8-sig\")\n",
    "print(\" 최종 데이터 크기:\", df_final.shape)\n",
    "print(df_final.head())\n"
   ]
  },
  {
   "cell_type": "code",
   "execution_count": 62,
   "id": "0277bea3",
   "metadata": {},
   "outputs": [
    {
     "data": {
      "text/plain": [
       "(86590, 39)"
      ]
     },
     "execution_count": 62,
     "metadata": {},
     "output_type": "execute_result"
    }
   ],
   "source": [
    "df_final.shape"
   ]
  },
  {
   "cell_type": "code",
   "execution_count": 80,
   "id": "20695cbb",
   "metadata": {},
   "outputs": [
    {
     "data": {
      "text/html": [
       "<div>\n",
       "<style scoped>\n",
       "    .dataframe tbody tr th:only-of-type {\n",
       "        vertical-align: middle;\n",
       "    }\n",
       "\n",
       "    .dataframe tbody tr th {\n",
       "        vertical-align: top;\n",
       "    }\n",
       "\n",
       "    .dataframe thead th {\n",
       "        text-align: right;\n",
       "    }\n",
       "</style>\n",
       "<table border=\"1\" class=\"dataframe\">\n",
       "  <thead>\n",
       "    <tr style=\"text-align: right;\">\n",
       "      <th></th>\n",
       "      <th>num</th>\n",
       "      <th>ym</th>\n",
       "      <th>oper_month_grp</th>\n",
       "      <th>sales_grp</th>\n",
       "      <th>txn_cnt_grp</th>\n",
       "      <th>cust_cnt_grp</th>\n",
       "      <th>avg_pay_grp</th>\n",
       "      <th>cancel_rate_grp</th>\n",
       "      <th>delivery_sales_ratio</th>\n",
       "      <th>rel_sales_ratio</th>\n",
       "      <th>...</th>\n",
       "      <th>revisit_ratio</th>\n",
       "      <th>new_ratio</th>\n",
       "      <th>resident_ratio</th>\n",
       "      <th>worker_ratio</th>\n",
       "      <th>floating_ratio</th>\n",
       "      <th>sigungu</th>\n",
       "      <th>biz_type</th>\n",
       "      <th>market</th>\n",
       "      <th>open</th>\n",
       "      <th>is_franchise</th>\n",
       "    </tr>\n",
       "  </thead>\n",
       "  <tbody>\n",
       "    <tr>\n",
       "      <th>0</th>\n",
       "      <td>000F03E44A</td>\n",
       "      <td>2023-01-01</td>\n",
       "      <td>5_75-90%</td>\n",
       "      <td>6_90%초과(하위 10% 이하)</td>\n",
       "      <td>5_75-90%</td>\n",
       "      <td>5_75-90%</td>\n",
       "      <td>4_50-75%</td>\n",
       "      <td>1_상위1구간</td>\n",
       "      <td>NaN</td>\n",
       "      <td>0.5</td>\n",
       "      <td>...</td>\n",
       "      <td>0.0</td>\n",
       "      <td>100.00</td>\n",
       "      <td>0.0</td>\n",
       "      <td>0.0</td>\n",
       "      <td>100.0</td>\n",
       "      <td>서울 성동구</td>\n",
       "      <td>중식-딤섬/중식만두</td>\n",
       "      <td>뚝섬</td>\n",
       "      <td>2022-02-25</td>\n",
       "      <td>0</td>\n",
       "    </tr>\n",
       "    <tr>\n",
       "      <th>1</th>\n",
       "      <td>000F03E44A</td>\n",
       "      <td>2023-02-01</td>\n",
       "      <td>5_75-90%</td>\n",
       "      <td>6_90%초과(하위 10% 이하)</td>\n",
       "      <td>6_90%초과(하위 10% 이하)</td>\n",
       "      <td>6_90%초과(하위 10% 이하)</td>\n",
       "      <td>6_90%초과(하위 10% 이하)</td>\n",
       "      <td>NaN</td>\n",
       "      <td>NaN</td>\n",
       "      <td>0.0</td>\n",
       "      <td>...</td>\n",
       "      <td>0.0</td>\n",
       "      <td>0.00</td>\n",
       "      <td>NaN</td>\n",
       "      <td>NaN</td>\n",
       "      <td>NaN</td>\n",
       "      <td>서울 성동구</td>\n",
       "      <td>중식-딤섬/중식만두</td>\n",
       "      <td>뚝섬</td>\n",
       "      <td>2022-02-25</td>\n",
       "      <td>0</td>\n",
       "    </tr>\n",
       "    <tr>\n",
       "      <th>2</th>\n",
       "      <td>000F03E44A</td>\n",
       "      <td>2023-03-01</td>\n",
       "      <td>5_75-90%</td>\n",
       "      <td>6_90%초과(하위 10% 이하)</td>\n",
       "      <td>6_90%초과(하위 10% 이하)</td>\n",
       "      <td>6_90%초과(하위 10% 이하)</td>\n",
       "      <td>6_90%초과(하위 10% 이하)</td>\n",
       "      <td>NaN</td>\n",
       "      <td>NaN</td>\n",
       "      <td>0.0</td>\n",
       "      <td>...</td>\n",
       "      <td>0.0</td>\n",
       "      <td>0.00</td>\n",
       "      <td>NaN</td>\n",
       "      <td>NaN</td>\n",
       "      <td>NaN</td>\n",
       "      <td>서울 성동구</td>\n",
       "      <td>중식-딤섬/중식만두</td>\n",
       "      <td>뚝섬</td>\n",
       "      <td>2022-02-25</td>\n",
       "      <td>0</td>\n",
       "    </tr>\n",
       "    <tr>\n",
       "      <th>3</th>\n",
       "      <td>000F03E44A</td>\n",
       "      <td>2023-04-01</td>\n",
       "      <td>5_75-90%</td>\n",
       "      <td>6_90%초과(하위 10% 이하)</td>\n",
       "      <td>5_75-90%</td>\n",
       "      <td>5_75-90%</td>\n",
       "      <td>3_25-50%</td>\n",
       "      <td>1_상위1구간</td>\n",
       "      <td>NaN</td>\n",
       "      <td>1.3</td>\n",
       "      <td>...</td>\n",
       "      <td>0.0</td>\n",
       "      <td>50.00</td>\n",
       "      <td>0.0</td>\n",
       "      <td>100.0</td>\n",
       "      <td>0.0</td>\n",
       "      <td>서울 성동구</td>\n",
       "      <td>중식-딤섬/중식만두</td>\n",
       "      <td>뚝섬</td>\n",
       "      <td>2022-02-25</td>\n",
       "      <td>0</td>\n",
       "    </tr>\n",
       "    <tr>\n",
       "      <th>4</th>\n",
       "      <td>000F03E44A</td>\n",
       "      <td>2023-05-01</td>\n",
       "      <td>5_75-90%</td>\n",
       "      <td>6_90%초과(하위 10% 이하)</td>\n",
       "      <td>5_75-90%</td>\n",
       "      <td>5_75-90%</td>\n",
       "      <td>6_90%초과(하위 10% 이하)</td>\n",
       "      <td>1_상위1구간</td>\n",
       "      <td>NaN</td>\n",
       "      <td>0.0</td>\n",
       "      <td>...</td>\n",
       "      <td>0.0</td>\n",
       "      <td>33.33</td>\n",
       "      <td>0.0</td>\n",
       "      <td>0.0</td>\n",
       "      <td>100.0</td>\n",
       "      <td>서울 성동구</td>\n",
       "      <td>중식-딤섬/중식만두</td>\n",
       "      <td>뚝섬</td>\n",
       "      <td>2022-02-25</td>\n",
       "      <td>0</td>\n",
       "    </tr>\n",
       "  </tbody>\n",
       "</table>\n",
       "<p>5 rows × 35 columns</p>\n",
       "</div>"
      ],
      "text/plain": [
       "          num         ym oper_month_grp           sales_grp  \\\n",
       "0  000F03E44A 2023-01-01       5_75-90%  6_90%초과(하위 10% 이하)   \n",
       "1  000F03E44A 2023-02-01       5_75-90%  6_90%초과(하위 10% 이하)   \n",
       "2  000F03E44A 2023-03-01       5_75-90%  6_90%초과(하위 10% 이하)   \n",
       "3  000F03E44A 2023-04-01       5_75-90%  6_90%초과(하위 10% 이하)   \n",
       "4  000F03E44A 2023-05-01       5_75-90%  6_90%초과(하위 10% 이하)   \n",
       "\n",
       "          txn_cnt_grp        cust_cnt_grp         avg_pay_grp cancel_rate_grp  \\\n",
       "0            5_75-90%            5_75-90%            4_50-75%         1_상위1구간   \n",
       "1  6_90%초과(하위 10% 이하)  6_90%초과(하위 10% 이하)  6_90%초과(하위 10% 이하)             NaN   \n",
       "2  6_90%초과(하위 10% 이하)  6_90%초과(하위 10% 이하)  6_90%초과(하위 10% 이하)             NaN   \n",
       "3            5_75-90%            5_75-90%            3_25-50%         1_상위1구간   \n",
       "4            5_75-90%            5_75-90%  6_90%초과(하위 10% 이하)         1_상위1구간   \n",
       "\n",
       "   delivery_sales_ratio  rel_sales_ratio  ...  revisit_ratio  new_ratio  \\\n",
       "0                   NaN              0.5  ...            0.0     100.00   \n",
       "1                   NaN              0.0  ...            0.0       0.00   \n",
       "2                   NaN              0.0  ...            0.0       0.00   \n",
       "3                   NaN              1.3  ...            0.0      50.00   \n",
       "4                   NaN              0.0  ...            0.0      33.33   \n",
       "\n",
       "   resident_ratio  worker_ratio  floating_ratio  sigungu    biz_type  market  \\\n",
       "0             0.0           0.0           100.0   서울 성동구  중식-딤섬/중식만두      뚝섬   \n",
       "1             NaN           NaN             NaN   서울 성동구  중식-딤섬/중식만두      뚝섬   \n",
       "2             NaN           NaN             NaN   서울 성동구  중식-딤섬/중식만두      뚝섬   \n",
       "3             0.0         100.0             0.0   서울 성동구  중식-딤섬/중식만두      뚝섬   \n",
       "4             0.0           0.0           100.0   서울 성동구  중식-딤섬/중식만두      뚝섬   \n",
       "\n",
       "        open  is_franchise  \n",
       "0 2022-02-25             0  \n",
       "1 2022-02-25             0  \n",
       "2 2022-02-25             0  \n",
       "3 2022-02-25             0  \n",
       "4 2022-02-25             0  \n",
       "\n",
       "[5 rows x 35 columns]"
      ]
     },
     "execution_count": 80,
     "metadata": {},
     "output_type": "execute_result"
    }
   ],
   "source": [
    "df_final.head()"
   ]
  },
  {
   "cell_type": "code",
   "execution_count": 63,
   "id": "716ade9e",
   "metadata": {},
   "outputs": [
    {
     "data": {
      "text/plain": [
       "num                         0\n",
       "ym                          0\n",
       "oper_month_grp              0\n",
       "sales_grp                   0\n",
       "txn_cnt_grp                 0\n",
       "cust_cnt_grp                0\n",
       "avg_pay_grp                 0\n",
       "cancel_rate_grp          6632\n",
       "delivery_sales_ratio    57345\n",
       "rel_sales_ratio             0\n",
       "M1_SME_RY_CNT_RAT           0\n",
       "sales_rank_industry         0\n",
       "sales_rank_market           0\n",
       "share_sales_industry        0\n",
       "share_sales_market      21419\n",
       "male_20below_ratio       2004\n",
       "male_30_ratio            2004\n",
       "male_40_ratio            2004\n",
       "male_50_ratio            2004\n",
       "male_60plus_ratio        2004\n",
       "female_20below_ratio     2004\n",
       "female_30_ratio          2004\n",
       "female_40_ratio          2004\n",
       "female_50_ratio          2004\n",
       "female_60plus_ratio      2004\n",
       "revisit_ratio            1643\n",
       "new_ratio                1643\n",
       "resident_ratio           7327\n",
       "worker_ratio             7327\n",
       "floating_ratio           7327\n",
       "addr                        0\n",
       "name                        0\n",
       "brand_cd                74865\n",
       "sigungu                     0\n",
       "biz_type                    0\n",
       "market                  21419\n",
       "open                        0\n",
       "close                   84256\n",
       "is_closed                   0\n",
       "dtype: int64"
      ]
     },
     "execution_count": 63,
     "metadata": {},
     "output_type": "execute_result"
    }
   ],
   "source": [
    "# 결측치 확인\n",
    "\n",
    "df_final.isnull().sum()"
   ]
  },
  {
   "cell_type": "markdown",
   "id": "427a0026",
   "metadata": {},
   "source": [
    "- brand_cd는 동일 브랜드 매장 식별을 위한 구분 코드<br>\n",
    "->num 이라는 고유 키가 있으므로 모델링에는 brand_cd 삭제\n",
    "- 대신 프랜차이즈 여부 정보는 남겨두면 의미가 있으므로 is_franchise 파생변수 생성"
   ]
  },
  {
   "cell_type": "code",
   "execution_count": 64,
   "id": "b769558b",
   "metadata": {},
   "outputs": [
    {
     "name": "stdout",
     "output_type": "stream",
     "text": [
      "삭제 후 컬럼 존재 여부: False\n",
      "          num  is_franchise\n",
      "0  000F03E44A             0\n",
      "1  000F03E44A             0\n",
      "2  000F03E44A             0\n",
      "3  000F03E44A             0\n",
      "4  000F03E44A             0\n"
     ]
    }
   ],
   "source": [
    "#  가맹점 여부 플래그 생성\n",
    "df_final[\"is_franchise\"] = df_final[\"brand_cd\"].notna().astype(int)\n",
    "\n",
    "# brand_cd 컬럼 삭제\n",
    "df_final.drop(columns=[\"brand_cd\"], inplace=True)\n",
    "\n",
    "# 확인\n",
    "print(\"삭제 후 컬럼 존재 여부:\", \"brand_cd\" in df_final.columns)\n",
    "print(df_final[[\"num\", \"is_franchise\"]].head())\n"
   ]
  },
  {
   "cell_type": "markdown",
   "id": "033733f4",
   "metadata": {},
   "source": [
    "- close(폐업 날짜), is_closed(폐업 여부) 변수 삭제<br>\n",
    "*폐업 여부나 폐업일은 아직 일어나지 않은 미래 사건이므로\n",
    "모델의 입력변수로 사용하면 안 됨*"
   ]
  },
  {
   "cell_type": "code",
   "execution_count": 65,
   "id": "993524c5",
   "metadata": {},
   "outputs": [],
   "source": [
    "df_final.drop(columns=[\"close\"], inplace=True)"
   ]
  },
  {
   "cell_type": "code",
   "execution_count": 66,
   "id": "93bab07e",
   "metadata": {},
   "outputs": [],
   "source": [
    "df_final.drop(columns=[\"is_closed\"], inplace=True)"
   ]
  },
  {
   "cell_type": "code",
   "execution_count": 67,
   "id": "beb207bb",
   "metadata": {},
   "outputs": [
    {
     "data": {
      "text/plain": [
       "(86590, 37)"
      ]
     },
     "execution_count": 67,
     "metadata": {},
     "output_type": "execute_result"
    }
   ],
   "source": [
    "df_final.shape"
   ]
  },
  {
   "cell_type": "code",
   "execution_count": 79,
   "id": "ef8e8ae1",
   "metadata": {},
   "outputs": [
    {
     "data": {
      "text/plain": [
       "num                         0\n",
       "ym                          0\n",
       "oper_month_grp              0\n",
       "sales_grp                   0\n",
       "txn_cnt_grp                 0\n",
       "cust_cnt_grp                0\n",
       "avg_pay_grp                 0\n",
       "cancel_rate_grp          6632\n",
       "delivery_sales_ratio    57345\n",
       "rel_sales_ratio             0\n",
       "M1_SME_RY_CNT_RAT           0\n",
       "sales_rank_industry         0\n",
       "sales_rank_market           0\n",
       "share_sales_industry        0\n",
       "share_sales_market      21419\n",
       "male_20below_ratio          0\n",
       "male_30_ratio               0\n",
       "male_40_ratio               0\n",
       "male_50_ratio               0\n",
       "male_60plus_ratio           0\n",
       "female_20below_ratio        0\n",
       "female_30_ratio             0\n",
       "female_40_ratio             0\n",
       "female_50_ratio             0\n",
       "female_60plus_ratio         0\n",
       "revisit_ratio            1643\n",
       "new_ratio                1643\n",
       "resident_ratio           7327\n",
       "worker_ratio             7327\n",
       "floating_ratio           7327\n",
       "sigungu                     0\n",
       "biz_type                    0\n",
       "market                  21419\n",
       "open                        0\n",
       "is_franchise                0\n",
       "dtype: int64"
      ]
     },
     "execution_count": 79,
     "metadata": {},
     "output_type": "execute_result"
    }
   ],
   "source": [
    "# 결측치 비율 확인\n",
    "\n",
    "df_final.isnull().sum()"
   ]
  },
  {
   "cell_type": "markdown",
   "id": "a8b744fd",
   "metadata": {},
   "source": [
    "- addr(주소), name(상호명)은 단순 문자열로 모델링에 제외"
   ]
  },
  {
   "cell_type": "code",
   "execution_count": 69,
   "id": "6cae93f8",
   "metadata": {},
   "outputs": [],
   "source": [
    "df_final.drop(columns=[\"addr\", \"name\"], inplace=True)"
   ]
  },
  {
   "cell_type": "markdown",
   "id": "b6645133",
   "metadata": {},
   "source": [
    "- male_/female_ 변수들은 각 변수의 평균으로 대체"
   ]
  },
  {
   "cell_type": "code",
   "execution_count": 70,
   "id": "35ae381c",
   "metadata": {},
   "outputs": [],
   "source": [
    "cols = [\n",
    "    \"male_20below_ratio\", \"male_30_ratio\", \"male_40_ratio\", \"male_50_ratio\", \"male_60plus_ratio\",\n",
    "    \"female_20below_ratio\", \"female_30_ratio\", \"female_40_ratio\", \"female_50_ratio\", \"female_60plus_ratio\"\n",
    "]\n",
    "\n",
    "df_final[cols] = df_final[cols].fillna(df_final[cols].mean())\n"
   ]
  },
  {
   "cell_type": "code",
   "execution_count": 71,
   "id": "e985ff17",
   "metadata": {},
   "outputs": [
    {
     "data": {
      "text/plain": [
       "num                         0\n",
       "ym                          0\n",
       "oper_month_grp              0\n",
       "sales_grp                   0\n",
       "txn_cnt_grp                 0\n",
       "cust_cnt_grp                0\n",
       "avg_pay_grp                 0\n",
       "cancel_rate_grp          6632\n",
       "delivery_sales_ratio    57345\n",
       "rel_sales_ratio             0\n",
       "M1_SME_RY_CNT_RAT           0\n",
       "sales_rank_industry         0\n",
       "sales_rank_market           0\n",
       "share_sales_industry        0\n",
       "share_sales_market      21419\n",
       "male_20below_ratio          0\n",
       "male_30_ratio               0\n",
       "male_40_ratio               0\n",
       "male_50_ratio               0\n",
       "male_60plus_ratio           0\n",
       "female_20below_ratio        0\n",
       "female_30_ratio             0\n",
       "female_40_ratio             0\n",
       "female_50_ratio             0\n",
       "female_60plus_ratio         0\n",
       "revisit_ratio            1643\n",
       "new_ratio                1643\n",
       "resident_ratio           7327\n",
       "worker_ratio             7327\n",
       "floating_ratio           7327\n",
       "sigungu                     0\n",
       "biz_type                    0\n",
       "market                  21419\n",
       "open                        0\n",
       "is_franchise                0\n",
       "dtype: int64"
      ]
     },
     "execution_count": 71,
     "metadata": {},
     "output_type": "execute_result"
    }
   ],
   "source": [
    "# 결측치 비율 확인\n",
    "\n",
    "df_final.isnull().sum()"
   ]
  },
  {
   "cell_type": "markdown",
   "id": "8b4515e2",
   "metadata": {},
   "source": [
    "---"
   ]
  },
  {
   "cell_type": "code",
   "execution_count": 72,
   "id": "1f68fa83",
   "metadata": {},
   "outputs": [],
   "source": [
    "df = df_final.copy()"
   ]
  },
  {
   "cell_type": "code",
   "execution_count": 73,
   "id": "f95dd8a2",
   "metadata": {},
   "outputs": [
    {
     "data": {
      "text/html": [
       "<div>\n",
       "<style scoped>\n",
       "    .dataframe tbody tr th:only-of-type {\n",
       "        vertical-align: middle;\n",
       "    }\n",
       "\n",
       "    .dataframe tbody tr th {\n",
       "        vertical-align: top;\n",
       "    }\n",
       "\n",
       "    .dataframe thead th {\n",
       "        text-align: right;\n",
       "    }\n",
       "</style>\n",
       "<table border=\"1\" class=\"dataframe\">\n",
       "  <thead>\n",
       "    <tr style=\"text-align: right;\">\n",
       "      <th></th>\n",
       "      <th>num</th>\n",
       "      <th>ym</th>\n",
       "      <th>oper_month_grp</th>\n",
       "      <th>sales_grp</th>\n",
       "      <th>txn_cnt_grp</th>\n",
       "      <th>cust_cnt_grp</th>\n",
       "      <th>avg_pay_grp</th>\n",
       "      <th>cancel_rate_grp</th>\n",
       "      <th>delivery_sales_ratio</th>\n",
       "      <th>rel_sales_ratio</th>\n",
       "      <th>...</th>\n",
       "      <th>revisit_ratio</th>\n",
       "      <th>new_ratio</th>\n",
       "      <th>resident_ratio</th>\n",
       "      <th>worker_ratio</th>\n",
       "      <th>floating_ratio</th>\n",
       "      <th>sigungu</th>\n",
       "      <th>biz_type</th>\n",
       "      <th>market</th>\n",
       "      <th>open</th>\n",
       "      <th>is_franchise</th>\n",
       "    </tr>\n",
       "  </thead>\n",
       "  <tbody>\n",
       "    <tr>\n",
       "      <th>0</th>\n",
       "      <td>000F03E44A</td>\n",
       "      <td>2023-01-01</td>\n",
       "      <td>5_75-90%</td>\n",
       "      <td>6_90%초과(하위 10% 이하)</td>\n",
       "      <td>5_75-90%</td>\n",
       "      <td>5_75-90%</td>\n",
       "      <td>4_50-75%</td>\n",
       "      <td>1_상위1구간</td>\n",
       "      <td>NaN</td>\n",
       "      <td>0.5</td>\n",
       "      <td>...</td>\n",
       "      <td>0.0</td>\n",
       "      <td>100.00</td>\n",
       "      <td>0.0</td>\n",
       "      <td>0.0</td>\n",
       "      <td>100.0</td>\n",
       "      <td>서울 성동구</td>\n",
       "      <td>중식-딤섬/중식만두</td>\n",
       "      <td>뚝섬</td>\n",
       "      <td>2022-02-25</td>\n",
       "      <td>0</td>\n",
       "    </tr>\n",
       "    <tr>\n",
       "      <th>1</th>\n",
       "      <td>000F03E44A</td>\n",
       "      <td>2023-02-01</td>\n",
       "      <td>5_75-90%</td>\n",
       "      <td>6_90%초과(하위 10% 이하)</td>\n",
       "      <td>6_90%초과(하위 10% 이하)</td>\n",
       "      <td>6_90%초과(하위 10% 이하)</td>\n",
       "      <td>6_90%초과(하위 10% 이하)</td>\n",
       "      <td>NaN</td>\n",
       "      <td>NaN</td>\n",
       "      <td>0.0</td>\n",
       "      <td>...</td>\n",
       "      <td>0.0</td>\n",
       "      <td>0.00</td>\n",
       "      <td>NaN</td>\n",
       "      <td>NaN</td>\n",
       "      <td>NaN</td>\n",
       "      <td>서울 성동구</td>\n",
       "      <td>중식-딤섬/중식만두</td>\n",
       "      <td>뚝섬</td>\n",
       "      <td>2022-02-25</td>\n",
       "      <td>0</td>\n",
       "    </tr>\n",
       "    <tr>\n",
       "      <th>2</th>\n",
       "      <td>000F03E44A</td>\n",
       "      <td>2023-03-01</td>\n",
       "      <td>5_75-90%</td>\n",
       "      <td>6_90%초과(하위 10% 이하)</td>\n",
       "      <td>6_90%초과(하위 10% 이하)</td>\n",
       "      <td>6_90%초과(하위 10% 이하)</td>\n",
       "      <td>6_90%초과(하위 10% 이하)</td>\n",
       "      <td>NaN</td>\n",
       "      <td>NaN</td>\n",
       "      <td>0.0</td>\n",
       "      <td>...</td>\n",
       "      <td>0.0</td>\n",
       "      <td>0.00</td>\n",
       "      <td>NaN</td>\n",
       "      <td>NaN</td>\n",
       "      <td>NaN</td>\n",
       "      <td>서울 성동구</td>\n",
       "      <td>중식-딤섬/중식만두</td>\n",
       "      <td>뚝섬</td>\n",
       "      <td>2022-02-25</td>\n",
       "      <td>0</td>\n",
       "    </tr>\n",
       "    <tr>\n",
       "      <th>3</th>\n",
       "      <td>000F03E44A</td>\n",
       "      <td>2023-04-01</td>\n",
       "      <td>5_75-90%</td>\n",
       "      <td>6_90%초과(하위 10% 이하)</td>\n",
       "      <td>5_75-90%</td>\n",
       "      <td>5_75-90%</td>\n",
       "      <td>3_25-50%</td>\n",
       "      <td>1_상위1구간</td>\n",
       "      <td>NaN</td>\n",
       "      <td>1.3</td>\n",
       "      <td>...</td>\n",
       "      <td>0.0</td>\n",
       "      <td>50.00</td>\n",
       "      <td>0.0</td>\n",
       "      <td>100.0</td>\n",
       "      <td>0.0</td>\n",
       "      <td>서울 성동구</td>\n",
       "      <td>중식-딤섬/중식만두</td>\n",
       "      <td>뚝섬</td>\n",
       "      <td>2022-02-25</td>\n",
       "      <td>0</td>\n",
       "    </tr>\n",
       "    <tr>\n",
       "      <th>4</th>\n",
       "      <td>000F03E44A</td>\n",
       "      <td>2023-05-01</td>\n",
       "      <td>5_75-90%</td>\n",
       "      <td>6_90%초과(하위 10% 이하)</td>\n",
       "      <td>5_75-90%</td>\n",
       "      <td>5_75-90%</td>\n",
       "      <td>6_90%초과(하위 10% 이하)</td>\n",
       "      <td>1_상위1구간</td>\n",
       "      <td>NaN</td>\n",
       "      <td>0.0</td>\n",
       "      <td>...</td>\n",
       "      <td>0.0</td>\n",
       "      <td>33.33</td>\n",
       "      <td>0.0</td>\n",
       "      <td>0.0</td>\n",
       "      <td>100.0</td>\n",
       "      <td>서울 성동구</td>\n",
       "      <td>중식-딤섬/중식만두</td>\n",
       "      <td>뚝섬</td>\n",
       "      <td>2022-02-25</td>\n",
       "      <td>0</td>\n",
       "    </tr>\n",
       "  </tbody>\n",
       "</table>\n",
       "<p>5 rows × 35 columns</p>\n",
       "</div>"
      ],
      "text/plain": [
       "          num         ym oper_month_grp           sales_grp  \\\n",
       "0  000F03E44A 2023-01-01       5_75-90%  6_90%초과(하위 10% 이하)   \n",
       "1  000F03E44A 2023-02-01       5_75-90%  6_90%초과(하위 10% 이하)   \n",
       "2  000F03E44A 2023-03-01       5_75-90%  6_90%초과(하위 10% 이하)   \n",
       "3  000F03E44A 2023-04-01       5_75-90%  6_90%초과(하위 10% 이하)   \n",
       "4  000F03E44A 2023-05-01       5_75-90%  6_90%초과(하위 10% 이하)   \n",
       "\n",
       "          txn_cnt_grp        cust_cnt_grp         avg_pay_grp cancel_rate_grp  \\\n",
       "0            5_75-90%            5_75-90%            4_50-75%         1_상위1구간   \n",
       "1  6_90%초과(하위 10% 이하)  6_90%초과(하위 10% 이하)  6_90%초과(하위 10% 이하)             NaN   \n",
       "2  6_90%초과(하위 10% 이하)  6_90%초과(하위 10% 이하)  6_90%초과(하위 10% 이하)             NaN   \n",
       "3            5_75-90%            5_75-90%            3_25-50%         1_상위1구간   \n",
       "4            5_75-90%            5_75-90%  6_90%초과(하위 10% 이하)         1_상위1구간   \n",
       "\n",
       "   delivery_sales_ratio  rel_sales_ratio  ...  revisit_ratio  new_ratio  \\\n",
       "0                   NaN              0.5  ...            0.0     100.00   \n",
       "1                   NaN              0.0  ...            0.0       0.00   \n",
       "2                   NaN              0.0  ...            0.0       0.00   \n",
       "3                   NaN              1.3  ...            0.0      50.00   \n",
       "4                   NaN              0.0  ...            0.0      33.33   \n",
       "\n",
       "   resident_ratio  worker_ratio  floating_ratio  sigungu    biz_type  market  \\\n",
       "0             0.0           0.0           100.0   서울 성동구  중식-딤섬/중식만두      뚝섬   \n",
       "1             NaN           NaN             NaN   서울 성동구  중식-딤섬/중식만두      뚝섬   \n",
       "2             NaN           NaN             NaN   서울 성동구  중식-딤섬/중식만두      뚝섬   \n",
       "3             0.0         100.0             0.0   서울 성동구  중식-딤섬/중식만두      뚝섬   \n",
       "4             0.0           0.0           100.0   서울 성동구  중식-딤섬/중식만두      뚝섬   \n",
       "\n",
       "        open  is_franchise  \n",
       "0 2022-02-25             0  \n",
       "1 2022-02-25             0  \n",
       "2 2022-02-25             0  \n",
       "3 2022-02-25             0  \n",
       "4 2022-02-25             0  \n",
       "\n",
       "[5 rows x 35 columns]"
      ]
     },
     "execution_count": 73,
     "metadata": {},
     "output_type": "execute_result"
    }
   ],
   "source": [
    "df.head()"
   ]
  },
  {
   "cell_type": "code",
   "execution_count": 74,
   "id": "33652725",
   "metadata": {},
   "outputs": [
    {
     "data": {
      "text/plain": [
       "(4185, 9)"
      ]
     },
     "execution_count": 74,
     "metadata": {},
     "output_type": "execute_result"
    }
   ],
   "source": [
    "df_info.shape"
   ]
  },
  {
   "cell_type": "code",
   "execution_count": 75,
   "id": "6358e880",
   "metadata": {},
   "outputs": [
    {
     "data": {
      "text/plain": [
       "(86590, 15)"
      ]
     },
     "execution_count": 75,
     "metadata": {},
     "output_type": "execute_result"
    }
   ],
   "source": [
    "df_usage.shape"
   ]
  },
  {
   "cell_type": "code",
   "execution_count": 76,
   "id": "27298617",
   "metadata": {},
   "outputs": [
    {
     "data": {
      "text/plain": [
       "(86590, 17)"
      ]
     },
     "execution_count": 76,
     "metadata": {},
     "output_type": "execute_result"
    }
   ],
   "source": [
    "df_customer.shape"
   ]
  },
  {
   "cell_type": "markdown",
   "id": "23831261",
   "metadata": {},
   "source": [
    "---"
   ]
  },
  {
   "cell_type": "markdown",
   "id": "e6bb399d",
   "metadata": {},
   "source": [
    "# 2. 데이터 변수 살펴보기"
   ]
  },
  {
   "cell_type": "code",
   "execution_count": 77,
   "id": "e51f7d20",
   "metadata": {},
   "outputs": [
    {
     "name": "stdout",
     "output_type": "stream",
     "text": [
      "['num', 'ym', 'oper_month_grp', 'sales_grp', 'txn_cnt_grp', 'cust_cnt_grp', 'avg_pay_grp', 'cancel_rate_grp', 'delivery_sales_ratio', 'rel_sales_ratio', 'M1_SME_RY_CNT_RAT', 'sales_rank_industry', 'sales_rank_market', 'share_sales_industry', 'share_sales_market', 'male_20below_ratio', 'male_30_ratio', 'male_40_ratio', 'male_50_ratio', 'male_60plus_ratio', 'female_20below_ratio', 'female_30_ratio', 'female_40_ratio', 'female_50_ratio', 'female_60plus_ratio', 'revisit_ratio', 'new_ratio', 'resident_ratio', 'worker_ratio', 'floating_ratio', 'sigungu', 'biz_type', 'market', 'open', 'is_franchise']\n"
     ]
    }
   ],
   "source": [
    "print(df.columns.tolist())"
   ]
  },
  {
   "cell_type": "markdown",
   "id": "8b2ad124",
   "metadata": {},
   "source": [
    "## 1. 키/날짜 변수"
   ]
  },
  {
   "cell_type": "code",
   "execution_count": 78,
   "id": "e1c0644e",
   "metadata": {},
   "outputs": [
    {
     "ename": "KeyError",
     "evalue": "\"['close', 'is_closed'] not in index\"",
     "output_type": "error",
     "traceback": [
      "\u001b[1;31m---------------------------------------------------------------------------\u001b[0m",
      "\u001b[1;31mKeyError\u001b[0m                                  Traceback (most recent call last)",
      "Cell \u001b[1;32mIn[78], line 8\u001b[0m\n\u001b[0;32m      5\u001b[0m df[\u001b[38;5;124m\"\u001b[39m\u001b[38;5;124mym\u001b[39m\u001b[38;5;124m\"\u001b[39m] \u001b[38;5;241m=\u001b[39m pd\u001b[38;5;241m.\u001b[39mto_datetime(df[\u001b[38;5;124m\"\u001b[39m\u001b[38;5;124mym\u001b[39m\u001b[38;5;124m\"\u001b[39m])\u001b[38;5;241m.\u001b[39mdt\u001b[38;5;241m.\u001b[39mto_period(\u001b[38;5;124m\"\u001b[39m\u001b[38;5;124mM\u001b[39m\u001b[38;5;124m\"\u001b[39m)\u001b[38;5;241m.\u001b[39mdt\u001b[38;5;241m.\u001b[39mto_timestamp()\n\u001b[0;32m      7\u001b[0m \u001b[38;5;66;03m# open / close는 datetime64 유지\u001b[39;00m\n\u001b[1;32m----> 8\u001b[0m \u001b[38;5;28mprint\u001b[39m(df[[\u001b[38;5;124m\"\u001b[39m\u001b[38;5;124mnum\u001b[39m\u001b[38;5;124m\"\u001b[39m,\u001b[38;5;124m\"\u001b[39m\u001b[38;5;124mym\u001b[39m\u001b[38;5;124m\"\u001b[39m,\u001b[38;5;124m\"\u001b[39m\u001b[38;5;124mopen\u001b[39m\u001b[38;5;124m\"\u001b[39m,\u001b[38;5;124m\"\u001b[39m\u001b[38;5;124mclose\u001b[39m\u001b[38;5;124m\"\u001b[39m,\u001b[38;5;124m\"\u001b[39m\u001b[38;5;124mis_closed\u001b[39m\u001b[38;5;124m\"\u001b[39m]]\u001b[38;5;241m.\u001b[39mhead())\n",
      "File \u001b[1;32mc:\\Users\\windows\\anaconda3\\Lib\\site-packages\\pandas\\core\\frame.py:3899\u001b[0m, in \u001b[0;36mDataFrame.__getitem__\u001b[1;34m(self, key)\u001b[0m\n\u001b[0;32m   3897\u001b[0m     \u001b[38;5;28;01mif\u001b[39;00m is_iterator(key):\n\u001b[0;32m   3898\u001b[0m         key \u001b[38;5;241m=\u001b[39m \u001b[38;5;28mlist\u001b[39m(key)\n\u001b[1;32m-> 3899\u001b[0m     indexer \u001b[38;5;241m=\u001b[39m \u001b[38;5;28mself\u001b[39m\u001b[38;5;241m.\u001b[39mcolumns\u001b[38;5;241m.\u001b[39m_get_indexer_strict(key, \u001b[38;5;124m\"\u001b[39m\u001b[38;5;124mcolumns\u001b[39m\u001b[38;5;124m\"\u001b[39m)[\u001b[38;5;241m1\u001b[39m]\n\u001b[0;32m   3901\u001b[0m \u001b[38;5;66;03m# take() does not accept boolean indexers\u001b[39;00m\n\u001b[0;32m   3902\u001b[0m \u001b[38;5;28;01mif\u001b[39;00m \u001b[38;5;28mgetattr\u001b[39m(indexer, \u001b[38;5;124m\"\u001b[39m\u001b[38;5;124mdtype\u001b[39m\u001b[38;5;124m\"\u001b[39m, \u001b[38;5;28;01mNone\u001b[39;00m) \u001b[38;5;241m==\u001b[39m \u001b[38;5;28mbool\u001b[39m:\n",
      "File \u001b[1;32mc:\\Users\\windows\\anaconda3\\Lib\\site-packages\\pandas\\core\\indexes\\base.py:6115\u001b[0m, in \u001b[0;36mIndex._get_indexer_strict\u001b[1;34m(self, key, axis_name)\u001b[0m\n\u001b[0;32m   6112\u001b[0m \u001b[38;5;28;01melse\u001b[39;00m:\n\u001b[0;32m   6113\u001b[0m     keyarr, indexer, new_indexer \u001b[38;5;241m=\u001b[39m \u001b[38;5;28mself\u001b[39m\u001b[38;5;241m.\u001b[39m_reindex_non_unique(keyarr)\n\u001b[1;32m-> 6115\u001b[0m \u001b[38;5;28mself\u001b[39m\u001b[38;5;241m.\u001b[39m_raise_if_missing(keyarr, indexer, axis_name)\n\u001b[0;32m   6117\u001b[0m keyarr \u001b[38;5;241m=\u001b[39m \u001b[38;5;28mself\u001b[39m\u001b[38;5;241m.\u001b[39mtake(indexer)\n\u001b[0;32m   6118\u001b[0m \u001b[38;5;28;01mif\u001b[39;00m \u001b[38;5;28misinstance\u001b[39m(key, Index):\n\u001b[0;32m   6119\u001b[0m     \u001b[38;5;66;03m# GH 42790 - Preserve name from an Index\u001b[39;00m\n",
      "File \u001b[1;32mc:\\Users\\windows\\anaconda3\\Lib\\site-packages\\pandas\\core\\indexes\\base.py:6179\u001b[0m, in \u001b[0;36mIndex._raise_if_missing\u001b[1;34m(self, key, indexer, axis_name)\u001b[0m\n\u001b[0;32m   6176\u001b[0m     \u001b[38;5;28;01mraise\u001b[39;00m \u001b[38;5;167;01mKeyError\u001b[39;00m(\u001b[38;5;124mf\u001b[39m\u001b[38;5;124m\"\u001b[39m\u001b[38;5;124mNone of [\u001b[39m\u001b[38;5;132;01m{\u001b[39;00mkey\u001b[38;5;132;01m}\u001b[39;00m\u001b[38;5;124m] are in the [\u001b[39m\u001b[38;5;132;01m{\u001b[39;00maxis_name\u001b[38;5;132;01m}\u001b[39;00m\u001b[38;5;124m]\u001b[39m\u001b[38;5;124m\"\u001b[39m)\n\u001b[0;32m   6178\u001b[0m not_found \u001b[38;5;241m=\u001b[39m \u001b[38;5;28mlist\u001b[39m(ensure_index(key)[missing_mask\u001b[38;5;241m.\u001b[39mnonzero()[\u001b[38;5;241m0\u001b[39m]]\u001b[38;5;241m.\u001b[39munique())\n\u001b[1;32m-> 6179\u001b[0m \u001b[38;5;28;01mraise\u001b[39;00m \u001b[38;5;167;01mKeyError\u001b[39;00m(\u001b[38;5;124mf\u001b[39m\u001b[38;5;124m\"\u001b[39m\u001b[38;5;132;01m{\u001b[39;00mnot_found\u001b[38;5;132;01m}\u001b[39;00m\u001b[38;5;124m not in index\u001b[39m\u001b[38;5;124m\"\u001b[39m)\n",
      "\u001b[1;31mKeyError\u001b[0m: \"['close', 'is_closed'] not in index\""
     ]
    }
   ],
   "source": [
    "# 가맹점 ID를 문자열로 통일\n",
    "df[\"num\"] = df[\"num\"].astype(str)\n",
    "\n",
    "# ym → 월 단위(datetime) 변환\n",
    "df[\"ym\"] = pd.to_datetime(df[\"ym\"]).dt.to_period(\"M\").dt.to_timestamp()\n",
    "\n",
    "# open / close는 datetime64 유지\n",
    "print(df[[\"num\",\"ym\",\"open\",\"close\",\"is_closed\"]].head())\n"
   ]
  },
  {
   "cell_type": "markdown",
   "id": "430f23f8",
   "metadata": {},
   "source": [
    "## 2. 구간형 변수"
   ]
  },
  {
   "cell_type": "code",
   "execution_count": null,
   "id": "b589a1d2",
   "metadata": {},
   "outputs": [
    {
     "name": "stdout",
     "output_type": "stream",
     "text": [
      "구간형 변수 dtype 확인:\n",
      "oper_month_grp     category\n",
      "sales_grp          category\n",
      "txn_cnt_grp        category\n",
      "cust_cnt_grp       category\n",
      "avg_pay_grp        category\n",
      "cancel_rate_grp    category\n",
      "dtype: object\n"
     ]
    }
   ],
   "source": [
    "group_cols = [\n",
    "    \"oper_month_grp\", \"sales_grp\", \"txn_cnt_grp\",\n",
    "    \"cust_cnt_grp\", \"avg_pay_grp\", \"cancel_rate_grp\"\n",
    "]\n",
    "\n",
    "for c in group_cols:\n",
    "    if c in df.columns:\n",
    "        df[c] = df[c].astype(\"category\")\n",
    "\n",
    "print(\"구간형 변수 dtype 확인:\")\n",
    "print(df[group_cols].dtypes)\n"
   ]
  },
  {
   "cell_type": "markdown",
   "id": "002d3623",
   "metadata": {},
   "source": [
    "## 3. 연속형 수치 변수 (비율)"
   ]
  },
  {
   "cell_type": "code",
   "execution_count": null,
   "id": "aed8e417",
   "metadata": {},
   "outputs": [
    {
     "name": "stdout",
     "output_type": "stream",
     "text": [
      "연속형 변수 요약:\n",
      "                        count        mean         std  min   25%   50%    75%  \\\n",
      "delivery_sales_ratio  86590.0    9.384783   22.044341  0.0   0.0   0.0    3.4   \n",
      "rel_sales_ratio       86590.0  128.436716  146.402937  0.0  24.4  81.1  179.1   \n",
      "M1_SME_RY_CNT_RAT     86590.0  136.754058  164.268819  0.0  20.3  78.4  192.4   \n",
      "sales_rank_industry   86590.0   31.184643   25.253279  0.1   9.9  23.9   48.2   \n",
      "sales_rank_market     86590.0   24.070313   22.843491  0.0   1.3  18.9   39.2   \n",
      "\n",
      "                         max  \n",
      "delivery_sales_ratio   111.2  \n",
      "rel_sales_ratio        999.6  \n",
      "M1_SME_RY_CNT_RAT     1000.0  \n",
      "sales_rank_industry    100.0  \n",
      "sales_rank_market       99.6  \n"
     ]
    }
   ],
   "source": [
    "ratio_cols = [\n",
    "    \"delivery_sales_ratio\", \"rel_sales_ratio\", \"M1_SME_RY_CNT_RAT\",\n",
    "    \"sales_rank_industry\", \"sales_rank_market\",\n",
    "    \"share_sales_industry\", \"share_sales_market\",\n",
    "    \"revisit_ratio\", \"new_ratio\",\n",
    "    \"resident_ratio\", \"worker_ratio\", \"floating_ratio\",\n",
    "    \"male_20below_ratio\", \"male_30_ratio\", \"male_40_ratio\", \n",
    "    \"male_50_ratio\", \"male_60plus_ratio\",\n",
    "    \"female_20below_ratio\", \"female_30_ratio\", \"female_40_ratio\", \n",
    "    \"female_50_ratio\", \"female_60plus_ratio\"\n",
    "]\n",
    "\n",
    "for c in ratio_cols:\n",
    "    if c in df.columns:\n",
    "        # 숫자형 변환\n",
    "        df[c] = pd.to_numeric(df[c], errors=\"coerce\")\n",
    "\n",
    "        # 음수/비정상 값 NaN 처리\n",
    "        df.loc[df[c] < 0, c] = np.nan\n",
    "        df.loc[df[c] > 1000, c] = np.nan\n",
    "\n",
    "        # NaN → 0으로 채우기 (분석 편의)\n",
    "        df[c] = df[c].fillna(0)\n",
    "\n",
    "print(\"연속형 변수 요약:\")\n",
    "print(df[ratio_cols].describe().T.head())\n"
   ]
  },
  {
   "cell_type": "markdown",
   "id": "a59f59d4",
   "metadata": {},
   "source": [
    "## 4. 문자형 변수"
   ]
  },
  {
   "cell_type": "code",
   "execution_count": null,
   "id": "4a5a37a3",
   "metadata": {},
   "outputs": [
    {
     "name": "stdout",
     "output_type": "stream",
     "text": [
      "문자형 변수 예시:\n",
      "                  addr  name brand_cd sigungu    biz_type market\n",
      "0  서울특별시 성동구 왕십리로4가길 9  육육**  unknown  서울 성동구  중식-딤섬/중식만두     뚝섬\n",
      "1  서울특별시 성동구 왕십리로4가길 9  육육**  unknown  서울 성동구  중식-딤섬/중식만두     뚝섬\n",
      "2  서울특별시 성동구 왕십리로4가길 9  육육**  unknown  서울 성동구  중식-딤섬/중식만두     뚝섬\n",
      "3  서울특별시 성동구 왕십리로4가길 9  육육**  unknown  서울 성동구  중식-딤섬/중식만두     뚝섬\n",
      "4  서울특별시 성동구 왕십리로4가길 9  육육**  unknown  서울 성동구  중식-딤섬/중식만두     뚝섬\n"
     ]
    }
   ],
   "source": [
    "text_cols = [\"addr\", \"name\", \"brand_cd\", \"sigungu\", \"biz_type\", \"market\"]\n",
    "\n",
    "for c in text_cols:\n",
    "    if c in df.columns:\n",
    "        df[c] = df[c].fillna(\"unknown\")\n",
    "\n",
    "print(\"문자형 변수 예시:\")\n",
    "print(df[text_cols].head())"
   ]
  },
  {
   "cell_type": "code",
   "execution_count": null,
   "id": "c1cc8456",
   "metadata": {},
   "outputs": [
    {
     "name": "stdout",
     "output_type": "stream",
     "text": [
      "데이터 타입별 개수:\n",
      "float64           22\n",
      "object             7\n",
      "category           5\n",
      "datetime64[ns]     3\n",
      "category           1\n",
      "int32              1\n",
      "Name: count, dtype: int64\n",
      "---------------------------\n",
      "\n",
      " 최종 데이터 크기: (86590, 39)\n"
     ]
    },
    {
     "data": {
      "text/html": [
       "<div>\n",
       "<style scoped>\n",
       "    .dataframe tbody tr th:only-of-type {\n",
       "        vertical-align: middle;\n",
       "    }\n",
       "\n",
       "    .dataframe tbody tr th {\n",
       "        vertical-align: top;\n",
       "    }\n",
       "\n",
       "    .dataframe thead th {\n",
       "        text-align: right;\n",
       "    }\n",
       "</style>\n",
       "<table border=\"1\" class=\"dataframe\">\n",
       "  <thead>\n",
       "    <tr style=\"text-align: right;\">\n",
       "      <th></th>\n",
       "      <th>num</th>\n",
       "      <th>ym</th>\n",
       "      <th>oper_month_grp</th>\n",
       "      <th>sales_grp</th>\n",
       "      <th>txn_cnt_grp</th>\n",
       "      <th>cust_cnt_grp</th>\n",
       "      <th>avg_pay_grp</th>\n",
       "      <th>cancel_rate_grp</th>\n",
       "      <th>delivery_sales_ratio</th>\n",
       "      <th>rel_sales_ratio</th>\n",
       "      <th>...</th>\n",
       "      <th>floating_ratio</th>\n",
       "      <th>addr</th>\n",
       "      <th>name</th>\n",
       "      <th>brand_cd</th>\n",
       "      <th>sigungu</th>\n",
       "      <th>biz_type</th>\n",
       "      <th>market</th>\n",
       "      <th>open</th>\n",
       "      <th>close</th>\n",
       "      <th>is_closed</th>\n",
       "    </tr>\n",
       "  </thead>\n",
       "  <tbody>\n",
       "    <tr>\n",
       "      <th>0</th>\n",
       "      <td>000F03E44A</td>\n",
       "      <td>2023-01-01</td>\n",
       "      <td>5_75-90%</td>\n",
       "      <td>6_90%초과(하위 10% 이하)</td>\n",
       "      <td>5_75-90%</td>\n",
       "      <td>5_75-90%</td>\n",
       "      <td>4_50-75%</td>\n",
       "      <td>1_상위1구간</td>\n",
       "      <td>0.0</td>\n",
       "      <td>0.5</td>\n",
       "      <td>...</td>\n",
       "      <td>100.0</td>\n",
       "      <td>서울특별시 성동구 왕십리로4가길 9</td>\n",
       "      <td>육육**</td>\n",
       "      <td>unknown</td>\n",
       "      <td>서울 성동구</td>\n",
       "      <td>중식-딤섬/중식만두</td>\n",
       "      <td>뚝섬</td>\n",
       "      <td>2022-02-25</td>\n",
       "      <td>NaT</td>\n",
       "      <td>0</td>\n",
       "    </tr>\n",
       "    <tr>\n",
       "      <th>1</th>\n",
       "      <td>000F03E44A</td>\n",
       "      <td>2023-02-01</td>\n",
       "      <td>5_75-90%</td>\n",
       "      <td>6_90%초과(하위 10% 이하)</td>\n",
       "      <td>6_90%초과(하위 10% 이하)</td>\n",
       "      <td>6_90%초과(하위 10% 이하)</td>\n",
       "      <td>6_90%초과(하위 10% 이하)</td>\n",
       "      <td>NaN</td>\n",
       "      <td>0.0</td>\n",
       "      <td>0.0</td>\n",
       "      <td>...</td>\n",
       "      <td>0.0</td>\n",
       "      <td>서울특별시 성동구 왕십리로4가길 9</td>\n",
       "      <td>육육**</td>\n",
       "      <td>unknown</td>\n",
       "      <td>서울 성동구</td>\n",
       "      <td>중식-딤섬/중식만두</td>\n",
       "      <td>뚝섬</td>\n",
       "      <td>2022-02-25</td>\n",
       "      <td>NaT</td>\n",
       "      <td>0</td>\n",
       "    </tr>\n",
       "    <tr>\n",
       "      <th>2</th>\n",
       "      <td>000F03E44A</td>\n",
       "      <td>2023-03-01</td>\n",
       "      <td>5_75-90%</td>\n",
       "      <td>6_90%초과(하위 10% 이하)</td>\n",
       "      <td>6_90%초과(하위 10% 이하)</td>\n",
       "      <td>6_90%초과(하위 10% 이하)</td>\n",
       "      <td>6_90%초과(하위 10% 이하)</td>\n",
       "      <td>NaN</td>\n",
       "      <td>0.0</td>\n",
       "      <td>0.0</td>\n",
       "      <td>...</td>\n",
       "      <td>0.0</td>\n",
       "      <td>서울특별시 성동구 왕십리로4가길 9</td>\n",
       "      <td>육육**</td>\n",
       "      <td>unknown</td>\n",
       "      <td>서울 성동구</td>\n",
       "      <td>중식-딤섬/중식만두</td>\n",
       "      <td>뚝섬</td>\n",
       "      <td>2022-02-25</td>\n",
       "      <td>NaT</td>\n",
       "      <td>0</td>\n",
       "    </tr>\n",
       "    <tr>\n",
       "      <th>3</th>\n",
       "      <td>000F03E44A</td>\n",
       "      <td>2023-04-01</td>\n",
       "      <td>5_75-90%</td>\n",
       "      <td>6_90%초과(하위 10% 이하)</td>\n",
       "      <td>5_75-90%</td>\n",
       "      <td>5_75-90%</td>\n",
       "      <td>3_25-50%</td>\n",
       "      <td>1_상위1구간</td>\n",
       "      <td>0.0</td>\n",
       "      <td>1.3</td>\n",
       "      <td>...</td>\n",
       "      <td>0.0</td>\n",
       "      <td>서울특별시 성동구 왕십리로4가길 9</td>\n",
       "      <td>육육**</td>\n",
       "      <td>unknown</td>\n",
       "      <td>서울 성동구</td>\n",
       "      <td>중식-딤섬/중식만두</td>\n",
       "      <td>뚝섬</td>\n",
       "      <td>2022-02-25</td>\n",
       "      <td>NaT</td>\n",
       "      <td>0</td>\n",
       "    </tr>\n",
       "    <tr>\n",
       "      <th>4</th>\n",
       "      <td>000F03E44A</td>\n",
       "      <td>2023-05-01</td>\n",
       "      <td>5_75-90%</td>\n",
       "      <td>6_90%초과(하위 10% 이하)</td>\n",
       "      <td>5_75-90%</td>\n",
       "      <td>5_75-90%</td>\n",
       "      <td>6_90%초과(하위 10% 이하)</td>\n",
       "      <td>1_상위1구간</td>\n",
       "      <td>0.0</td>\n",
       "      <td>0.0</td>\n",
       "      <td>...</td>\n",
       "      <td>100.0</td>\n",
       "      <td>서울특별시 성동구 왕십리로4가길 9</td>\n",
       "      <td>육육**</td>\n",
       "      <td>unknown</td>\n",
       "      <td>서울 성동구</td>\n",
       "      <td>중식-딤섬/중식만두</td>\n",
       "      <td>뚝섬</td>\n",
       "      <td>2022-02-25</td>\n",
       "      <td>NaT</td>\n",
       "      <td>0</td>\n",
       "    </tr>\n",
       "  </tbody>\n",
       "</table>\n",
       "<p>5 rows × 39 columns</p>\n",
       "</div>"
      ],
      "text/plain": [
       "          num         ym oper_month_grp           sales_grp  \\\n",
       "0  000F03E44A 2023-01-01       5_75-90%  6_90%초과(하위 10% 이하)   \n",
       "1  000F03E44A 2023-02-01       5_75-90%  6_90%초과(하위 10% 이하)   \n",
       "2  000F03E44A 2023-03-01       5_75-90%  6_90%초과(하위 10% 이하)   \n",
       "3  000F03E44A 2023-04-01       5_75-90%  6_90%초과(하위 10% 이하)   \n",
       "4  000F03E44A 2023-05-01       5_75-90%  6_90%초과(하위 10% 이하)   \n",
       "\n",
       "          txn_cnt_grp        cust_cnt_grp         avg_pay_grp cancel_rate_grp  \\\n",
       "0            5_75-90%            5_75-90%            4_50-75%         1_상위1구간   \n",
       "1  6_90%초과(하위 10% 이하)  6_90%초과(하위 10% 이하)  6_90%초과(하위 10% 이하)             NaN   \n",
       "2  6_90%초과(하위 10% 이하)  6_90%초과(하위 10% 이하)  6_90%초과(하위 10% 이하)             NaN   \n",
       "3            5_75-90%            5_75-90%            3_25-50%         1_상위1구간   \n",
       "4            5_75-90%            5_75-90%  6_90%초과(하위 10% 이하)         1_상위1구간   \n",
       "\n",
       "   delivery_sales_ratio  rel_sales_ratio  ...  floating_ratio  \\\n",
       "0                   0.0              0.5  ...           100.0   \n",
       "1                   0.0              0.0  ...             0.0   \n",
       "2                   0.0              0.0  ...             0.0   \n",
       "3                   0.0              1.3  ...             0.0   \n",
       "4                   0.0              0.0  ...           100.0   \n",
       "\n",
       "                  addr  name  brand_cd  sigungu    biz_type  market  \\\n",
       "0  서울특별시 성동구 왕십리로4가길 9  육육**   unknown   서울 성동구  중식-딤섬/중식만두      뚝섬   \n",
       "1  서울특별시 성동구 왕십리로4가길 9  육육**   unknown   서울 성동구  중식-딤섬/중식만두      뚝섬   \n",
       "2  서울특별시 성동구 왕십리로4가길 9  육육**   unknown   서울 성동구  중식-딤섬/중식만두      뚝섬   \n",
       "3  서울특별시 성동구 왕십리로4가길 9  육육**   unknown   서울 성동구  중식-딤섬/중식만두      뚝섬   \n",
       "4  서울특별시 성동구 왕십리로4가길 9  육육**   unknown   서울 성동구  중식-딤섬/중식만두      뚝섬   \n",
       "\n",
       "        open  close  is_closed  \n",
       "0 2022-02-25    NaT          0  \n",
       "1 2022-02-25    NaT          0  \n",
       "2 2022-02-25    NaT          0  \n",
       "3 2022-02-25    NaT          0  \n",
       "4 2022-02-25    NaT          0  \n",
       "\n",
       "[5 rows x 39 columns]"
      ]
     },
     "execution_count": 16,
     "metadata": {},
     "output_type": "execute_result"
    }
   ],
   "source": [
    "print(\"데이터 타입별 개수:\")\n",
    "print(df.dtypes.value_counts())\n",
    "print('---------------------------')\n",
    "print(\"\\n 최종 데이터 크기:\", df.shape)\n",
    "df.head()\n"
   ]
  },
  {
   "cell_type": "markdown",
   "id": "a4fff14b",
   "metadata": {},
   "source": [
    "---"
   ]
  },
  {
   "cell_type": "markdown",
   "id": "e3415005",
   "metadata": {},
   "source": [
    "## 1. df_info (데이터셋1)"
   ]
  },
  {
   "cell_type": "code",
   "execution_count": null,
   "id": "750d9f82",
   "metadata": {},
   "outputs": [
    {
     "data": {
      "text/html": [
       "<div>\n",
       "<style scoped>\n",
       "    .dataframe tbody tr th:only-of-type {\n",
       "        vertical-align: middle;\n",
       "    }\n",
       "\n",
       "    .dataframe tbody tr th {\n",
       "        vertical-align: top;\n",
       "    }\n",
       "\n",
       "    .dataframe thead th {\n",
       "        text-align: right;\n",
       "    }\n",
       "</style>\n",
       "<table border=\"1\" class=\"dataframe\">\n",
       "  <thead>\n",
       "    <tr style=\"text-align: right;\">\n",
       "      <th></th>\n",
       "      <th>num</th>\n",
       "      <th>addr</th>\n",
       "      <th>name</th>\n",
       "      <th>brand_cd</th>\n",
       "      <th>sigungu</th>\n",
       "      <th>biz_type</th>\n",
       "      <th>market</th>\n",
       "      <th>open</th>\n",
       "      <th>close</th>\n",
       "    </tr>\n",
       "  </thead>\n",
       "  <tbody>\n",
       "    <tr>\n",
       "      <th>0</th>\n",
       "      <td>16184E93D9</td>\n",
       "      <td>서울 성동구 마장동</td>\n",
       "      <td>성우**</td>\n",
       "      <td>NaN</td>\n",
       "      <td>서울 성동구</td>\n",
       "      <td>축산물</td>\n",
       "      <td>마장동</td>\n",
       "      <td>2013-03-20</td>\n",
       "      <td>NaT</td>\n",
       "    </tr>\n",
       "    <tr>\n",
       "      <th>1</th>\n",
       "      <td>4D039EA8B7</td>\n",
       "      <td>서울 성동구 마장동</td>\n",
       "      <td>대보**</td>\n",
       "      <td>NaN</td>\n",
       "      <td>서울 성동구</td>\n",
       "      <td>축산물</td>\n",
       "      <td>마장동</td>\n",
       "      <td>2013-11-22</td>\n",
       "      <td>NaT</td>\n",
       "    </tr>\n",
       "    <tr>\n",
       "      <th>2</th>\n",
       "      <td>0074C4990A</td>\n",
       "      <td>서울 성동구 마장동</td>\n",
       "      <td>대용**</td>\n",
       "      <td>NaN</td>\n",
       "      <td>서울 성동구</td>\n",
       "      <td>축산물</td>\n",
       "      <td>마장동</td>\n",
       "      <td>2014-05-12</td>\n",
       "      <td>NaT</td>\n",
       "    </tr>\n",
       "    <tr>\n",
       "      <th>3</th>\n",
       "      <td>68308F2746</td>\n",
       "      <td>서울 성동구 마장동</td>\n",
       "      <td>통일**</td>\n",
       "      <td>NaN</td>\n",
       "      <td>서울 성동구</td>\n",
       "      <td>축산물</td>\n",
       "      <td>마장동</td>\n",
       "      <td>2015-11-24</td>\n",
       "      <td>NaT</td>\n",
       "    </tr>\n",
       "    <tr>\n",
       "      <th>4</th>\n",
       "      <td>4117EDDE9C</td>\n",
       "      <td>서울 성동구 마장동</td>\n",
       "      <td>한울**</td>\n",
       "      <td>NaN</td>\n",
       "      <td>서울 성동구</td>\n",
       "      <td>축산물</td>\n",
       "      <td>마장동</td>\n",
       "      <td>2015-12-11</td>\n",
       "      <td>NaT</td>\n",
       "    </tr>\n",
       "  </tbody>\n",
       "</table>\n",
       "</div>"
      ],
      "text/plain": [
       "          num        addr  name brand_cd sigungu biz_type market       open  \\\n",
       "0  16184E93D9  서울 성동구 마장동  성우**      NaN  서울 성동구      축산물    마장동 2013-03-20   \n",
       "1  4D039EA8B7  서울 성동구 마장동  대보**      NaN  서울 성동구      축산물    마장동 2013-11-22   \n",
       "2  0074C4990A  서울 성동구 마장동  대용**      NaN  서울 성동구      축산물    마장동 2014-05-12   \n",
       "3  68308F2746  서울 성동구 마장동  통일**      NaN  서울 성동구      축산물    마장동 2015-11-24   \n",
       "4  4117EDDE9C  서울 성동구 마장동  한울**      NaN  서울 성동구      축산물    마장동 2015-12-11   \n",
       "\n",
       "  close  \n",
       "0   NaT  \n",
       "1   NaT  \n",
       "2   NaT  \n",
       "3   NaT  \n",
       "4   NaT  "
      ]
     },
     "execution_count": 17,
     "metadata": {},
     "output_type": "execute_result"
    }
   ],
   "source": [
    "df_info.head()"
   ]
  },
  {
   "cell_type": "code",
   "execution_count": null,
   "id": "1e082c4c",
   "metadata": {},
   "outputs": [
    {
     "name": "stdout",
     "output_type": "stream",
     "text": [
      "총 가맹점 수: 4185\n",
      "운영 중: 4058\n",
      "폐업: 127\n"
     ]
    }
   ],
   "source": [
    "# 1-1. 기본 현황\n",
    "print(\"총 가맹점 수:\", df_info.shape[0])\n",
    "print(\"운영 중:\", (df_info[\"close\"].isna()).sum()) # close가 NaT면 운영 중이라고 간주함.\n",
    "print(\"폐업:\", (df_info[\"close\"].notna()).sum())"
   ]
  },
  {
   "cell_type": "code",
   "execution_count": null,
   "id": "902e5968",
   "metadata": {},
   "outputs": [
    {
     "data": {
      "text/plain": [
       "num            0\n",
       "addr           0\n",
       "name           0\n",
       "brand_cd    3643\n",
       "sigungu        0\n",
       "biz_type       0\n",
       "market      1047\n",
       "open           0\n",
       "close       4058\n",
       "dtype: int64"
      ]
     },
     "execution_count": 28,
     "metadata": {},
     "output_type": "execute_result"
    }
   ],
   "source": [
    "df_info.isna().sum()"
   ]
  },
  {
   "cell_type": "markdown",
   "id": "5970fef3",
   "metadata": {},
   "source": [
    "### 폐업 가맹점 집중 EDA!!!"
   ]
  },
  {
   "cell_type": "code",
   "execution_count": null,
   "id": "3f65e822",
   "metadata": {},
   "outputs": [
    {
     "name": "stdout",
     "output_type": "stream",
     "text": [
      "폐업 가맹점 수: 127\n",
      "생존 가맹점 수: 4058\n"
     ]
    }
   ],
   "source": [
    "# 폐업 가맹점만 추출\n",
    "closed_info = df_info[df_info[\"close\"].notna()].copy()\n",
    "print(\"폐업 가맹점 수:\", closed_info.shape[0])\n",
    "\n",
    "# 폐업 직전 월(= close 이전 가장 최근 ym) 추출\n",
    "# closed_last : 폐업일(close) 바로 전에 기록된 월별 이용정보(df_usage)\n",
    "closed_last = (\n",
    "    df_usage.merge(closed_info[[\"num\",\"close\"]], on=\"num\")\n",
    "    .query(\"ym < close\")   # 폐업일 이전 데이터만\n",
    "    .sort_values([\"num\",\"ym\"])\n",
    "    .groupby(\"num\")\n",
    "    .tail(1)               # 폐업 직전 데이터\n",
    ")\n",
    "\n",
    "# 생존 가맹점: 폐업 안한 애들 중 가장 최근 ym 데이터\n",
    "# alive_last : 운영 중인 가맹점의 가장 최근 관측치\n",
    "alive_info = df_info[df_info[\"close\"].isna()].copy()\n",
    "print(\"생존 가맹점 수:\", alive_info.shape[0])\n",
    "alive_last = (\n",
    "    df_usage.merge(alive_info[[\"num\"]], on=\"num\")\n",
    "    .sort_values([\"num\",\"ym\"])\n",
    "    .groupby(\"num\")\n",
    "    .tail(1)\n",
    ")"
   ]
  },
  {
   "cell_type": "code",
   "execution_count": null,
   "id": "50c5360b",
   "metadata": {},
   "outputs": [
    {
     "data": {
      "text/html": [
       "<div>\n",
       "<style scoped>\n",
       "    .dataframe tbody tr th:only-of-type {\n",
       "        vertical-align: middle;\n",
       "    }\n",
       "\n",
       "    .dataframe tbody tr th {\n",
       "        vertical-align: top;\n",
       "    }\n",
       "\n",
       "    .dataframe thead th {\n",
       "        text-align: right;\n",
       "    }\n",
       "</style>\n",
       "<table border=\"1\" class=\"dataframe\">\n",
       "  <thead>\n",
       "    <tr style=\"text-align: right;\">\n",
       "      <th></th>\n",
       "      <th>num</th>\n",
       "      <th>ym</th>\n",
       "      <th>oper_month_grp</th>\n",
       "      <th>sales_grp</th>\n",
       "      <th>txn_cnt_grp</th>\n",
       "      <th>cust_cnt_grp</th>\n",
       "      <th>avg_pay_grp</th>\n",
       "      <th>cancel_rate_grp</th>\n",
       "      <th>delivery_sales_ratio</th>\n",
       "      <th>rel_sales_ratio</th>\n",
       "      <th>M1_SME_RY_CNT_RAT</th>\n",
       "      <th>sales_rank_industry</th>\n",
       "      <th>sales_rank_market</th>\n",
       "      <th>share_sales_industry</th>\n",
       "      <th>share_sales_market</th>\n",
       "      <th>close</th>\n",
       "    </tr>\n",
       "  </thead>\n",
       "  <tbody>\n",
       "    <tr>\n",
       "      <th>10</th>\n",
       "      <td>04393D7C92</td>\n",
       "      <td>2024-12-01</td>\n",
       "      <td>3_25-50%</td>\n",
       "      <td>5_75-90%</td>\n",
       "      <td>5_75-90%</td>\n",
       "      <td>4_50-75%</td>\n",
       "      <td>4_50-75%</td>\n",
       "      <td>1_상위1구간</td>\n",
       "      <td>50.8</td>\n",
       "      <td>9.1</td>\n",
       "      <td>17.5</td>\n",
       "      <td>57.9</td>\n",
       "      <td>0.0</td>\n",
       "      <td>16.2</td>\n",
       "      <td>-999999.9</td>\n",
       "      <td>2025-07-23</td>\n",
       "    </tr>\n",
       "    <tr>\n",
       "      <th>25</th>\n",
       "      <td>0507C6C859</td>\n",
       "      <td>2024-12-01</td>\n",
       "      <td>5_75-90%</td>\n",
       "      <td>5_75-90%</td>\n",
       "      <td>5_75-90%</td>\n",
       "      <td>5_75-90%</td>\n",
       "      <td>4_50-75%</td>\n",
       "      <td>1_상위1구간</td>\n",
       "      <td>77.2</td>\n",
       "      <td>3.9</td>\n",
       "      <td>3.8</td>\n",
       "      <td>55.8</td>\n",
       "      <td>57.7</td>\n",
       "      <td>20.2</td>\n",
       "      <td>10.5</td>\n",
       "      <td>2025-08-19</td>\n",
       "    </tr>\n",
       "    <tr>\n",
       "      <th>2090</th>\n",
       "      <td>08336C3B85</td>\n",
       "      <td>2024-12-01</td>\n",
       "      <td>3_25-50%</td>\n",
       "      <td>2_10-25%</td>\n",
       "      <td>2_10-25%</td>\n",
       "      <td>2_10-25%</td>\n",
       "      <td>4_50-75%</td>\n",
       "      <td>2_상위2구간</td>\n",
       "      <td>-999999.9</td>\n",
       "      <td>149.8</td>\n",
       "      <td>363.0</td>\n",
       "      <td>15.7</td>\n",
       "      <td>0.0</td>\n",
       "      <td>16.2</td>\n",
       "      <td>-999999.9</td>\n",
       "      <td>2025-07-02</td>\n",
       "    </tr>\n",
       "    <tr>\n",
       "      <th>2316</th>\n",
       "      <td>099CBF2425</td>\n",
       "      <td>2023-04-01</td>\n",
       "      <td>6_90%초과(하위 10% 이하)</td>\n",
       "      <td>5_75-90%</td>\n",
       "      <td>5_75-90%</td>\n",
       "      <td>5_75-90%</td>\n",
       "      <td>4_50-75%</td>\n",
       "      <td>1_상위1구간</td>\n",
       "      <td>97.4</td>\n",
       "      <td>5.1</td>\n",
       "      <td>6.1</td>\n",
       "      <td>61.3</td>\n",
       "      <td>61.3</td>\n",
       "      <td>16.4</td>\n",
       "      <td>10.2</td>\n",
       "      <td>2023-04-17</td>\n",
       "    </tr>\n",
       "    <tr>\n",
       "      <th>44</th>\n",
       "      <td>099CE5DB1F</td>\n",
       "      <td>2024-12-01</td>\n",
       "      <td>6_90%초과(하위 10% 이하)</td>\n",
       "      <td>2_10-25%</td>\n",
       "      <td>4_50-75%</td>\n",
       "      <td>3_25-50%</td>\n",
       "      <td>2_10-25%</td>\n",
       "      <td>1_상위1구간</td>\n",
       "      <td>-999999.9</td>\n",
       "      <td>195.9</td>\n",
       "      <td>88.3</td>\n",
       "      <td>34.0</td>\n",
       "      <td>58.8</td>\n",
       "      <td>16.4</td>\n",
       "      <td>11.3</td>\n",
       "      <td>2025-07-30</td>\n",
       "    </tr>\n",
       "  </tbody>\n",
       "</table>\n",
       "</div>"
      ],
      "text/plain": [
       "             num         ym      oper_month_grp sales_grp txn_cnt_grp  \\\n",
       "10    04393D7C92 2024-12-01            3_25-50%  5_75-90%    5_75-90%   \n",
       "25    0507C6C859 2024-12-01            5_75-90%  5_75-90%    5_75-90%   \n",
       "2090  08336C3B85 2024-12-01            3_25-50%  2_10-25%    2_10-25%   \n",
       "2316  099CBF2425 2023-04-01  6_90%초과(하위 10% 이하)  5_75-90%    5_75-90%   \n",
       "44    099CE5DB1F 2024-12-01  6_90%초과(하위 10% 이하)  2_10-25%    4_50-75%   \n",
       "\n",
       "     cust_cnt_grp avg_pay_grp cancel_rate_grp  delivery_sales_ratio  \\\n",
       "10       4_50-75%    4_50-75%         1_상위1구간                  50.8   \n",
       "25       5_75-90%    4_50-75%         1_상위1구간                  77.2   \n",
       "2090     2_10-25%    4_50-75%         2_상위2구간             -999999.9   \n",
       "2316     5_75-90%    4_50-75%         1_상위1구간                  97.4   \n",
       "44       3_25-50%    2_10-25%         1_상위1구간             -999999.9   \n",
       "\n",
       "      rel_sales_ratio  M1_SME_RY_CNT_RAT  sales_rank_industry  \\\n",
       "10                9.1               17.5                 57.9   \n",
       "25                3.9                3.8                 55.8   \n",
       "2090            149.8              363.0                 15.7   \n",
       "2316              5.1                6.1                 61.3   \n",
       "44              195.9               88.3                 34.0   \n",
       "\n",
       "      sales_rank_market  share_sales_industry  share_sales_market      close  \n",
       "10                  0.0                  16.2           -999999.9 2025-07-23  \n",
       "25                 57.7                  20.2                10.5 2025-08-19  \n",
       "2090                0.0                  16.2           -999999.9 2025-07-02  \n",
       "2316               61.3                  16.4                10.2 2023-04-17  \n",
       "44                 58.8                  16.4                11.3 2025-07-30  "
      ]
     },
     "execution_count": 21,
     "metadata": {},
     "output_type": "execute_result"
    }
   ],
   "source": [
    "closed_last.head()"
   ]
  },
  {
   "cell_type": "code",
   "execution_count": null,
   "id": "0c75b8fd",
   "metadata": {},
   "outputs": [
    {
     "data": {
      "text/html": [
       "<div>\n",
       "<style scoped>\n",
       "    .dataframe tbody tr th:only-of-type {\n",
       "        vertical-align: middle;\n",
       "    }\n",
       "\n",
       "    .dataframe tbody tr th {\n",
       "        vertical-align: top;\n",
       "    }\n",
       "\n",
       "    .dataframe thead th {\n",
       "        text-align: right;\n",
       "    }\n",
       "</style>\n",
       "<table border=\"1\" class=\"dataframe\">\n",
       "  <thead>\n",
       "    <tr style=\"text-align: right;\">\n",
       "      <th></th>\n",
       "      <th>num</th>\n",
       "      <th>addr</th>\n",
       "      <th>name</th>\n",
       "      <th>brand_cd</th>\n",
       "      <th>sigungu</th>\n",
       "      <th>biz_type</th>\n",
       "      <th>market</th>\n",
       "      <th>open</th>\n",
       "      <th>close</th>\n",
       "    </tr>\n",
       "  </thead>\n",
       "  <tbody>\n",
       "    <tr>\n",
       "      <th>107</th>\n",
       "      <td>4349A8302A</td>\n",
       "      <td>서울 성동구 장터길 23</td>\n",
       "      <td>롯데******</td>\n",
       "      <td>햄버거1</td>\n",
       "      <td>서울 성동구</td>\n",
       "      <td>햄버거</td>\n",
       "      <td>금남시장</td>\n",
       "      <td>2015-08-12</td>\n",
       "      <td>2025-08-18</td>\n",
       "    </tr>\n",
       "    <tr>\n",
       "      <th>159</th>\n",
       "      <td>FCAF2BC53E</td>\n",
       "      <td>서울 성동구 마조로 21.</td>\n",
       "      <td>빽다******</td>\n",
       "      <td>커피전문점4</td>\n",
       "      <td>서울 성동구</td>\n",
       "      <td>커피전문점</td>\n",
       "      <td>한양대</td>\n",
       "      <td>2015-07-31</td>\n",
       "      <td>2025-08-18</td>\n",
       "    </tr>\n",
       "    <tr>\n",
       "      <th>232</th>\n",
       "      <td>2889D57BC9</td>\n",
       "      <td>서울  성동구  성수동2가</td>\n",
       "      <td>영남***</td>\n",
       "      <td>NaN</td>\n",
       "      <td>서울 성동구</td>\n",
       "      <td>식품 제조</td>\n",
       "      <td>성수</td>\n",
       "      <td>2011-12-14</td>\n",
       "      <td>2025-07-31</td>\n",
       "    </tr>\n",
       "    <tr>\n",
       "      <th>246</th>\n",
       "      <td>19DC3A560D</td>\n",
       "      <td>서울 성동구 동호로 102.</td>\n",
       "      <td>더건***************</td>\n",
       "      <td>NaN</td>\n",
       "      <td>서울 성동구</td>\n",
       "      <td>식품 제조</td>\n",
       "      <td>NaN</td>\n",
       "      <td>2015-03-12</td>\n",
       "      <td>2025-07-17</td>\n",
       "    </tr>\n",
       "    <tr>\n",
       "      <th>273</th>\n",
       "      <td>57B4E2F996</td>\n",
       "      <td>서울 성동구 마장로 228.</td>\n",
       "      <td>장충********</td>\n",
       "      <td>NaN</td>\n",
       "      <td>서울 성동구</td>\n",
       "      <td>한식-육류/고기</td>\n",
       "      <td>왕십리</td>\n",
       "      <td>2015-11-23</td>\n",
       "      <td>2025-08-11</td>\n",
       "    </tr>\n",
       "  </tbody>\n",
       "</table>\n",
       "</div>"
      ],
      "text/plain": [
       "            num             addr               name brand_cd sigungu  \\\n",
       "107  4349A8302A    서울 성동구 장터길 23           롯데******     햄버거1  서울 성동구   \n",
       "159  FCAF2BC53E   서울 성동구 마조로 21.           빽다******   커피전문점4  서울 성동구   \n",
       "232  2889D57BC9   서울  성동구  성수동2가              영남***      NaN  서울 성동구   \n",
       "246  19DC3A560D  서울 성동구 동호로 102.  더건***************      NaN  서울 성동구   \n",
       "273  57B4E2F996  서울 성동구 마장로 228.         장충********      NaN  서울 성동구   \n",
       "\n",
       "     biz_type market       open      close  \n",
       "107       햄버거   금남시장 2015-08-12 2025-08-18  \n",
       "159     커피전문점    한양대 2015-07-31 2025-08-18  \n",
       "232     식품 제조     성수 2011-12-14 2025-07-31  \n",
       "246     식품 제조    NaN 2015-03-12 2025-07-17  \n",
       "273  한식-육류/고기    왕십리 2015-11-23 2025-08-11  "
      ]
     },
     "execution_count": 22,
     "metadata": {},
     "output_type": "execute_result"
    }
   ],
   "source": [
    "closed_info.head()"
   ]
  },
  {
   "cell_type": "code",
   "execution_count": null,
   "id": "15a71681",
   "metadata": {},
   "outputs": [
    {
     "data": {
      "text/html": [
       "<div>\n",
       "<style scoped>\n",
       "    .dataframe tbody tr th:only-of-type {\n",
       "        vertical-align: middle;\n",
       "    }\n",
       "\n",
       "    .dataframe tbody tr th {\n",
       "        vertical-align: top;\n",
       "    }\n",
       "\n",
       "    .dataframe thead th {\n",
       "        text-align: right;\n",
       "    }\n",
       "</style>\n",
       "<table border=\"1\" class=\"dataframe\">\n",
       "  <thead>\n",
       "    <tr style=\"text-align: right;\">\n",
       "      <th></th>\n",
       "      <th>num</th>\n",
       "      <th>addr</th>\n",
       "      <th>name</th>\n",
       "      <th>brand_cd</th>\n",
       "      <th>sigungu</th>\n",
       "      <th>biz_type</th>\n",
       "      <th>market</th>\n",
       "      <th>open</th>\n",
       "      <th>close</th>\n",
       "    </tr>\n",
       "  </thead>\n",
       "  <tbody>\n",
       "    <tr>\n",
       "      <th>0</th>\n",
       "      <td>16184E93D9</td>\n",
       "      <td>서울 성동구 마장동</td>\n",
       "      <td>성우**</td>\n",
       "      <td>NaN</td>\n",
       "      <td>서울 성동구</td>\n",
       "      <td>축산물</td>\n",
       "      <td>마장동</td>\n",
       "      <td>2013-03-20</td>\n",
       "      <td>NaT</td>\n",
       "    </tr>\n",
       "    <tr>\n",
       "      <th>1</th>\n",
       "      <td>4D039EA8B7</td>\n",
       "      <td>서울 성동구 마장동</td>\n",
       "      <td>대보**</td>\n",
       "      <td>NaN</td>\n",
       "      <td>서울 성동구</td>\n",
       "      <td>축산물</td>\n",
       "      <td>마장동</td>\n",
       "      <td>2013-11-22</td>\n",
       "      <td>NaT</td>\n",
       "    </tr>\n",
       "    <tr>\n",
       "      <th>2</th>\n",
       "      <td>0074C4990A</td>\n",
       "      <td>서울 성동구 마장동</td>\n",
       "      <td>대용**</td>\n",
       "      <td>NaN</td>\n",
       "      <td>서울 성동구</td>\n",
       "      <td>축산물</td>\n",
       "      <td>마장동</td>\n",
       "      <td>2014-05-12</td>\n",
       "      <td>NaT</td>\n",
       "    </tr>\n",
       "    <tr>\n",
       "      <th>3</th>\n",
       "      <td>68308F2746</td>\n",
       "      <td>서울 성동구 마장동</td>\n",
       "      <td>통일**</td>\n",
       "      <td>NaN</td>\n",
       "      <td>서울 성동구</td>\n",
       "      <td>축산물</td>\n",
       "      <td>마장동</td>\n",
       "      <td>2015-11-24</td>\n",
       "      <td>NaT</td>\n",
       "    </tr>\n",
       "    <tr>\n",
       "      <th>4</th>\n",
       "      <td>4117EDDE9C</td>\n",
       "      <td>서울 성동구 마장동</td>\n",
       "      <td>한울**</td>\n",
       "      <td>NaN</td>\n",
       "      <td>서울 성동구</td>\n",
       "      <td>축산물</td>\n",
       "      <td>마장동</td>\n",
       "      <td>2015-12-11</td>\n",
       "      <td>NaT</td>\n",
       "    </tr>\n",
       "  </tbody>\n",
       "</table>\n",
       "</div>"
      ],
      "text/plain": [
       "          num        addr  name brand_cd sigungu biz_type market       open  \\\n",
       "0  16184E93D9  서울 성동구 마장동  성우**      NaN  서울 성동구      축산물    마장동 2013-03-20   \n",
       "1  4D039EA8B7  서울 성동구 마장동  대보**      NaN  서울 성동구      축산물    마장동 2013-11-22   \n",
       "2  0074C4990A  서울 성동구 마장동  대용**      NaN  서울 성동구      축산물    마장동 2014-05-12   \n",
       "3  68308F2746  서울 성동구 마장동  통일**      NaN  서울 성동구      축산물    마장동 2015-11-24   \n",
       "4  4117EDDE9C  서울 성동구 마장동  한울**      NaN  서울 성동구      축산물    마장동 2015-12-11   \n",
       "\n",
       "  close  \n",
       "0   NaT  \n",
       "1   NaT  \n",
       "2   NaT  \n",
       "3   NaT  \n",
       "4   NaT  "
      ]
     },
     "execution_count": 23,
     "metadata": {},
     "output_type": "execute_result"
    }
   ],
   "source": [
    "alive_info.head()"
   ]
  },
  {
   "cell_type": "code",
   "execution_count": null,
   "id": "f0324001",
   "metadata": {},
   "outputs": [
    {
     "name": "stderr",
     "output_type": "stream",
     "text": [
      "C:\\Users\\windows\\AppData\\Local\\Temp\\ipykernel_21460\\453645751.py:3: FutureWarning: \n",
      "\n",
      "`shade` is now deprecated in favor of `fill`; setting `fill=True`.\n",
      "This will become an error in seaborn v0.14.0; please update your code.\n",
      "\n",
      "  sns.kdeplot(closed_last[\"rel_sales_ratio\"], label=\"폐업 직전\", shade=True)\n",
      "c:\\Users\\windows\\anaconda3\\Lib\\site-packages\\seaborn\\_oldcore.py:1119: FutureWarning: use_inf_as_na option is deprecated and will be removed in a future version. Convert inf values to NaN before operating instead.\n",
      "  with pd.option_context('mode.use_inf_as_na', True):\n",
      "C:\\Users\\windows\\AppData\\Local\\Temp\\ipykernel_21460\\453645751.py:4: FutureWarning: \n",
      "\n",
      "`shade` is now deprecated in favor of `fill`; setting `fill=True`.\n",
      "This will become an error in seaborn v0.14.0; please update your code.\n",
      "\n",
      "  sns.kdeplot(alive_last[\"rel_sales_ratio\"], label=\"생존 최근\", shade=True)\n",
      "c:\\Users\\windows\\anaconda3\\Lib\\site-packages\\seaborn\\_oldcore.py:1119: FutureWarning: use_inf_as_na option is deprecated and will be removed in a future version. Convert inf values to NaN before operating instead.\n",
      "  with pd.option_context('mode.use_inf_as_na', True):\n"
     ]
    },
    {
     "data": {
      "image/png": "[encoded data removed]",
      "text/plain": [
       "<Figure size 1000x500 with 1 Axes>"
      ]
     },
     "metadata": {},
     "output_type": "display_data"
    },
    {
     "data": {
      "image/png": "[encoded data removed]",
      "text/plain": [
       "<Figure size 1200x800 with 1 Axes>"
      ]
     },
     "metadata": {},
     "output_type": "display_data"
    }
   ],
   "source": [
    "# 매출 비교\n",
    "plt.figure(figsize=(10,5))\n",
    "sns.kdeplot(closed_last[\"rel_sales_ratio\"], label=\"폐업 직전\", shade=True)\n",
    "sns.kdeplot(alive_last[\"rel_sales_ratio\"], label=\"생존 최근\", shade=True)\n",
    "plt.title(\"폐업 vs 생존: 동종 업종 대비 매출비율 분포 비교\")\n",
    "plt.legend()\n",
    "plt.show()\n",
    "\n",
    "# 고객 수 구간 분포 비교 (countplot)\n",
    "plt.figure(figsize=(12,8))\n",
    "sns.countplot(data=closed_last, x=\"cust_cnt_grp\", order=closed_last[\"cust_cnt_grp\"].value_counts().index, color=\"red\", alpha=0.6, label=\"폐업 직전\")\n",
    "sns.countplot(data=alive_last, x=\"cust_cnt_grp\", order=closed_last[\"cust_cnt_grp\"].value_counts().index, color=\"blue\", alpha=0.4, label=\"생존 최근\")\n",
    "plt.title(\"폐업 vs 생존: 고객 수 구간 분포\")\n",
    "plt.legend()\n",
    "plt.xticks(rotation=45)\n",
    "plt.show()\n"
   ]
  },
  {
   "cell_type": "code",
   "execution_count": null,
   "id": "42bd1c8a",
   "metadata": {},
   "outputs": [
    {
     "name": "stdout",
     "output_type": "stream",
     "text": [
      "폐업 점포 평균 고객 수 구간: 3.63\n",
      "생존 점포 평균 고객 수 구간: 3.54\n"
     ]
    },
    {
     "name": "stderr",
     "output_type": "stream",
     "text": [
      "c:\\Users\\windows\\anaconda3\\Lib\\site-packages\\seaborn\\_oldcore.py:1765: FutureWarning: unique with argument that is not not a Series, Index, ExtensionArray, or np.ndarray is deprecated and will raise in a future version.\n",
      "  order = pd.unique(vector)\n"
     ]
    },
    {
     "data": {
      "image/png": "[encoded data removed]",
      "text/plain": [
       "<Figure size 600x400 with 1 Axes>"
      ]
     },
     "metadata": {},
     "output_type": "display_data"
    }
   ],
   "source": [
    "## 폐업 vs. 생존의 평균 고객 수 구간\n",
    "# 1) 구간 순서를 숫자로 매핑 (낮을수록 고객 수 적음)\n",
    "grp_order = {\n",
    "    \"1_하위1구간\": 1,\n",
    "    \"2_10-25%\": 2,\n",
    "    \"3_25-50%\": 3,\n",
    "    \"4_50-75%\": 4,\n",
    "    \"5_75-90%\": 5,\n",
    "    \"6_90%초과(상위10%)\": 6\n",
    "}\n",
    "\n",
    "# 2) 매핑 적용\n",
    "closed_last[\"cust_cnt_grp_num\"] = closed_last[\"cust_cnt_grp\"].map(grp_order)\n",
    "alive_last[\"cust_cnt_grp_num\"]  = alive_last[\"cust_cnt_grp\"].map(grp_order)\n",
    "\n",
    "# 3) 평균 구하기\n",
    "closed_mean = closed_last[\"cust_cnt_grp_num\"].mean()\n",
    "alive_mean  = alive_last[\"cust_cnt_grp_num\"].mean()\n",
    "\n",
    "print(\"폐업 점포 평균 고객 수 구간:\", round(closed_mean,2))\n",
    "print(\"생존 점포 평균 고객 수 구간:\", round(alive_mean,2))\n",
    "\n",
    "# 4) 시각화 (막대비교)\n",
    "plt.figure(figsize=(6,4))\n",
    "sns.barplot(x=[\"폐업 점포\",\"생존 점포\"], y=[closed_mean, alive_mean], palette=[\"red\",\"blue\"])\n",
    "plt.title(\"폐업 vs 생존: 평균 고객 수 구간\")\n",
    "plt.ylabel(\"평균 구간 값 (1=하위, 6=상위)\")\n",
    "plt.show()\n"
   ]
  },
  {
   "cell_type": "code",
   "execution_count": null,
   "id": "58ecd1c2",
   "metadata": {},
   "outputs": [
    {
     "name": "stderr",
     "output_type": "stream",
     "text": [
      "c:\\Users\\windows\\anaconda3\\Lib\\site-packages\\seaborn\\_oldcore.py:1119: FutureWarning: use_inf_as_na option is deprecated and will be removed in a future version. Convert inf values to NaN before operating instead.\n",
      "  with pd.option_context('mode.use_inf_as_na', True):\n",
      "c:\\Users\\windows\\anaconda3\\Lib\\site-packages\\seaborn\\_oldcore.py:1119: FutureWarning: use_inf_as_na option is deprecated and will be removed in a future version. Convert inf values to NaN before operating instead.\n",
      "  with pd.option_context('mode.use_inf_as_na', True):\n"
     ]
    },
    {
     "data": {
      "image/png": "[encoded data removed]",
      "text/plain": [
       "<Figure size 800x500 with 1 Axes>"
      ]
     },
     "metadata": {},
     "output_type": "display_data"
    }
   ],
   "source": [
    "## 폐업 직전 매출 추세 (폐업 전 3개월)\n",
    "\n",
    "# 1) 폐업점포 데이터에 폐업 직전 3개월만 남기기\n",
    "tmp = (\n",
    "    df_usage.merge(closed_info[[\"num\",\"close\"]], on=\"num\")\n",
    "    .query(\"ym < close\")  # 폐업일 이전\n",
    ")\n",
    "\n",
    "# 폐업월 기준으로 몇 개월 전인지 계산\n",
    "tmp[\"months_before_close\"] = ((tmp[\"close\"].dt.to_period(\"M\") - tmp[\"ym\"].dt.to_period(\"M\")).apply(lambda x: x.n))\n",
    "\n",
    "# 2) 직전 3개월만 필터링\n",
    "tmp_last3 = tmp[tmp[\"months_before_close\"].between(1,3)]\n",
    "\n",
    "# 3) 폐업점포 전체 평균 계산\n",
    "avg_trend = (\n",
    "    tmp_last3.groupby(\"months_before_close\")[\"rel_sales_ratio\"]\n",
    "    .mean()\n",
    "    .reset_index()\n",
    "    .sort_values(\"months_before_close\")\n",
    ")\n",
    "\n",
    "# 4) 시각화\n",
    "plt.figure(figsize=(8,5))\n",
    "sns.lineplot(data=avg_trend, x=\"months_before_close\", y=\"rel_sales_ratio\", marker=\"o\")\n",
    "plt.gca().invert_xaxis()  # x축: 3개월 전 → 1개월 전 → 폐업월 순서로 보이게\n",
    "plt.title(\"폐업 직전 3개월 평균 매출 추세 (전체 폐업점포)\")\n",
    "plt.xlabel(\"폐업 몇 개월 전\")\n",
    "plt.ylabel(\"평균 업종 대비 매출비율\")\n",
    "plt.show()\n",
    "\n"
   ]
  },
  {
   "cell_type": "code",
   "execution_count": null,
   "id": "c8c71dcc",
   "metadata": {},
   "outputs": [
    {
     "ename": "UndefinedVariableError",
     "evalue": "name 'close' is not defined",
     "output_type": "error",
     "traceback": [
      "\u001b[1;31m---------------------------------------------------------------------------\u001b[0m",
      "\u001b[1;31mKeyError\u001b[0m                                  Traceback (most recent call last)",
      "File \u001b[1;32mc:\\Users\\windows\\anaconda3\\Lib\\site-packages\\pandas\\core\\computation\\scope.py:231\u001b[0m, in \u001b[0;36mScope.resolve\u001b[1;34m(self, key, is_local)\u001b[0m\n\u001b[0;32m    230\u001b[0m \u001b[38;5;28;01mif\u001b[39;00m \u001b[38;5;28mself\u001b[39m\u001b[38;5;241m.\u001b[39mhas_resolvers:\n\u001b[1;32m--> 231\u001b[0m     \u001b[38;5;28;01mreturn\u001b[39;00m \u001b[38;5;28mself\u001b[39m\u001b[38;5;241m.\u001b[39mresolvers[key]\n\u001b[0;32m    233\u001b[0m \u001b[38;5;66;03m# if we're here that means that we have no locals and we also have\u001b[39;00m\n\u001b[0;32m    234\u001b[0m \u001b[38;5;66;03m# no resolvers\u001b[39;00m\n",
      "File \u001b[1;32mc:\\Users\\windows\\anaconda3\\Lib\\collections\\__init__.py:1006\u001b[0m, in \u001b[0;36mChainMap.__getitem__\u001b[1;34m(self, key)\u001b[0m\n\u001b[0;32m   1005\u001b[0m         \u001b[38;5;28;01mpass\u001b[39;00m\n\u001b[1;32m-> 1006\u001b[0m \u001b[38;5;28;01mreturn\u001b[39;00m \u001b[38;5;28mself\u001b[39m\u001b[38;5;241m.\u001b[39m\u001b[38;5;21m__missing__\u001b[39m(key)\n",
      "File \u001b[1;32mc:\\Users\\windows\\anaconda3\\Lib\\collections\\__init__.py:998\u001b[0m, in \u001b[0;36mChainMap.__missing__\u001b[1;34m(self, key)\u001b[0m\n\u001b[0;32m    997\u001b[0m \u001b[38;5;28;01mdef\u001b[39;00m \u001b[38;5;21m__missing__\u001b[39m(\u001b[38;5;28mself\u001b[39m, key):\n\u001b[1;32m--> 998\u001b[0m     \u001b[38;5;28;01mraise\u001b[39;00m \u001b[38;5;167;01mKeyError\u001b[39;00m(key)\n",
      "\u001b[1;31mKeyError\u001b[0m: 'close'",
      "\nDuring handling of the above exception, another exception occurred:\n",
      "\u001b[1;31mKeyError\u001b[0m                                  Traceback (most recent call last)",
      "File \u001b[1;32mc:\\Users\\windows\\anaconda3\\Lib\\site-packages\\pandas\\core\\computation\\scope.py:242\u001b[0m, in \u001b[0;36mScope.resolve\u001b[1;34m(self, key, is_local)\u001b[0m\n\u001b[0;32m    238\u001b[0m \u001b[38;5;28;01mtry\u001b[39;00m:\n\u001b[0;32m    239\u001b[0m     \u001b[38;5;66;03m# last ditch effort we look in temporaries\u001b[39;00m\n\u001b[0;32m    240\u001b[0m     \u001b[38;5;66;03m# these are created when parsing indexing expressions\u001b[39;00m\n\u001b[0;32m    241\u001b[0m     \u001b[38;5;66;03m# e.g., df[df > 0]\u001b[39;00m\n\u001b[1;32m--> 242\u001b[0m     \u001b[38;5;28;01mreturn\u001b[39;00m \u001b[38;5;28mself\u001b[39m\u001b[38;5;241m.\u001b[39mtemps[key]\n\u001b[0;32m    243\u001b[0m \u001b[38;5;28;01mexcept\u001b[39;00m \u001b[38;5;167;01mKeyError\u001b[39;00m \u001b[38;5;28;01mas\u001b[39;00m err:\n",
      "\u001b[1;31mKeyError\u001b[0m: 'close'",
      "\nThe above exception was the direct cause of the following exception:\n",
      "\u001b[1;31mUndefinedVariableError\u001b[0m                    Traceback (most recent call last)",
      "Cell \u001b[1;32mIn[27], line 6\u001b[0m\n\u001b[0;32m      1\u001b[0m \u001b[38;5;66;03m## 고객 구조 변화 (재방문율·신규율)\u001b[39;00m\n\u001b[0;32m      2\u001b[0m \n\u001b[0;32m      3\u001b[0m \u001b[38;5;66;03m# 1) 폐업점포 직전 데이터 (df 기반)\u001b[39;00m\n\u001b[0;32m      4\u001b[0m closed_last_cust \u001b[38;5;241m=\u001b[39m (\n\u001b[0;32m      5\u001b[0m     df\u001b[38;5;241m.\u001b[39mmerge(closed_info[[\u001b[38;5;124m\"\u001b[39m\u001b[38;5;124mnum\u001b[39m\u001b[38;5;124m\"\u001b[39m,\u001b[38;5;124m\"\u001b[39m\u001b[38;5;124mclose\u001b[39m\u001b[38;5;124m\"\u001b[39m]], on\u001b[38;5;241m=\u001b[39m\u001b[38;5;124m\"\u001b[39m\u001b[38;5;124mnum\u001b[39m\u001b[38;5;124m\"\u001b[39m)\n\u001b[1;32m----> 6\u001b[0m     \u001b[38;5;241m.\u001b[39mquery(\u001b[38;5;124m\"\u001b[39m\u001b[38;5;124mym < close\u001b[39m\u001b[38;5;124m\"\u001b[39m)       \u001b[38;5;66;03m# 폐업 전 데이터만\u001b[39;00m\n\u001b[0;32m      7\u001b[0m     \u001b[38;5;241m.\u001b[39msort_values([\u001b[38;5;124m\"\u001b[39m\u001b[38;5;124mnum\u001b[39m\u001b[38;5;124m\"\u001b[39m,\u001b[38;5;124m\"\u001b[39m\u001b[38;5;124mym\u001b[39m\u001b[38;5;124m\"\u001b[39m])\n\u001b[0;32m      8\u001b[0m     \u001b[38;5;241m.\u001b[39mgroupby(\u001b[38;5;124m\"\u001b[39m\u001b[38;5;124mnum\u001b[39m\u001b[38;5;124m\"\u001b[39m)\n\u001b[0;32m      9\u001b[0m     \u001b[38;5;241m.\u001b[39mtail(\u001b[38;5;241m1\u001b[39m)                   \u001b[38;5;66;03m# 폐업 직전 데이터\u001b[39;00m\n\u001b[0;32m     10\u001b[0m )\n\u001b[0;32m     12\u001b[0m \u001b[38;5;66;03m# 2) 생존점포 최근 데이터 (df 기반)\u001b[39;00m\n\u001b[0;32m     13\u001b[0m alive_last_cust \u001b[38;5;241m=\u001b[39m (\n\u001b[0;32m     14\u001b[0m     df\u001b[38;5;241m.\u001b[39mmerge(alive_info[[\u001b[38;5;124m\"\u001b[39m\u001b[38;5;124mnum\u001b[39m\u001b[38;5;124m\"\u001b[39m]], on\u001b[38;5;241m=\u001b[39m\u001b[38;5;124m\"\u001b[39m\u001b[38;5;124mnum\u001b[39m\u001b[38;5;124m\"\u001b[39m)\n\u001b[0;32m     15\u001b[0m     \u001b[38;5;241m.\u001b[39msort_values([\u001b[38;5;124m\"\u001b[39m\u001b[38;5;124mnum\u001b[39m\u001b[38;5;124m\"\u001b[39m,\u001b[38;5;124m\"\u001b[39m\u001b[38;5;124mym\u001b[39m\u001b[38;5;124m\"\u001b[39m])\n\u001b[0;32m     16\u001b[0m     \u001b[38;5;241m.\u001b[39mgroupby(\u001b[38;5;124m\"\u001b[39m\u001b[38;5;124mnum\u001b[39m\u001b[38;5;124m\"\u001b[39m)\n\u001b[0;32m     17\u001b[0m     \u001b[38;5;241m.\u001b[39mtail(\u001b[38;5;241m1\u001b[39m)                   \u001b[38;5;66;03m# 가장 최근 데이터\u001b[39;00m\n\u001b[0;32m     18\u001b[0m )\n",
      "File \u001b[1;32mc:\\Users\\windows\\anaconda3\\Lib\\site-packages\\pandas\\core\\frame.py:4599\u001b[0m, in \u001b[0;36mDataFrame.query\u001b[1;34m(self, expr, inplace, **kwargs)\u001b[0m\n\u001b[0;32m   4597\u001b[0m kwargs[\u001b[38;5;124m\"\u001b[39m\u001b[38;5;124mlevel\u001b[39m\u001b[38;5;124m\"\u001b[39m] \u001b[38;5;241m=\u001b[39m kwargs\u001b[38;5;241m.\u001b[39mpop(\u001b[38;5;124m\"\u001b[39m\u001b[38;5;124mlevel\u001b[39m\u001b[38;5;124m\"\u001b[39m, \u001b[38;5;241m0\u001b[39m) \u001b[38;5;241m+\u001b[39m \u001b[38;5;241m1\u001b[39m\n\u001b[0;32m   4598\u001b[0m kwargs[\u001b[38;5;124m\"\u001b[39m\u001b[38;5;124mtarget\u001b[39m\u001b[38;5;124m\"\u001b[39m] \u001b[38;5;241m=\u001b[39m \u001b[38;5;28;01mNone\u001b[39;00m\n\u001b[1;32m-> 4599\u001b[0m res \u001b[38;5;241m=\u001b[39m \u001b[38;5;28mself\u001b[39m\u001b[38;5;241m.\u001b[39meval(expr, \u001b[38;5;241m*\u001b[39m\u001b[38;5;241m*\u001b[39mkwargs)\n\u001b[0;32m   4601\u001b[0m \u001b[38;5;28;01mtry\u001b[39;00m:\n\u001b[0;32m   4602\u001b[0m     result \u001b[38;5;241m=\u001b[39m \u001b[38;5;28mself\u001b[39m\u001b[38;5;241m.\u001b[39mloc[res]\n",
      "File \u001b[1;32mc:\\Users\\windows\\anaconda3\\Lib\\site-packages\\pandas\\core\\frame.py:4725\u001b[0m, in \u001b[0;36mDataFrame.eval\u001b[1;34m(self, expr, inplace, **kwargs)\u001b[0m\n\u001b[0;32m   4722\u001b[0m     kwargs[\u001b[38;5;124m\"\u001b[39m\u001b[38;5;124mtarget\u001b[39m\u001b[38;5;124m\"\u001b[39m] \u001b[38;5;241m=\u001b[39m \u001b[38;5;28mself\u001b[39m\n\u001b[0;32m   4723\u001b[0m kwargs[\u001b[38;5;124m\"\u001b[39m\u001b[38;5;124mresolvers\u001b[39m\u001b[38;5;124m\"\u001b[39m] \u001b[38;5;241m=\u001b[39m \u001b[38;5;28mtuple\u001b[39m(kwargs\u001b[38;5;241m.\u001b[39mget(\u001b[38;5;124m\"\u001b[39m\u001b[38;5;124mresolvers\u001b[39m\u001b[38;5;124m\"\u001b[39m, ())) \u001b[38;5;241m+\u001b[39m resolvers\n\u001b[1;32m-> 4725\u001b[0m \u001b[38;5;28;01mreturn\u001b[39;00m _eval(expr, inplace\u001b[38;5;241m=\u001b[39minplace, \u001b[38;5;241m*\u001b[39m\u001b[38;5;241m*\u001b[39mkwargs)\n",
      "File \u001b[1;32mc:\\Users\\windows\\anaconda3\\Lib\\site-packages\\pandas\\core\\computation\\eval.py:336\u001b[0m, in \u001b[0;36meval\u001b[1;34m(expr, parser, engine, local_dict, global_dict, resolvers, level, target, inplace)\u001b[0m\n\u001b[0;32m    327\u001b[0m \u001b[38;5;66;03m# get our (possibly passed-in) scope\u001b[39;00m\n\u001b[0;32m    328\u001b[0m env \u001b[38;5;241m=\u001b[39m ensure_scope(\n\u001b[0;32m    329\u001b[0m     level \u001b[38;5;241m+\u001b[39m \u001b[38;5;241m1\u001b[39m,\n\u001b[0;32m    330\u001b[0m     global_dict\u001b[38;5;241m=\u001b[39mglobal_dict,\n\u001b[1;32m   (...)\u001b[0m\n\u001b[0;32m    333\u001b[0m     target\u001b[38;5;241m=\u001b[39mtarget,\n\u001b[0;32m    334\u001b[0m )\n\u001b[1;32m--> 336\u001b[0m parsed_expr \u001b[38;5;241m=\u001b[39m Expr(expr, engine\u001b[38;5;241m=\u001b[39mengine, parser\u001b[38;5;241m=\u001b[39mparser, env\u001b[38;5;241m=\u001b[39menv)\n\u001b[0;32m    338\u001b[0m \u001b[38;5;28;01mif\u001b[39;00m engine \u001b[38;5;241m==\u001b[39m \u001b[38;5;124m\"\u001b[39m\u001b[38;5;124mnumexpr\u001b[39m\u001b[38;5;124m\"\u001b[39m \u001b[38;5;129;01mand\u001b[39;00m (\n\u001b[0;32m    339\u001b[0m     is_extension_array_dtype(parsed_expr\u001b[38;5;241m.\u001b[39mterms\u001b[38;5;241m.\u001b[39mreturn_type)\n\u001b[0;32m    340\u001b[0m     \u001b[38;5;129;01mor\u001b[39;00m \u001b[38;5;28mgetattr\u001b[39m(parsed_expr\u001b[38;5;241m.\u001b[39mterms, \u001b[38;5;124m\"\u001b[39m\u001b[38;5;124moperand_types\u001b[39m\u001b[38;5;124m\"\u001b[39m, \u001b[38;5;28;01mNone\u001b[39;00m) \u001b[38;5;129;01mis\u001b[39;00m \u001b[38;5;129;01mnot\u001b[39;00m \u001b[38;5;28;01mNone\u001b[39;00m\n\u001b[1;32m   (...)\u001b[0m\n\u001b[0;32m    344\u001b[0m     )\n\u001b[0;32m    345\u001b[0m ):\n\u001b[0;32m    346\u001b[0m     warnings\u001b[38;5;241m.\u001b[39mwarn(\n\u001b[0;32m    347\u001b[0m         \u001b[38;5;124m\"\u001b[39m\u001b[38;5;124mEngine has switched to \u001b[39m\u001b[38;5;124m'\u001b[39m\u001b[38;5;124mpython\u001b[39m\u001b[38;5;124m'\u001b[39m\u001b[38;5;124m because numexpr does not support \u001b[39m\u001b[38;5;124m\"\u001b[39m\n\u001b[0;32m    348\u001b[0m         \u001b[38;5;124m\"\u001b[39m\u001b[38;5;124mextension array dtypes. Please set your engine to python manually.\u001b[39m\u001b[38;5;124m\"\u001b[39m,\n\u001b[0;32m    349\u001b[0m         \u001b[38;5;167;01mRuntimeWarning\u001b[39;00m,\n\u001b[0;32m    350\u001b[0m         stacklevel\u001b[38;5;241m=\u001b[39mfind_stack_level(),\n\u001b[0;32m    351\u001b[0m     )\n",
      "File \u001b[1;32mc:\\Users\\windows\\anaconda3\\Lib\\site-packages\\pandas\\core\\computation\\expr.py:808\u001b[0m, in \u001b[0;36mExpr.__init__\u001b[1;34m(self, expr, engine, parser, env, level)\u001b[0m\n\u001b[0;32m    806\u001b[0m \u001b[38;5;28mself\u001b[39m\u001b[38;5;241m.\u001b[39mparser \u001b[38;5;241m=\u001b[39m parser\n\u001b[0;32m    807\u001b[0m \u001b[38;5;28mself\u001b[39m\u001b[38;5;241m.\u001b[39m_visitor \u001b[38;5;241m=\u001b[39m PARSERS[parser](\u001b[38;5;28mself\u001b[39m\u001b[38;5;241m.\u001b[39menv, \u001b[38;5;28mself\u001b[39m\u001b[38;5;241m.\u001b[39mengine, \u001b[38;5;28mself\u001b[39m\u001b[38;5;241m.\u001b[39mparser)\n\u001b[1;32m--> 808\u001b[0m \u001b[38;5;28mself\u001b[39m\u001b[38;5;241m.\u001b[39mterms \u001b[38;5;241m=\u001b[39m \u001b[38;5;28mself\u001b[39m\u001b[38;5;241m.\u001b[39mparse()\n",
      "File \u001b[1;32mc:\\Users\\windows\\anaconda3\\Lib\\site-packages\\pandas\\core\\computation\\expr.py:827\u001b[0m, in \u001b[0;36mExpr.parse\u001b[1;34m(self)\u001b[0m\n\u001b[0;32m    823\u001b[0m \u001b[38;5;28;01mdef\u001b[39;00m \u001b[38;5;21mparse\u001b[39m(\u001b[38;5;28mself\u001b[39m):\n\u001b[0;32m    824\u001b[0m \u001b[38;5;250m    \u001b[39m\u001b[38;5;124;03m\"\"\"\u001b[39;00m\n\u001b[0;32m    825\u001b[0m \u001b[38;5;124;03m    Parse an expression.\u001b[39;00m\n\u001b[0;32m    826\u001b[0m \u001b[38;5;124;03m    \"\"\"\u001b[39;00m\n\u001b[1;32m--> 827\u001b[0m     \u001b[38;5;28;01mreturn\u001b[39;00m \u001b[38;5;28mself\u001b[39m\u001b[38;5;241m.\u001b[39m_visitor\u001b[38;5;241m.\u001b[39mvisit(\u001b[38;5;28mself\u001b[39m\u001b[38;5;241m.\u001b[39mexpr)\n",
      "File \u001b[1;32mc:\\Users\\windows\\anaconda3\\Lib\\site-packages\\pandas\\core\\computation\\expr.py:411\u001b[0m, in \u001b[0;36mBaseExprVisitor.visit\u001b[1;34m(self, node, **kwargs)\u001b[0m\n\u001b[0;32m    409\u001b[0m method \u001b[38;5;241m=\u001b[39m \u001b[38;5;124mf\u001b[39m\u001b[38;5;124m\"\u001b[39m\u001b[38;5;124mvisit_\u001b[39m\u001b[38;5;132;01m{\u001b[39;00m\u001b[38;5;28mtype\u001b[39m(node)\u001b[38;5;241m.\u001b[39m\u001b[38;5;18m__name__\u001b[39m\u001b[38;5;132;01m}\u001b[39;00m\u001b[38;5;124m\"\u001b[39m\n\u001b[0;32m    410\u001b[0m visitor \u001b[38;5;241m=\u001b[39m \u001b[38;5;28mgetattr\u001b[39m(\u001b[38;5;28mself\u001b[39m, method)\n\u001b[1;32m--> 411\u001b[0m \u001b[38;5;28;01mreturn\u001b[39;00m visitor(node, \u001b[38;5;241m*\u001b[39m\u001b[38;5;241m*\u001b[39mkwargs)\n",
      "File \u001b[1;32mc:\\Users\\windows\\anaconda3\\Lib\\site-packages\\pandas\\core\\computation\\expr.py:417\u001b[0m, in \u001b[0;36mBaseExprVisitor.visit_Module\u001b[1;34m(self, node, **kwargs)\u001b[0m\n\u001b[0;32m    415\u001b[0m     \u001b[38;5;28;01mraise\u001b[39;00m \u001b[38;5;167;01mSyntaxError\u001b[39;00m(\u001b[38;5;124m\"\u001b[39m\u001b[38;5;124monly a single expression is allowed\u001b[39m\u001b[38;5;124m\"\u001b[39m)\n\u001b[0;32m    416\u001b[0m expr \u001b[38;5;241m=\u001b[39m node\u001b[38;5;241m.\u001b[39mbody[\u001b[38;5;241m0\u001b[39m]\n\u001b[1;32m--> 417\u001b[0m \u001b[38;5;28;01mreturn\u001b[39;00m \u001b[38;5;28mself\u001b[39m\u001b[38;5;241m.\u001b[39mvisit(expr, \u001b[38;5;241m*\u001b[39m\u001b[38;5;241m*\u001b[39mkwargs)\n",
      "File \u001b[1;32mc:\\Users\\windows\\anaconda3\\Lib\\site-packages\\pandas\\core\\computation\\expr.py:411\u001b[0m, in \u001b[0;36mBaseExprVisitor.visit\u001b[1;34m(self, node, **kwargs)\u001b[0m\n\u001b[0;32m    409\u001b[0m method \u001b[38;5;241m=\u001b[39m \u001b[38;5;124mf\u001b[39m\u001b[38;5;124m\"\u001b[39m\u001b[38;5;124mvisit_\u001b[39m\u001b[38;5;132;01m{\u001b[39;00m\u001b[38;5;28mtype\u001b[39m(node)\u001b[38;5;241m.\u001b[39m\u001b[38;5;18m__name__\u001b[39m\u001b[38;5;132;01m}\u001b[39;00m\u001b[38;5;124m\"\u001b[39m\n\u001b[0;32m    410\u001b[0m visitor \u001b[38;5;241m=\u001b[39m \u001b[38;5;28mgetattr\u001b[39m(\u001b[38;5;28mself\u001b[39m, method)\n\u001b[1;32m--> 411\u001b[0m \u001b[38;5;28;01mreturn\u001b[39;00m visitor(node, \u001b[38;5;241m*\u001b[39m\u001b[38;5;241m*\u001b[39mkwargs)\n",
      "File \u001b[1;32mc:\\Users\\windows\\anaconda3\\Lib\\site-packages\\pandas\\core\\computation\\expr.py:420\u001b[0m, in \u001b[0;36mBaseExprVisitor.visit_Expr\u001b[1;34m(self, node, **kwargs)\u001b[0m\n\u001b[0;32m    419\u001b[0m \u001b[38;5;28;01mdef\u001b[39;00m \u001b[38;5;21mvisit_Expr\u001b[39m(\u001b[38;5;28mself\u001b[39m, node, \u001b[38;5;241m*\u001b[39m\u001b[38;5;241m*\u001b[39mkwargs):\n\u001b[1;32m--> 420\u001b[0m     \u001b[38;5;28;01mreturn\u001b[39;00m \u001b[38;5;28mself\u001b[39m\u001b[38;5;241m.\u001b[39mvisit(node\u001b[38;5;241m.\u001b[39mvalue, \u001b[38;5;241m*\u001b[39m\u001b[38;5;241m*\u001b[39mkwargs)\n",
      "File \u001b[1;32mc:\\Users\\windows\\anaconda3\\Lib\\site-packages\\pandas\\core\\computation\\expr.py:411\u001b[0m, in \u001b[0;36mBaseExprVisitor.visit\u001b[1;34m(self, node, **kwargs)\u001b[0m\n\u001b[0;32m    409\u001b[0m method \u001b[38;5;241m=\u001b[39m \u001b[38;5;124mf\u001b[39m\u001b[38;5;124m\"\u001b[39m\u001b[38;5;124mvisit_\u001b[39m\u001b[38;5;132;01m{\u001b[39;00m\u001b[38;5;28mtype\u001b[39m(node)\u001b[38;5;241m.\u001b[39m\u001b[38;5;18m__name__\u001b[39m\u001b[38;5;132;01m}\u001b[39;00m\u001b[38;5;124m\"\u001b[39m\n\u001b[0;32m    410\u001b[0m visitor \u001b[38;5;241m=\u001b[39m \u001b[38;5;28mgetattr\u001b[39m(\u001b[38;5;28mself\u001b[39m, method)\n\u001b[1;32m--> 411\u001b[0m \u001b[38;5;28;01mreturn\u001b[39;00m visitor(node, \u001b[38;5;241m*\u001b[39m\u001b[38;5;241m*\u001b[39mkwargs)\n",
      "File \u001b[1;32mc:\\Users\\windows\\anaconda3\\Lib\\site-packages\\pandas\\core\\computation\\expr.py:718\u001b[0m, in \u001b[0;36mBaseExprVisitor.visit_Compare\u001b[1;34m(self, node, **kwargs)\u001b[0m\n\u001b[0;32m    716\u001b[0m     op \u001b[38;5;241m=\u001b[39m \u001b[38;5;28mself\u001b[39m\u001b[38;5;241m.\u001b[39mtranslate_In(ops[\u001b[38;5;241m0\u001b[39m])\n\u001b[0;32m    717\u001b[0m     binop \u001b[38;5;241m=\u001b[39m ast\u001b[38;5;241m.\u001b[39mBinOp(op\u001b[38;5;241m=\u001b[39mop, left\u001b[38;5;241m=\u001b[39mnode\u001b[38;5;241m.\u001b[39mleft, right\u001b[38;5;241m=\u001b[39mcomps[\u001b[38;5;241m0\u001b[39m])\n\u001b[1;32m--> 718\u001b[0m     \u001b[38;5;28;01mreturn\u001b[39;00m \u001b[38;5;28mself\u001b[39m\u001b[38;5;241m.\u001b[39mvisit(binop)\n\u001b[0;32m    720\u001b[0m \u001b[38;5;66;03m# recursive case: we have a chained comparison, a CMP b CMP c, etc.\u001b[39;00m\n\u001b[0;32m    721\u001b[0m left \u001b[38;5;241m=\u001b[39m node\u001b[38;5;241m.\u001b[39mleft\n",
      "File \u001b[1;32mc:\\Users\\windows\\anaconda3\\Lib\\site-packages\\pandas\\core\\computation\\expr.py:411\u001b[0m, in \u001b[0;36mBaseExprVisitor.visit\u001b[1;34m(self, node, **kwargs)\u001b[0m\n\u001b[0;32m    409\u001b[0m method \u001b[38;5;241m=\u001b[39m \u001b[38;5;124mf\u001b[39m\u001b[38;5;124m\"\u001b[39m\u001b[38;5;124mvisit_\u001b[39m\u001b[38;5;132;01m{\u001b[39;00m\u001b[38;5;28mtype\u001b[39m(node)\u001b[38;5;241m.\u001b[39m\u001b[38;5;18m__name__\u001b[39m\u001b[38;5;132;01m}\u001b[39;00m\u001b[38;5;124m\"\u001b[39m\n\u001b[0;32m    410\u001b[0m visitor \u001b[38;5;241m=\u001b[39m \u001b[38;5;28mgetattr\u001b[39m(\u001b[38;5;28mself\u001b[39m, method)\n\u001b[1;32m--> 411\u001b[0m \u001b[38;5;28;01mreturn\u001b[39;00m visitor(node, \u001b[38;5;241m*\u001b[39m\u001b[38;5;241m*\u001b[39mkwargs)\n",
      "File \u001b[1;32mc:\\Users\\windows\\anaconda3\\Lib\\site-packages\\pandas\\core\\computation\\expr.py:531\u001b[0m, in \u001b[0;36mBaseExprVisitor.visit_BinOp\u001b[1;34m(self, node, **kwargs)\u001b[0m\n\u001b[0;32m    530\u001b[0m \u001b[38;5;28;01mdef\u001b[39;00m \u001b[38;5;21mvisit_BinOp\u001b[39m(\u001b[38;5;28mself\u001b[39m, node, \u001b[38;5;241m*\u001b[39m\u001b[38;5;241m*\u001b[39mkwargs):\n\u001b[1;32m--> 531\u001b[0m     op, op_class, left, right \u001b[38;5;241m=\u001b[39m \u001b[38;5;28mself\u001b[39m\u001b[38;5;241m.\u001b[39m_maybe_transform_eq_ne(node)\n\u001b[0;32m    532\u001b[0m     left, right \u001b[38;5;241m=\u001b[39m \u001b[38;5;28mself\u001b[39m\u001b[38;5;241m.\u001b[39m_maybe_downcast_constants(left, right)\n\u001b[0;32m    533\u001b[0m     \u001b[38;5;28;01mreturn\u001b[39;00m \u001b[38;5;28mself\u001b[39m\u001b[38;5;241m.\u001b[39m_maybe_evaluate_binop(op, op_class, left, right)\n",
      "File \u001b[1;32mc:\\Users\\windows\\anaconda3\\Lib\\site-packages\\pandas\\core\\computation\\expr.py:453\u001b[0m, in \u001b[0;36mBaseExprVisitor._maybe_transform_eq_ne\u001b[1;34m(self, node, left, right)\u001b[0m\n\u001b[0;32m    451\u001b[0m     left \u001b[38;5;241m=\u001b[39m \u001b[38;5;28mself\u001b[39m\u001b[38;5;241m.\u001b[39mvisit(node\u001b[38;5;241m.\u001b[39mleft, side\u001b[38;5;241m=\u001b[39m\u001b[38;5;124m\"\u001b[39m\u001b[38;5;124mleft\u001b[39m\u001b[38;5;124m\"\u001b[39m)\n\u001b[0;32m    452\u001b[0m \u001b[38;5;28;01mif\u001b[39;00m right \u001b[38;5;129;01mis\u001b[39;00m \u001b[38;5;28;01mNone\u001b[39;00m:\n\u001b[1;32m--> 453\u001b[0m     right \u001b[38;5;241m=\u001b[39m \u001b[38;5;28mself\u001b[39m\u001b[38;5;241m.\u001b[39mvisit(node\u001b[38;5;241m.\u001b[39mright, side\u001b[38;5;241m=\u001b[39m\u001b[38;5;124m\"\u001b[39m\u001b[38;5;124mright\u001b[39m\u001b[38;5;124m\"\u001b[39m)\n\u001b[0;32m    454\u001b[0m op, op_class, left, right \u001b[38;5;241m=\u001b[39m \u001b[38;5;28mself\u001b[39m\u001b[38;5;241m.\u001b[39m_rewrite_membership_op(node, left, right)\n\u001b[0;32m    455\u001b[0m \u001b[38;5;28;01mreturn\u001b[39;00m op, op_class, left, right\n",
      "File \u001b[1;32mc:\\Users\\windows\\anaconda3\\Lib\\site-packages\\pandas\\core\\computation\\expr.py:411\u001b[0m, in \u001b[0;36mBaseExprVisitor.visit\u001b[1;34m(self, node, **kwargs)\u001b[0m\n\u001b[0;32m    409\u001b[0m method \u001b[38;5;241m=\u001b[39m \u001b[38;5;124mf\u001b[39m\u001b[38;5;124m\"\u001b[39m\u001b[38;5;124mvisit_\u001b[39m\u001b[38;5;132;01m{\u001b[39;00m\u001b[38;5;28mtype\u001b[39m(node)\u001b[38;5;241m.\u001b[39m\u001b[38;5;18m__name__\u001b[39m\u001b[38;5;132;01m}\u001b[39;00m\u001b[38;5;124m\"\u001b[39m\n\u001b[0;32m    410\u001b[0m visitor \u001b[38;5;241m=\u001b[39m \u001b[38;5;28mgetattr\u001b[39m(\u001b[38;5;28mself\u001b[39m, method)\n\u001b[1;32m--> 411\u001b[0m \u001b[38;5;28;01mreturn\u001b[39;00m visitor(node, \u001b[38;5;241m*\u001b[39m\u001b[38;5;241m*\u001b[39mkwargs)\n",
      "File \u001b[1;32mc:\\Users\\windows\\anaconda3\\Lib\\site-packages\\pandas\\core\\computation\\expr.py:544\u001b[0m, in \u001b[0;36mBaseExprVisitor.visit_Name\u001b[1;34m(self, node, **kwargs)\u001b[0m\n\u001b[0;32m    543\u001b[0m \u001b[38;5;28;01mdef\u001b[39;00m \u001b[38;5;21mvisit_Name\u001b[39m(\u001b[38;5;28mself\u001b[39m, node, \u001b[38;5;241m*\u001b[39m\u001b[38;5;241m*\u001b[39mkwargs):\n\u001b[1;32m--> 544\u001b[0m     \u001b[38;5;28;01mreturn\u001b[39;00m \u001b[38;5;28mself\u001b[39m\u001b[38;5;241m.\u001b[39mterm_type(node\u001b[38;5;241m.\u001b[39mid, \u001b[38;5;28mself\u001b[39m\u001b[38;5;241m.\u001b[39menv, \u001b[38;5;241m*\u001b[39m\u001b[38;5;241m*\u001b[39mkwargs)\n",
      "File \u001b[1;32mc:\\Users\\windows\\anaconda3\\Lib\\site-packages\\pandas\\core\\computation\\ops.py:91\u001b[0m, in \u001b[0;36mTerm.__init__\u001b[1;34m(self, name, env, side, encoding)\u001b[0m\n\u001b[0;32m     89\u001b[0m tname \u001b[38;5;241m=\u001b[39m \u001b[38;5;28mstr\u001b[39m(name)\n\u001b[0;32m     90\u001b[0m \u001b[38;5;28mself\u001b[39m\u001b[38;5;241m.\u001b[39mis_local \u001b[38;5;241m=\u001b[39m tname\u001b[38;5;241m.\u001b[39mstartswith(LOCAL_TAG) \u001b[38;5;129;01mor\u001b[39;00m tname \u001b[38;5;129;01min\u001b[39;00m DEFAULT_GLOBALS\n\u001b[1;32m---> 91\u001b[0m \u001b[38;5;28mself\u001b[39m\u001b[38;5;241m.\u001b[39m_value \u001b[38;5;241m=\u001b[39m \u001b[38;5;28mself\u001b[39m\u001b[38;5;241m.\u001b[39m_resolve_name()\n\u001b[0;32m     92\u001b[0m \u001b[38;5;28mself\u001b[39m\u001b[38;5;241m.\u001b[39mencoding \u001b[38;5;241m=\u001b[39m encoding\n",
      "File \u001b[1;32mc:\\Users\\windows\\anaconda3\\Lib\\site-packages\\pandas\\core\\computation\\ops.py:115\u001b[0m, in \u001b[0;36mTerm._resolve_name\u001b[1;34m(self)\u001b[0m\n\u001b[0;32m    110\u001b[0m \u001b[38;5;28;01mif\u001b[39;00m local_name \u001b[38;5;129;01min\u001b[39;00m \u001b[38;5;28mself\u001b[39m\u001b[38;5;241m.\u001b[39menv\u001b[38;5;241m.\u001b[39mscope \u001b[38;5;129;01mand\u001b[39;00m \u001b[38;5;28misinstance\u001b[39m(\n\u001b[0;32m    111\u001b[0m     \u001b[38;5;28mself\u001b[39m\u001b[38;5;241m.\u001b[39menv\u001b[38;5;241m.\u001b[39mscope[local_name], \u001b[38;5;28mtype\u001b[39m\n\u001b[0;32m    112\u001b[0m ):\n\u001b[0;32m    113\u001b[0m     is_local \u001b[38;5;241m=\u001b[39m \u001b[38;5;28;01mFalse\u001b[39;00m\n\u001b[1;32m--> 115\u001b[0m res \u001b[38;5;241m=\u001b[39m \u001b[38;5;28mself\u001b[39m\u001b[38;5;241m.\u001b[39menv\u001b[38;5;241m.\u001b[39mresolve(local_name, is_local\u001b[38;5;241m=\u001b[39mis_local)\n\u001b[0;32m    116\u001b[0m \u001b[38;5;28mself\u001b[39m\u001b[38;5;241m.\u001b[39mupdate(res)\n\u001b[0;32m    118\u001b[0m \u001b[38;5;28;01mif\u001b[39;00m \u001b[38;5;28mhasattr\u001b[39m(res, \u001b[38;5;124m\"\u001b[39m\u001b[38;5;124mndim\u001b[39m\u001b[38;5;124m\"\u001b[39m) \u001b[38;5;129;01mand\u001b[39;00m res\u001b[38;5;241m.\u001b[39mndim \u001b[38;5;241m>\u001b[39m \u001b[38;5;241m2\u001b[39m:\n",
      "File \u001b[1;32mc:\\Users\\windows\\anaconda3\\Lib\\site-packages\\pandas\\core\\computation\\scope.py:244\u001b[0m, in \u001b[0;36mScope.resolve\u001b[1;34m(self, key, is_local)\u001b[0m\n\u001b[0;32m    242\u001b[0m     \u001b[38;5;28;01mreturn\u001b[39;00m \u001b[38;5;28mself\u001b[39m\u001b[38;5;241m.\u001b[39mtemps[key]\n\u001b[0;32m    243\u001b[0m \u001b[38;5;28;01mexcept\u001b[39;00m \u001b[38;5;167;01mKeyError\u001b[39;00m \u001b[38;5;28;01mas\u001b[39;00m err:\n\u001b[1;32m--> 244\u001b[0m     \u001b[38;5;28;01mraise\u001b[39;00m UndefinedVariableError(key, is_local) \u001b[38;5;28;01mfrom\u001b[39;00m \u001b[38;5;21;01merr\u001b[39;00m\n",
      "\u001b[1;31mUndefinedVariableError\u001b[0m: name 'close' is not defined"
     ]
    }
   ],
   "source": [
    "## 고객 구조 변화 (재방문율·신규율)\n",
    "\n",
    "# 1) 폐업점포 직전 데이터 (df 기반)\n",
    "closed_last_cust = (\n",
    "    df.merge(closed_info[[\"num\",\"close\"]], on=\"num\")\n",
    "    .query(\"ym < close\")       # 폐업 전 데이터만\n",
    "    .sort_values([\"num\",\"ym\"])\n",
    "    .groupby(\"num\")\n",
    "    .tail(1)                   # 폐업 직전 데이터\n",
    ")\n",
    "\n",
    "# 2) 생존점포 최근 데이터 (df 기반)\n",
    "alive_last_cust = (\n",
    "    df.merge(alive_info[[\"num\"]], on=\"num\")\n",
    "    .sort_values([\"num\",\"ym\"])\n",
    "    .groupby(\"num\")\n",
    "    .tail(1)                   # 가장 최근 데이터\n",
    ")\n",
    "\n",
    "# 3) 재방문율 비교\n",
    "plt.figure(figsize=(12,5))\n",
    "sns.kdeplot(closed_last_cust[\"revisit_ratio\"], label=\"폐업 직전 - 재방문율\", shade=True)\n",
    "sns.kdeplot(alive_last_cust[\"revisit_ratio\"], label=\"생존 최근 - 재방문율\", shade=True)\n",
    "plt.title(\"폐업 vs 생존: 재방문율 비교\")\n",
    "plt.legend()\n",
    "plt.show()\n",
    "\n",
    "# 4) 신규고객율 비교\n",
    "plt.figure(figsize=(12,5))\n",
    "sns.kdeplot(closed_last_cust[\"new_ratio\"], label=\"폐업 직전 - 신규율\", shade=True)\n",
    "sns.kdeplot(alive_last_cust[\"new_ratio\"], label=\"생존 최근 - 신규율\", shade=True)\n",
    "plt.title(\"폐업 vs 생존: 신규 고객 비율 비교\")\n",
    "plt.legend()\n",
    "plt.show()\n",
    "\n"
   ]
  },
  {
   "cell_type": "code",
   "execution_count": null,
   "id": "bb0c8299",
   "metadata": {},
   "outputs": [],
   "source": [
    "## 5. 업종 대비 경쟁력 비교\n",
    "# 업종별 평균 대비 상대 매출\n",
    "industry_avg = df_usage.groupby([\"ym\",\"biz_type\"])[\"rel_sales_ratio\"].mean().reset_index()\n",
    "\n",
    "closed_last_ind = closed_last.merge(df_info[[\"num\",\"biz_type\"]], on=\"num\") \\\n",
    "    .merge(industry_avg, on=[\"ym\",\"biz_type\"], suffixes=(\"_store\",\"_industry\"))\n",
    "\n",
    "closed_last_ind[\"gap\"] = closed_last_ind[\"rel_sales_ratio_store\"] - closed_last_ind[\"rel_sales_ratio_industry\"]\n",
    "\n",
    "plt.figure(figsize=(10,5))\n",
    "sns.histplot(closed_last_ind[\"gap\"], bins=30, kde=True)\n",
    "plt.axvline(0, color=\"red\", linestyle=\"--\")\n",
    "plt.title(\"폐업 가맹점: 업종 평균 대비 매출 격차 (직전월)\")\n",
    "plt.show()\n"
   ]
  },
  {
   "cell_type": "markdown",
   "id": "5c1d0c94",
   "metadata": {},
   "source": [
    "---"
   ]
  },
  {
   "cell_type": "code",
   "execution_count": null,
   "id": "c8c1e4a5",
   "metadata": {},
   "outputs": [],
   "source": [
    "## df_final에서 폐업데이터만 추출"
   ]
  },
  {
   "cell_type": "code",
   "execution_count": null,
   "id": "4e431769",
   "metadata": {},
   "outputs": [
    {
     "name": "stdout",
     "output_type": "stream",
     "text": [
      "폐업 데이터 크기: (2334, 39)\n",
      "             num         ym oper_month_grp sales_grp txn_cnt_grp cust_cnt_grp  \\\n",
      "1696  04393D7C92 2023-01-01       4_50-75%  4_50-75%    4_50-75%     4_50-75%   \n",
      "1697  04393D7C92 2023-02-01       4_50-75%  4_50-75%    4_50-75%     4_50-75%   \n",
      "1698  04393D7C92 2023-03-01       4_50-75%  4_50-75%    4_50-75%     4_50-75%   \n",
      "1699  04393D7C92 2023-04-01       4_50-75%  5_75-90%    4_50-75%     4_50-75%   \n",
      "1700  04393D7C92 2023-05-01       4_50-75%  4_50-75%    4_50-75%     4_50-75%   \n",
      "\n",
      "     avg_pay_grp cancel_rate_grp  delivery_sales_ratio  rel_sales_ratio  ...  \\\n",
      "1696    3_25-50%         1_상위1구간                  17.7             59.0  ...   \n",
      "1697    4_50-75%         1_상위1구간                  30.5             43.7  ...   \n",
      "1698    3_25-50%         1_상위1구간                  32.9             52.2  ...   \n",
      "1699    3_25-50%         1_상위1구간                  44.4             32.5  ...   \n",
      "1700    3_25-50%  6_상위6구간(하위1구간)                  20.9             50.1  ...   \n",
      "\n",
      "      floating_ratio                addr     name  brand_cd  sigungu  \\\n",
      "1696            40.0  서울특별시 성동구 왕십리로 357  왕십*****       NaN   서울 성동구   \n",
      "1697            38.9  서울특별시 성동구 왕십리로 357  왕십*****       NaN   서울 성동구   \n",
      "1698            25.9  서울특별시 성동구 왕십리로 357  왕십*****       NaN   서울 성동구   \n",
      "1699            22.2  서울특별시 성동구 왕십리로 357  왕십*****       NaN   서울 성동구   \n",
      "1700            30.0  서울특별시 성동구 왕십리로 357  왕십*****       NaN   서울 성동구   \n",
      "\n",
      "      biz_type  market       open      close  is_closed  \n",
      "1696  한식-육류/고기     NaN 2019-03-13 2025-07-23          1  \n",
      "1697  한식-육류/고기     NaN 2019-03-13 2025-07-23          1  \n",
      "1698  한식-육류/고기     NaN 2019-03-13 2025-07-23          1  \n",
      "1699  한식-육류/고기     NaN 2019-03-13 2025-07-23          1  \n",
      "1700  한식-육류/고기     NaN 2019-03-13 2025-07-23          1  \n",
      "\n",
      "[5 rows x 39 columns]\n"
     ]
    }
   ],
   "source": [
    "# 폐업 가맹점만 추출\n",
    "df_closed = df_final[df_final[\"close\"].notna()].copy()\n",
    "\n",
    "print(\"폐업 데이터 크기:\", df_closed.shape)\n",
    "print(df_closed.head())"
   ]
  },
  {
   "cell_type": "code",
   "execution_count": null,
   "id": "680244c0",
   "metadata": {},
   "outputs": [
    {
     "data": {
      "text/plain": [
       "Index(['num', 'addr', 'name', 'brand_cd', 'sigungu', 'biz_type', 'market',\n",
       "       'open', 'close', 'calc_close', 'lifetime_months'],\n",
       "      dtype='object')"
      ]
     },
     "execution_count": 99,
     "metadata": {},
     "output_type": "execute_result"
    }
   ],
   "source": [
    "df_info.columns"
   ]
  },
  {
   "cell_type": "code",
   "execution_count": null,
   "id": "3de47aa7",
   "metadata": {},
   "outputs": [
    {
     "name": "stdout",
     "output_type": "stream",
     "text": [
      "폐업 점포 수: 127\n",
      "            num             addr               name brand_cd sigungu  \\\n",
      "107  4349A8302A    서울 성동구 장터길 23           롯데******     햄버거1  서울 성동구   \n",
      "159  FCAF2BC53E   서울 성동구 마조로 21.           빽다******   커피전문점4  서울 성동구   \n",
      "232  2889D57BC9   서울  성동구  성수동2가              영남***      NaN  서울 성동구   \n",
      "246  19DC3A560D  서울 성동구 동호로 102.  더건***************      NaN  서울 성동구   \n",
      "273  57B4E2F996  서울 성동구 마장로 228.         장충********      NaN  서울 성동구   \n",
      "\n",
      "     biz_type market       open      close calc_close  lifetime_months  \n",
      "107       햄버거   금남시장 2015-08-12 2025-08-18 2025-08-18              120  \n",
      "159     커피전문점    한양대 2015-07-31 2025-08-18 2025-08-18              121  \n",
      "232     식품 제조     성수 2011-12-14 2025-07-31 2025-07-31              163  \n",
      "246     식품 제조    NaN 2015-03-12 2025-07-17 2025-07-17              124  \n",
      "273  한식-육류/고기    왕십리 2015-11-23 2025-08-11 2025-08-11              117  \n"
     ]
    }
   ],
   "source": [
    "# 폐업 점포만 추출\n",
    "df_info_closed = df_info[df_info[\"close\"].notna()].copy()\n",
    "\n",
    "print(\"폐업 점포 수:\", df_info_closed.shape[0])\n",
    "print(df_info_closed.head())\n"
   ]
  },
  {
   "cell_type": "code",
   "execution_count": null,
   "id": "743c9287",
   "metadata": {},
   "outputs": [
    {
     "name": "stdout",
     "output_type": "stream",
     "text": [
      "\n",
      "업종별 폐업 점포 수:\n",
      " biz_type\n",
      "한식-단품요리일반    18\n",
      "카페           12\n",
      "한식-육류/고기     11\n",
      "치킨            7\n",
      "축산물           7\n",
      "양식            7\n",
      "베이커리          6\n",
      "분식            6\n",
      "커피전문점         5\n",
      "한식-해물/생선      5\n",
      "Name: count, dtype: int64\n"
     ]
    },
    {
     "data": {
      "image/png": "[encoded data removed]",
      "text/plain": [
       "<Figure size 800x500 with 1 Axes>"
      ]
     },
     "metadata": {},
     "output_type": "display_data"
    }
   ],
   "source": [
    "# 1. 업종별 폐업 점포 수\n",
    "industry_counts = df_info_closed[\"biz_type\"].value_counts()\n",
    "print(\"\\n업종별 폐업 점포 수:\\n\", industry_counts.head(10))\n",
    "\n",
    "industry_counts.head(10).plot(kind=\"barh\", figsize=(8,5), title=\"업종별 폐업 점포 수 (Top 10)\")\n",
    "plt.xlabel(\"점포 수\")\n",
    "plt.ylabel(\"업종\")\n",
    "plt.gca().invert_yaxis()\n",
    "plt.show()"
   ]
  },
  {
   "cell_type": "code",
   "execution_count": null,
   "id": "a2832e7a",
   "metadata": {},
   "outputs": [
    {
     "name": "stdout",
     "output_type": "stream",
     "text": [
      "\n",
      "상권별 폐업 점포 수:\n",
      " market\n",
      "성수        21\n",
      "왕십리       15\n",
      "한양대       14\n",
      "뚝섬         9\n",
      "금남시장       7\n",
      "신금호        6\n",
      "답십리        6\n",
      "마장동        6\n",
      "행당         3\n",
      "장한평자동차     2\n",
      "Name: count, dtype: int64\n"
     ]
    },
    {
     "data": {
      "image/png": "[encoded data removed]",
      "text/plain": [
       "<Figure size 800x500 with 1 Axes>"
      ]
     },
     "metadata": {},
     "output_type": "display_data"
    }
   ],
   "source": [
    "\n",
    "# 2. 상권/시장별 폐업 점포 수\n",
    "market_counts = df_info_closed[\"market\"].value_counts()\n",
    "print(\"\\n상권별 폐업 점포 수:\\n\", market_counts.head(10))\n",
    "\n",
    "market_counts.head(10).plot(kind=\"barh\", figsize=(8,5), title=\"상권별 폐업 점포 수 (Top 10)\")\n",
    "plt.xlabel(\"점포 수\")\n",
    "plt.ylabel(\"시장\")\n",
    "plt.gca().invert_yaxis()\n",
    "plt.show()"
   ]
  },
  {
   "cell_type": "code",
   "execution_count": null,
   "id": "2f56f5fc",
   "metadata": {},
   "outputs": [
    {
     "name": "stdout",
     "output_type": "stream",
     "text": [
      "\n",
      "전체 폐업 점포 평균 생존기간: 54.4개월\n"
     ]
    }
   ],
   "source": [
    "# 3. 평균 생존 개월 수\n",
    "avg_lifetime = df_info_closed[\"lifetime_months\"].mean()\n",
    "print(f\"\\n전체 폐업 점포 평균 생존기간: {avg_lifetime:.1f}개월\")\n"
   ]
  },
  {
   "cell_type": "code",
   "execution_count": null,
   "id": "9aa83a69",
   "metadata": {},
   "outputs": [
    {
     "name": "stdout",
     "output_type": "stream",
     "text": [
      "\n",
      "업종별 평균 생존기간:\n",
      " biz_type\n",
      "아이스크림/빙수      7.00\n",
      "포장마차         11.00\n",
      "식료품          16.75\n",
      "기타세계요리       17.00\n",
      "구내식당/푸드코트    22.00\n",
      "도시락          24.00\n",
      "일식당          24.80\n",
      "중식-훠궈/마라탕    31.00\n",
      "와인샵          32.00\n",
      "호프/맥주        33.00\n",
      "Name: lifetime_months, dtype: float64\n"
     ]
    },
    {
     "data": {
      "image/png": "[encoded data removed]",
      "text/plain": [
       "<Figure size 800x600 with 1 Axes>"
      ]
     },
     "metadata": {},
     "output_type": "display_data"
    }
   ],
   "source": [
    "# 업종별 평균 생존 개월 수\n",
    "industry_lifetime = (\n",
    "    df_info_closed.groupby(\"biz_type\")[\"lifetime_months\"]\n",
    "    .mean()\n",
    "    .sort_values()\n",
    ")\n",
    "print(\"\\n업종별 평균 생존기간:\\n\", industry_lifetime.head(10))\n",
    "industry_lifetime.plot(kind=\"barh\", figsize=(8,6), title=\"업종별 평균 생존기간\")\n",
    "plt.xlabel(\"평균 개월 수\")\n",
    "plt.ylabel(\"업종\")\n",
    "plt.show()\n"
   ]
  },
  {
   "cell_type": "code",
   "execution_count": null,
   "id": "7557738b",
   "metadata": {},
   "outputs": [
    {
     "name": "stdout",
     "output_type": "stream",
     "text": [
      "\n",
      "조기폐업(24개월 이하) 비율: 24.4%\n"
     ]
    }
   ],
   "source": [
    "# 4. 조기폐업(24개월 이하) 비율\n",
    "early_fail_ratio = (df_info_closed[\"lifetime_months\"] <= 24).mean() * 100\n",
    "print(f\"\\n조기폐업(24개월 이하) 비율: {early_fail_ratio:.1f}%\")\n"
   ]
  },
  {
   "cell_type": "code",
   "execution_count": null,
   "id": "454f29f4",
   "metadata": {},
   "outputs": [
    {
     "data": {
      "image/png": "[encoded data removed]",
      "text/plain": [
       "<Figure size 800x500 with 1 Axes>"
      ]
     },
     "metadata": {},
     "output_type": "display_data"
    }
   ],
   "source": [
    "\n",
    "# 5. 생존기간 분포\n",
    "df_info_closed[\"lifetime_months\"].hist(bins=30, figsize=(8,5))\n",
    "plt.title(\"폐업 점포 생존기간 분포\")\n",
    "plt.xlabel(\"생존 개월 수\")\n",
    "plt.ylabel(\"점포 수\")\n",
    "plt.show()"
   ]
  },
  {
   "cell_type": "markdown",
   "id": "f2e3591e",
   "metadata": {},
   "source": [
    "---"
   ]
  },
  {
   "cell_type": "code",
   "execution_count": null,
   "id": "b921a7a3",
   "metadata": {},
   "outputs": [
    {
     "data": {
      "text/plain": [
       "Index(['num', 'ym', 'oper_month_grp', 'sales_grp', 'txn_cnt_grp',\n",
       "       'cust_cnt_grp', 'avg_pay_grp', 'cancel_rate_grp',\n",
       "       'delivery_sales_ratio', 'rel_sales_ratio', 'M1_SME_RY_CNT_RAT',\n",
       "       'sales_rank_industry', 'sales_rank_market', 'share_sales_industry',\n",
       "       'share_sales_market'],\n",
       "      dtype='object')"
      ]
     },
     "execution_count": 109,
     "metadata": {},
     "output_type": "execute_result"
    }
   ],
   "source": [
    "df_usage.columns"
   ]
  },
  {
   "cell_type": "code",
   "execution_count": null,
   "id": "c864e9c0",
   "metadata": {},
   "outputs": [],
   "source": [
    "# 1. 폐업 점포 리스트 가져오기 (df_info 기준)\n",
    "closed_ids = df_info[df_info[\"close\"].notna()][[\"num\", \"close\"]]\n"
   ]
  },
  {
   "cell_type": "code",
   "execution_count": null,
   "id": "4bf8101c",
   "metadata": {},
   "outputs": [],
   "source": [
    "# 2. usage 데이터와 병합\n",
    "df_usage_closed = pd.merge(df_usage, closed_ids, on=\"num\", how=\"inner\")"
   ]
  },
  {
   "cell_type": "code",
   "execution_count": null,
   "id": "3dce4e0b",
   "metadata": {},
   "outputs": [
    {
     "data": {
      "text/html": [
       "<div>\n",
       "<style scoped>\n",
       "    .dataframe tbody tr th:only-of-type {\n",
       "        vertical-align: middle;\n",
       "    }\n",
       "\n",
       "    .dataframe tbody tr th {\n",
       "        vertical-align: top;\n",
       "    }\n",
       "\n",
       "    .dataframe thead th {\n",
       "        text-align: right;\n",
       "    }\n",
       "</style>\n",
       "<table border=\"1\" class=\"dataframe\">\n",
       "  <thead>\n",
       "    <tr style=\"text-align: right;\">\n",
       "      <th></th>\n",
       "      <th>num</th>\n",
       "      <th>ym</th>\n",
       "      <th>oper_month_grp</th>\n",
       "      <th>sales_grp</th>\n",
       "      <th>txn_cnt_grp</th>\n",
       "      <th>cust_cnt_grp</th>\n",
       "      <th>avg_pay_grp</th>\n",
       "      <th>cancel_rate_grp</th>\n",
       "      <th>delivery_sales_ratio</th>\n",
       "      <th>rel_sales_ratio</th>\n",
       "      <th>M1_SME_RY_CNT_RAT</th>\n",
       "      <th>sales_rank_industry</th>\n",
       "      <th>sales_rank_market</th>\n",
       "      <th>share_sales_industry</th>\n",
       "      <th>share_sales_market</th>\n",
       "      <th>close</th>\n",
       "      <th>months_to_close</th>\n",
       "    </tr>\n",
       "  </thead>\n",
       "  <tbody>\n",
       "    <tr>\n",
       "      <th>0</th>\n",
       "      <td>04393D7C92</td>\n",
       "      <td>2023-05-01</td>\n",
       "      <td>4_50-75%</td>\n",
       "      <td>4_50-75%</td>\n",
       "      <td>4_50-75%</td>\n",
       "      <td>4_50-75%</td>\n",
       "      <td>3_25-50%</td>\n",
       "      <td>6_상위6구간(하위1구간)</td>\n",
       "      <td>20.9</td>\n",
       "      <td>50.1</td>\n",
       "      <td>23.3</td>\n",
       "      <td>37.7</td>\n",
       "      <td>0.0</td>\n",
       "      <td>9.5</td>\n",
       "      <td>-999999.9</td>\n",
       "      <td>2025-07-23</td>\n",
       "      <td>26</td>\n",
       "    </tr>\n",
       "    <tr>\n",
       "      <th>1</th>\n",
       "      <td>04393D7C92</td>\n",
       "      <td>2023-10-01</td>\n",
       "      <td>3_25-50%</td>\n",
       "      <td>4_50-75%</td>\n",
       "      <td>4_50-75%</td>\n",
       "      <td>4_50-75%</td>\n",
       "      <td>3_25-50%</td>\n",
       "      <td>6_상위6구간(하위1구간)</td>\n",
       "      <td>31.7</td>\n",
       "      <td>61.3</td>\n",
       "      <td>22.4</td>\n",
       "      <td>41.6</td>\n",
       "      <td>0.0</td>\n",
       "      <td>11.5</td>\n",
       "      <td>-999999.9</td>\n",
       "      <td>2025-07-23</td>\n",
       "      <td>21</td>\n",
       "    </tr>\n",
       "    <tr>\n",
       "      <th>2</th>\n",
       "      <td>04393D7C92</td>\n",
       "      <td>2024-06-01</td>\n",
       "      <td>3_25-50%</td>\n",
       "      <td>5_75-90%</td>\n",
       "      <td>4_50-75%</td>\n",
       "      <td>4_50-75%</td>\n",
       "      <td>3_25-50%</td>\n",
       "      <td>1_상위1구간</td>\n",
       "      <td>33.0</td>\n",
       "      <td>22.3</td>\n",
       "      <td>25.4</td>\n",
       "      <td>48.2</td>\n",
       "      <td>0.0</td>\n",
       "      <td>17.3</td>\n",
       "      <td>-999999.9</td>\n",
       "      <td>2025-07-23</td>\n",
       "      <td>13</td>\n",
       "    </tr>\n",
       "    <tr>\n",
       "      <th>3</th>\n",
       "      <td>04393D7C92</td>\n",
       "      <td>2024-11-01</td>\n",
       "      <td>3_25-50%</td>\n",
       "      <td>4_50-75%</td>\n",
       "      <td>4_50-75%</td>\n",
       "      <td>4_50-75%</td>\n",
       "      <td>3_25-50%</td>\n",
       "      <td>1_상위1구간</td>\n",
       "      <td>18.6</td>\n",
       "      <td>29.6</td>\n",
       "      <td>29.1</td>\n",
       "      <td>50.8</td>\n",
       "      <td>0.0</td>\n",
       "      <td>16.9</td>\n",
       "      <td>-999999.9</td>\n",
       "      <td>2025-07-23</td>\n",
       "      <td>8</td>\n",
       "    </tr>\n",
       "    <tr>\n",
       "      <th>4</th>\n",
       "      <td>04393D7C92</td>\n",
       "      <td>2024-01-01</td>\n",
       "      <td>3_25-50%</td>\n",
       "      <td>4_50-75%</td>\n",
       "      <td>4_50-75%</td>\n",
       "      <td>4_50-75%</td>\n",
       "      <td>3_25-50%</td>\n",
       "      <td>1_상위1구간</td>\n",
       "      <td>39.7</td>\n",
       "      <td>28.4</td>\n",
       "      <td>28.9</td>\n",
       "      <td>45.9</td>\n",
       "      <td>0.0</td>\n",
       "      <td>17.5</td>\n",
       "      <td>-999999.9</td>\n",
       "      <td>2025-07-23</td>\n",
       "      <td>18</td>\n",
       "    </tr>\n",
       "  </tbody>\n",
       "</table>\n",
       "</div>"
      ],
      "text/plain": [
       "          num         ym oper_month_grp sales_grp txn_cnt_grp cust_cnt_grp  \\\n",
       "0  04393D7C92 2023-05-01       4_50-75%  4_50-75%    4_50-75%     4_50-75%   \n",
       "1  04393D7C92 2023-10-01       3_25-50%  4_50-75%    4_50-75%     4_50-75%   \n",
       "2  04393D7C92 2024-06-01       3_25-50%  5_75-90%    4_50-75%     4_50-75%   \n",
       "3  04393D7C92 2024-11-01       3_25-50%  4_50-75%    4_50-75%     4_50-75%   \n",
       "4  04393D7C92 2024-01-01       3_25-50%  4_50-75%    4_50-75%     4_50-75%   \n",
       "\n",
       "  avg_pay_grp cancel_rate_grp  delivery_sales_ratio  rel_sales_ratio  \\\n",
       "0    3_25-50%  6_상위6구간(하위1구간)                  20.9             50.1   \n",
       "1    3_25-50%  6_상위6구간(하위1구간)                  31.7             61.3   \n",
       "2    3_25-50%         1_상위1구간                  33.0             22.3   \n",
       "3    3_25-50%         1_상위1구간                  18.6             29.6   \n",
       "4    3_25-50%         1_상위1구간                  39.7             28.4   \n",
       "\n",
       "   M1_SME_RY_CNT_RAT  sales_rank_industry  sales_rank_market  \\\n",
       "0               23.3                 37.7                0.0   \n",
       "1               22.4                 41.6                0.0   \n",
       "2               25.4                 48.2                0.0   \n",
       "3               29.1                 50.8                0.0   \n",
       "4               28.9                 45.9                0.0   \n",
       "\n",
       "   share_sales_industry  share_sales_market      close  months_to_close  \n",
       "0                   9.5           -999999.9 2025-07-23               26  \n",
       "1                  11.5           -999999.9 2025-07-23               21  \n",
       "2                  17.3           -999999.9 2025-07-23               13  \n",
       "3                  16.9           -999999.9 2025-07-23                8  \n",
       "4                  17.5           -999999.9 2025-07-23               18  "
      ]
     },
     "execution_count": 120,
     "metadata": {},
     "output_type": "execute_result"
    }
   ],
   "source": [
    "df_usage_closed.head()"
   ]
  },
  {
   "cell_type": "code",
   "execution_count": null,
   "id": "f786f580",
   "metadata": {},
   "outputs": [
    {
     "name": "stdout",
     "output_type": "stream",
     "text": [
      "폐업 가맹점 수 (unique num): 127\n"
     ]
    }
   ],
   "source": [
    "unique_num_count = df_usage_closed[\"num\"].nunique()\n",
    "print(\"폐업 가맹점 수 (unique num):\", unique_num_count)"
   ]
  },
  {
   "cell_type": "markdown",
   "id": "a9db7a7f",
   "metadata": {},
   "source": [
    "---"
   ]
  },
  {
   "cell_type": "code",
   "execution_count": null,
   "id": "8e09d024",
   "metadata": {},
   "outputs": [],
   "source": [
    "# df_final이 num 단위 기본정보 안 붙은 상태라면,\n",
    "df_final = df_final.merge(\n",
    "    df_info[[\"num\",\"lifetime_months\"]],\n",
    "    on=\"num\",\n",
    "    how=\"left\"\n",
    ")\n"
   ]
  },
  {
   "cell_type": "code",
   "execution_count": null,
   "id": "52f4990e",
   "metadata": {},
   "outputs": [
    {
     "name": "stdout",
     "output_type": "stream",
     "text": [
      "          num         ym close  months_to_close\n",
      "0  000F03E44A 2024-04-01   NaT              NaN\n",
      "1  000F03E44A 2023-12-01   NaT              NaN\n",
      "2  000F03E44A 2024-09-01   NaT              NaN\n",
      "3  000F03E44A 2023-10-01   NaT              NaN\n",
      "4  000F03E44A 2023-08-01   NaT              NaN\n"
     ]
    }
   ],
   "source": [
    "# 1. 폐업일 붙이기\n",
    "df_usage_closed = pd.merge(\n",
    "    df_usage,\n",
    "    df_info[[\"num\", \"close\", \"lifetime_months\"]],\n",
    "    on=\"num\",\n",
    "    how=\"inner\"\n",
    ")\n",
    "\n",
    "# 2. 폐업까지 남은 개월 수 계산 (NaT 안전하게 처리)\n",
    "def months_diff(row):\n",
    "    if pd.notna(row[\"close\"]) and pd.notna(row[\"ym\"]):\n",
    "        return (row[\"close\"].to_period(\"M\") - row[\"ym\"].to_period(\"M\")).n\n",
    "    else:\n",
    "        return None\n",
    "\n",
    "df_usage_closed[\"months_to_close\"] = df_usage_closed.apply(months_diff, axis=1)\n",
    "\n",
    "print(df_usage_closed[[\"num\", \"ym\", \"close\", \"months_to_close\"]].head())\n"
   ]
  },
  {
   "cell_type": "code",
   "execution_count": null,
   "id": "8e6775a5",
   "metadata": {},
   "outputs": [
    {
     "name": "stdout",
     "output_type": "stream",
     "text": [
      "         rel_sales_ratio  sales_rank_market  delivery_sales_ratio  \\\n",
      "cluster                                                             \n",
      "0              12.447222          56.419444        -555528.680556   \n",
      "1              84.642857          10.133929         -53532.569643   \n",
      "2             569.100000           1.766667        -999999.900000   \n",
      "3             133.287500           9.475000        -999999.900000   \n",
      "\n",
      "         lifetime_months  \n",
      "cluster                   \n",
      "0              53.333333  \n",
      "1              33.500000  \n",
      "2             184.000000  \n",
      "3              47.400000  \n",
      "\n",
      "클러스터별 점포 수:\n",
      "cluster\n",
      "1    14\n",
      "3    10\n",
      "0     9\n",
      "2     1\n",
      "Name: count, dtype: int64\n"
     ]
    },
    {
     "name": "stderr",
     "output_type": "stream",
     "text": [
      "c:\\Users\\windows\\anaconda3\\Lib\\site-packages\\sklearn\\cluster\\_kmeans.py:1382: UserWarning: KMeans is known to have a memory leak on Windows with MKL, when there are less chunks than available threads. You can avoid it by setting the environment variable OMP_NUM_THREADS=1.\n",
      "  warnings.warn(\n"
     ]
    }
   ],
   "source": [
    "from sklearn.preprocessing import StandardScaler\n",
    "from sklearn.cluster import KMeans\n",
    "\n",
    "# 3. 폐업 직전 3개월 평균값만 추출\n",
    "features = (\n",
    "    df_usage_closed[df_usage_closed[\"months_to_close\"] <= 3]\n",
    "    .groupby(\"num\")\n",
    "    .agg({\n",
    "        \"rel_sales_ratio\": \"mean\",\n",
    "        \"sales_rank_market\": \"mean\",\n",
    "        \"delivery_sales_ratio\": \"mean\"\n",
    "    })\n",
    "    .reset_index()\n",
    ")\n",
    "\n",
    "# 4. 업력 추가\n",
    "features = features.merge(df_info[[\"num\",\"lifetime_months\"]], on=\"num\", how=\"left\")\n",
    "features = features.dropna()\n",
    "\n",
    "# 5. 스케일링\n",
    "X = features.drop(columns=[\"num\"])\n",
    "scaler = StandardScaler()\n",
    "X_scaled = scaler.fit_transform(X)\n",
    "\n",
    "# 6. KMeans 클러스터링\n",
    "kmeans = KMeans(n_clusters=4, random_state=42, n_init=\"auto\")\n",
    "features[\"cluster\"] = kmeans.fit_predict(X_scaled)\n",
    "\n",
    "# 7. 클러스터별 평균 특성 요약 (수치형만)\n",
    "cluster_summary = features.drop(columns=[\"num\"]).groupby(\"cluster\").mean(numeric_only=True)\n",
    "print(cluster_summary)\n",
    "\n",
    "# 클러스터별 개수\n",
    "print(\"\\n클러스터별 점포 수:\")\n",
    "print(features[\"cluster\"].value_counts())\n"
   ]
  },
  {
   "cell_type": "markdown",
   "id": "b481d685",
   "metadata": {},
   "source": []
  }
 ],
 "metadata": {
  "kernelspec": {
   "display_name": "base",
   "language": "python",
   "name": "python3"
  },
  "language_info": {
   "codemirror_mode": {
    "name": "ipython",
    "version": 3
   },
   "file_extension": ".py",
   "mimetype": "text/x-python",
   "name": "python",
   "nbconvert_exporter": "python",
   "pygments_lexer": "ipython3",
   "version": "3.11.7"
  }
 },
 "nbformat": 4,
 "nbformat_minor": 5
}
