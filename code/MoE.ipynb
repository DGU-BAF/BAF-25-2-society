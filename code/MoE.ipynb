{
 "cells": [
  {
   "cell_type": "code",
   "execution_count": 1,
   "id": "098ca938",
   "metadata": {},
   "outputs": [],
   "source": [
    "import pandas as pd\n",
    "import seaborn as sns\n",
    "import matplotlib.pyplot as plt\n",
    "from statsmodels.stats.outliers_influence import variance_inflation_factor\n",
    "from statsmodels.tools.tools import add_constant\n",
    "import matplotlib.pyplot as plt\n",
    "import numpy as np\n",
    "# ---- 한글 폰트 설정 ----\n",
    "# (Windows) 보통 'Malgun Gothic'\n",
    "plt.rc('font', family='Malgun Gothic')  \n",
    "# (Mac) 보통 'AppleGothic'\n",
    "# plt.rc('font', family='AppleGothic')\n",
    "# (Linux, Colab) 나눔글꼴 경로 지정 필요할 수 있음\n",
    "# plt.rc('font', family='NanumGothic')\n",
    "\n",
    "plt.rc('axes', unicode_minus=False)  # 마이너스 기호 깨짐 방지"
   ]
  },
  {
   "cell_type": "markdown",
   "id": "30201c09",
   "metadata": {},
   "source": [
    "# sliding 데이터 불러오기"
   ]
  },
  {
   "cell_type": "code",
   "execution_count": 2,
   "id": "c85b7159",
   "metadata": {},
   "outputs": [],
   "source": [
    "import pandas as pd\n",
    "import numpy as np\n",
    "import matplotlib.pyplot as plt\n",
    "import seaborn as sns\n",
    "sns.set(style=\"whitegrid\", font=\"Malgun Gothic\")\n",
    "\n",
    "train_df= pd.read_csv(\"../data/processed/train_sliding_sales.csv\", encoding=\"utf-8\")\n",
    "test_df = pd.read_csv(\"../data/processed/test_sliding_sales.csv\", encoding=\"utf-8\")\n",
    "\n"
   ]
  },
  {
   "cell_type": "code",
   "execution_count": 3,
   "id": "11219d77",
   "metadata": {},
   "outputs": [
    {
     "name": "stdout",
     "output_type": "stream",
     "text": [
      "['num', 'biz_type', 'market', 'is_franchise', 'open', 'is_cold_start', 'is_market_missing', 'biz_type_adj', 'market_adj', 'base_ym', 'target_ym', 'y', 'oper_month_grp_mean', 'sales_grp_mean', 'txn_cnt_grp_mean', 'cust_cnt_grp_mean', 'avg_pay_grp_mean', 'cancel_rate_grp_mean', 'delivery_sales_ratio_mean', 'rel_sales_ratio_mean', 'rel_txn_ratio_mean', 'sales_rank_industry_mean', 'sales_rank_market_mean', 'share_sales_industry_mean', 'share_sales_market_mean', 'male_20below_ratio_mean', 'male_30_ratio_mean', 'male_40_ratio_mean', 'male_50_ratio_mean', 'male_60plus_ratio_mean', 'female_20below_ratio_mean', 'female_30_ratio_mean', 'female_40_ratio_mean', 'female_50_ratio_mean', 'female_60plus_ratio_mean', 'revisit_ratio_mean', 'new_ratio_mean', 'resident_ratio_mean', 'worker_ratio_mean', 'floating_ratio_mean', 'sales_estimate_mean', 'is_customer_missing_mean', 'is_behavior_missing_mean', 'is_type_missing_mean', 'is_delivery_missing_mean', 'oper_month_grp_std', 'sales_grp_std', 'txn_cnt_grp_std', 'cust_cnt_grp_std', 'avg_pay_grp_std', 'cancel_rate_grp_std', 'delivery_sales_ratio_std', 'rel_sales_ratio_std', 'rel_txn_ratio_std', 'sales_rank_industry_std', 'sales_rank_market_std', 'share_sales_industry_std', 'share_sales_market_std', 'male_20below_ratio_std', 'male_30_ratio_std', 'male_40_ratio_std', 'male_50_ratio_std', 'male_60plus_ratio_std', 'female_20below_ratio_std', 'female_30_ratio_std', 'female_40_ratio_std', 'female_50_ratio_std', 'female_60plus_ratio_std', 'revisit_ratio_std', 'new_ratio_std', 'resident_ratio_std', 'worker_ratio_std', 'floating_ratio_std', 'sales_estimate_std', 'is_customer_missing_std', 'is_behavior_missing_std', 'is_type_missing_std', 'is_delivery_missing_std', 'oper_month_grp_last', 'sales_grp_last', 'txn_cnt_grp_last', 'cust_cnt_grp_last', 'avg_pay_grp_last', 'cancel_rate_grp_last', 'delivery_sales_ratio_last', 'rel_sales_ratio_last', 'rel_txn_ratio_last', 'sales_rank_industry_last', 'sales_rank_market_last', 'share_sales_industry_last', 'share_sales_market_last', 'male_20below_ratio_last', 'male_30_ratio_last', 'male_40_ratio_last', 'male_50_ratio_last', 'male_60plus_ratio_last', 'female_20below_ratio_last', 'female_30_ratio_last', 'female_40_ratio_last', 'female_50_ratio_last', 'female_60plus_ratio_last', 'revisit_ratio_last', 'new_ratio_last', 'resident_ratio_last', 'worker_ratio_last', 'floating_ratio_last', 'sales_estimate_last', 'is_customer_missing_last', 'is_behavior_missing_last', 'is_type_missing_last', 'is_delivery_missing_last']\n"
     ]
    }
   ],
   "source": [
    "print(list(train_df.columns))"
   ]
  },
  {
   "cell_type": "markdown",
   "id": "57941d7e",
   "metadata": {},
   "source": [
    "# Mixture of Expert(MoE)"
   ]
  },
  {
   "cell_type": "code",
   "execution_count": 4,
   "id": "93e5212d",
   "metadata": {},
   "outputs": [],
   "source": [
    "import numpy as np\n",
    "import pandas as pd\n",
    "from sklearn.mixture import GaussianMixture\n",
    "from sklearn.linear_model import LogisticRegression\n",
    "from sklearn.preprocessing import OneHotEncoder\n",
    "from sklearn.model_selection import train_test_split\n",
    "from sklearn.metrics import log_loss\n"
   ]
  },
  {
   "cell_type": "markdown",
   "id": "22d1b6dc",
   "metadata": {},
   "source": [
    "# 1. Feature Split (X and Z) and Preprocessing"
   ]
  },
  {
   "cell_type": "code",
   "execution_count": 5,
   "id": "f8150dcc",
   "metadata": {},
   "outputs": [],
   "source": [
    "import pandas as pd\n",
    "\n",
    "# Define gate input features (Z) - last-month summary metrics and key indicators\n",
    "Z_features = [\n",
    "    'sales_grp_last',  'cust_cnt_grp_last', 'avg_pay_grp_last',\n",
    "    'delivery_sales_ratio_last', 'new_ratio_last' ,'cancel_rate_grp_last', 'share_sales_industry_last','is_franchise',\n",
    "    'revisit_ratio_last'  #, 'gmm_cluster_bizonly'  #,'sales_estimate_last','is_cold_start'\n",
    "]\n",
    "\n",
    "# Define expert input features (X) - 3-month averages, std devs, and detailed ratios\n",
    "X_features = [\n",
    "    'sales_grp_mean', 'txn_cnt_grp_mean', 'cust_cnt_grp_mean', 'avg_pay_grp_mean','cancel_rate_grp_mean','share_sales_industry_mean',\n",
    "    'sales_grp_std', 'txn_cnt_grp_std', 'sales_estimate_mean', 'sales_estimate_std',\n",
    "    'delivery_sales_ratio_mean', 'new_ratio_mean', 'revisit_ratio_mean',\n",
    "    'resident_ratio_mean', 'worker_ratio_mean', 'floating_ratio_mean',\n",
    "    'rel_sales_ratio_mean', 'rel_txn_ratio_mean',\n",
    "    'is_customer_missing_mean', 'is_behavior_missing_mean',\n",
    "    'is_type_missing_mean', 'is_delivery_missing_mean',\n",
    "    \"male_20below_ratio_mean\", \"male_30_ratio_mean\", \"male_40_ratio_mean\",\n",
    "    \"male_50_ratio_mean\", \"male_60plus_ratio_mean\",\n",
    "    \"female_20below_ratio_mean\", \"female_30_ratio_mean\", \"female_40_ratio_mean\",\n",
    "    \"female_50_ratio_mean\", \"female_60plus_ratio_mean\"\n",
    "]\n",
    "# Add demographic customer ratio means (drop one to avoid sum=100% collinearity)\n",
    "#demo_ratio_feats = [f'{gender}_{age}_ratio_mean' \n",
    "                    #for gender in ['male','female'] for age in ['20below','30','40','50','60plus']]\n",
    "#demo_ratio_feats.remove('female_60plus_ratio_mean')  # drop one redundant feature\n",
    "#X_features += demo_ratio_feats\n",
    "\n",
    "# (Optional) Verify that all selected features exist in the data\n",
    "for col in Z_features + X_features:\n",
    "    if col not in train_df.columns:\n",
    "        print(f\"Feature {col} not found in dataset!\")\n",
    "# Fill any missing values with 0 (since missing indicators are present to inform the models)\n",
    "train_df.fillna(0.0, inplace=True)\n",
    "test_df.fillna(0.0, inplace=True)\n"
   ]
  },
  {
   "cell_type": "code",
   "execution_count": 6,
   "id": "f7a6a67e",
   "metadata": {},
   "outputs": [
    {
     "name": "stdout",
     "output_type": "stream",
     "text": [
      "['worker_ratio_std', 'is_market_missing', 'biz_type', 'is_behavior_missing_last', 'target_ym', 'resident_ratio_std', 'share_sales_market_std', 'male_30_ratio_last', 'market', 'cancel_rate_grp_std', 'male_30_ratio_std', 'sales_rank_industry_last', 'female_20below_ratio_std', 'is_type_missing_std', 'oper_month_grp_mean', 'female_60plus_ratio_std', 'is_cold_start', 'share_sales_market_mean', 'male_60plus_ratio_last', 'worker_ratio_last', 'txn_cnt_grp_last', 'male_50_ratio_std', 'biz_type_adj', 'floating_ratio_last', 'market_adj', 'is_type_missing_last', 'y', 'male_40_ratio_std', 'is_customer_missing_std', 'female_50_ratio_std', 'base_ym', 'rel_txn_ratio_last', 'floating_ratio_std', 'num', 'male_20below_ratio_std', 'male_60plus_ratio_std', 'sales_rank_industry_std', 'female_60plus_ratio_last', 'female_40_ratio_std', 'sales_rank_industry_mean', 'sales_rank_market_std', 'female_20below_ratio_last', 'is_delivery_missing_last', 'oper_month_grp_last', 'female_50_ratio_last', 'open', 'sales_estimate_last', 'avg_pay_grp_std', 'female_30_ratio_std', 'female_40_ratio_last', 'share_sales_industry_std', 'delivery_sales_ratio_std', 'oper_month_grp_std', 'is_delivery_missing_std', 'male_40_ratio_last', 'rel_txn_ratio_std', 'share_sales_market_last', 'male_50_ratio_last', 'revisit_ratio_std', 'resident_ratio_last', 'sales_rank_market_last', 'male_20below_ratio_last', 'is_customer_missing_last', 'female_30_ratio_last', 'is_behavior_missing_std', 'rel_sales_ratio_last', 'rel_sales_ratio_std', 'new_ratio_std', 'cust_cnt_grp_std', 'sales_rank_market_mean']\n"
     ]
    }
   ],
   "source": [
    "# 예시: df.columns, X_features, Z_features가 있다고 가정\n",
    "excluded_features = set(train_df.columns) - set(X_features) - set(Z_features)\n",
    "\n",
    "# 결과를 리스트로 변환\n",
    "excluded_features = list(excluded_features)\n",
    "\n",
    "print(excluded_features)\n"
   ]
  },
  {
   "cell_type": "markdown",
   "id": "b6dba058",
   "metadata": {},
   "source": [
    "# 2. Store Clustering with GMM (Expert Clusters)"
   ]
  },
  {
   "cell_type": "code",
   "execution_count": 7,
   "id": "b3394c9d",
   "metadata": {},
   "outputs": [],
   "source": [
    "# Number of expert clusters (could be tuned using BIC/AIC)\n",
    "#k지정 \n",
    "K = 10"
   ]
  },
  {
   "cell_type": "code",
   "execution_count": 8,
   "id": "94fef083",
   "metadata": {},
   "outputs": [],
   "source": [
    "from sklearn.mixture import GaussianMixture\n",
    "from sklearn.preprocessing import StandardScaler\n",
    "\n",
    "\n",
    "\n",
    "\n",
    "# Scale the X features for clustering\n",
    "scaler = StandardScaler()\n",
    "X_train = train_df[X_features].values\n",
    "X_train_scaled = scaler.fit_transform(X_train)\n",
    "\n",
    "# Fit Gaussian Mixture Model on the scaled X features\n",
    "gmm = GaussianMixture(n_components=K, random_state=42)\n",
    "gmm.fit(X_train_scaled)\n",
    "\n",
    "# Obtain soft cluster assignments (probabilities) and hard labels for training data\n",
    "cluster_probs_train = gmm.predict_proba(X_train_scaled)   # shape: [n_samples, K]\n",
    "cluster_labels_train = gmm.predict(X_train_scaled)        # most likely cluster index for each sample\n",
    "\n",
    "# Append the cluster label to the training DataFrame for reference (optional)\n",
    "train_df['moe_cluster_label'] = cluster_labels_train\n"
   ]
  },
  {
   "cell_type": "markdown",
   "id": "389fe641",
   "metadata": {},
   "source": [
    "# 3. Gate Model Training (Z → Cluster Probability)"
   ]
  },
  {
   "cell_type": "code",
   "execution_count": 9,
   "id": "ec0d4967",
   "metadata": {},
   "outputs": [
    {
     "name": "stderr",
     "output_type": "stream",
     "text": [
      "c:\\Users\\eunseok\\anaconda3\\Lib\\site-packages\\xgboost\\training.py:199: UserWarning: [15:44:39] WARNING: C:\\actions-runner\\_work\\xgboost\\xgboost\\src\\learner.cc:790: \n",
      "Parameters: { \"use_label_encoder\" } are not used.\n",
      "\n",
      "  bst.update(dtrain, iteration=i, fobj=obj)\n"
     ]
    },
    {
     "data": {
      "text/html": [
       "<style>#sk-container-id-1 {\n",
       "  /* Definition of color scheme common for light and dark mode */\n",
       "  --sklearn-color-text: black;\n",
       "  --sklearn-color-line: gray;\n",
       "  /* Definition of color scheme for unfitted estimators */\n",
       "  --sklearn-color-unfitted-level-0: #fff5e6;\n",
       "  --sklearn-color-unfitted-level-1: #f6e4d2;\n",
       "  --sklearn-color-unfitted-level-2: #ffe0b3;\n",
       "  --sklearn-color-unfitted-level-3: chocolate;\n",
       "  /* Definition of color scheme for fitted estimators */\n",
       "  --sklearn-color-fitted-level-0: #f0f8ff;\n",
       "  --sklearn-color-fitted-level-1: #d4ebff;\n",
       "  --sklearn-color-fitted-level-2: #b3dbfd;\n",
       "  --sklearn-color-fitted-level-3: cornflowerblue;\n",
       "\n",
       "  /* Specific color for light theme */\n",
       "  --sklearn-color-text-on-default-background: var(--sg-text-color, var(--theme-code-foreground, var(--jp-content-font-color1, black)));\n",
       "  --sklearn-color-background: var(--sg-background-color, var(--theme-background, var(--jp-layout-color0, white)));\n",
       "  --sklearn-color-border-box: var(--sg-text-color, var(--theme-code-foreground, var(--jp-content-font-color1, black)));\n",
       "  --sklearn-color-icon: #696969;\n",
       "\n",
       "  @media (prefers-color-scheme: dark) {\n",
       "    /* Redefinition of color scheme for dark theme */\n",
       "    --sklearn-color-text-on-default-background: var(--sg-text-color, var(--theme-code-foreground, var(--jp-content-font-color1, white)));\n",
       "    --sklearn-color-background: var(--sg-background-color, var(--theme-background, var(--jp-layout-color0, #111)));\n",
       "    --sklearn-color-border-box: var(--sg-text-color, var(--theme-code-foreground, var(--jp-content-font-color1, white)));\n",
       "    --sklearn-color-icon: #878787;\n",
       "  }\n",
       "}\n",
       "\n",
       "#sk-container-id-1 {\n",
       "  color: var(--sklearn-color-text);\n",
       "}\n",
       "\n",
       "#sk-container-id-1 pre {\n",
       "  padding: 0;\n",
       "}\n",
       "\n",
       "#sk-container-id-1 input.sk-hidden--visually {\n",
       "  border: 0;\n",
       "  clip: rect(1px 1px 1px 1px);\n",
       "  clip: rect(1px, 1px, 1px, 1px);\n",
       "  height: 1px;\n",
       "  margin: -1px;\n",
       "  overflow: hidden;\n",
       "  padding: 0;\n",
       "  position: absolute;\n",
       "  width: 1px;\n",
       "}\n",
       "\n",
       "#sk-container-id-1 div.sk-dashed-wrapped {\n",
       "  border: 1px dashed var(--sklearn-color-line);\n",
       "  margin: 0 0.4em 0.5em 0.4em;\n",
       "  box-sizing: border-box;\n",
       "  padding-bottom: 0.4em;\n",
       "  background-color: var(--sklearn-color-background);\n",
       "}\n",
       "\n",
       "#sk-container-id-1 div.sk-container {\n",
       "  /* jupyter's `normalize.less` sets `[hidden] { display: none; }`\n",
       "     but bootstrap.min.css set `[hidden] { display: none !important; }`\n",
       "     so we also need the `!important` here to be able to override the\n",
       "     default hidden behavior on the sphinx rendered scikit-learn.org.\n",
       "     See: https://github.com/scikit-learn/scikit-learn/issues/21755 */\n",
       "  display: inline-block !important;\n",
       "  position: relative;\n",
       "}\n",
       "\n",
       "#sk-container-id-1 div.sk-text-repr-fallback {\n",
       "  display: none;\n",
       "}\n",
       "\n",
       "div.sk-parallel-item,\n",
       "div.sk-serial,\n",
       "div.sk-item {\n",
       "  /* draw centered vertical line to link estimators */\n",
       "  background-image: linear-gradient(var(--sklearn-color-text-on-default-background), var(--sklearn-color-text-on-default-background));\n",
       "  background-size: 2px 100%;\n",
       "  background-repeat: no-repeat;\n",
       "  background-position: center center;\n",
       "}\n",
       "\n",
       "/* Parallel-specific style estimator block */\n",
       "\n",
       "#sk-container-id-1 div.sk-parallel-item::after {\n",
       "  content: \"\";\n",
       "  width: 100%;\n",
       "  border-bottom: 2px solid var(--sklearn-color-text-on-default-background);\n",
       "  flex-grow: 1;\n",
       "}\n",
       "\n",
       "#sk-container-id-1 div.sk-parallel {\n",
       "  display: flex;\n",
       "  align-items: stretch;\n",
       "  justify-content: center;\n",
       "  background-color: var(--sklearn-color-background);\n",
       "  position: relative;\n",
       "}\n",
       "\n",
       "#sk-container-id-1 div.sk-parallel-item {\n",
       "  display: flex;\n",
       "  flex-direction: column;\n",
       "}\n",
       "\n",
       "#sk-container-id-1 div.sk-parallel-item:first-child::after {\n",
       "  align-self: flex-end;\n",
       "  width: 50%;\n",
       "}\n",
       "\n",
       "#sk-container-id-1 div.sk-parallel-item:last-child::after {\n",
       "  align-self: flex-start;\n",
       "  width: 50%;\n",
       "}\n",
       "\n",
       "#sk-container-id-1 div.sk-parallel-item:only-child::after {\n",
       "  width: 0;\n",
       "}\n",
       "\n",
       "/* Serial-specific style estimator block */\n",
       "\n",
       "#sk-container-id-1 div.sk-serial {\n",
       "  display: flex;\n",
       "  flex-direction: column;\n",
       "  align-items: center;\n",
       "  background-color: var(--sklearn-color-background);\n",
       "  padding-right: 1em;\n",
       "  padding-left: 1em;\n",
       "}\n",
       "\n",
       "\n",
       "/* Toggleable style: style used for estimator/Pipeline/ColumnTransformer box that is\n",
       "clickable and can be expanded/collapsed.\n",
       "- Pipeline and ColumnTransformer use this feature and define the default style\n",
       "- Estimators will overwrite some part of the style using the `sk-estimator` class\n",
       "*/\n",
       "\n",
       "/* Pipeline and ColumnTransformer style (default) */\n",
       "\n",
       "#sk-container-id-1 div.sk-toggleable {\n",
       "  /* Default theme specific background. It is overwritten whether we have a\n",
       "  specific estimator or a Pipeline/ColumnTransformer */\n",
       "  background-color: var(--sklearn-color-background);\n",
       "}\n",
       "\n",
       "/* Toggleable label */\n",
       "#sk-container-id-1 label.sk-toggleable__label {\n",
       "  cursor: pointer;\n",
       "  display: block;\n",
       "  width: 100%;\n",
       "  margin-bottom: 0;\n",
       "  padding: 0.5em;\n",
       "  box-sizing: border-box;\n",
       "  text-align: center;\n",
       "}\n",
       "\n",
       "#sk-container-id-1 label.sk-toggleable__label-arrow:before {\n",
       "  /* Arrow on the left of the label */\n",
       "  content: \"▸\";\n",
       "  float: left;\n",
       "  margin-right: 0.25em;\n",
       "  color: var(--sklearn-color-icon);\n",
       "}\n",
       "\n",
       "#sk-container-id-1 label.sk-toggleable__label-arrow:hover:before {\n",
       "  color: var(--sklearn-color-text);\n",
       "}\n",
       "\n",
       "/* Toggleable content - dropdown */\n",
       "\n",
       "#sk-container-id-1 div.sk-toggleable__content {\n",
       "  max-height: 0;\n",
       "  max-width: 0;\n",
       "  overflow: hidden;\n",
       "  text-align: left;\n",
       "  /* unfitted */\n",
       "  background-color: var(--sklearn-color-unfitted-level-0);\n",
       "}\n",
       "\n",
       "#sk-container-id-1 div.sk-toggleable__content.fitted {\n",
       "  /* fitted */\n",
       "  background-color: var(--sklearn-color-fitted-level-0);\n",
       "}\n",
       "\n",
       "#sk-container-id-1 div.sk-toggleable__content pre {\n",
       "  margin: 0.2em;\n",
       "  border-radius: 0.25em;\n",
       "  color: var(--sklearn-color-text);\n",
       "  /* unfitted */\n",
       "  background-color: var(--sklearn-color-unfitted-level-0);\n",
       "}\n",
       "\n",
       "#sk-container-id-1 div.sk-toggleable__content.fitted pre {\n",
       "  /* unfitted */\n",
       "  background-color: var(--sklearn-color-fitted-level-0);\n",
       "}\n",
       "\n",
       "#sk-container-id-1 input.sk-toggleable__control:checked~div.sk-toggleable__content {\n",
       "  /* Expand drop-down */\n",
       "  max-height: 200px;\n",
       "  max-width: 100%;\n",
       "  overflow: auto;\n",
       "}\n",
       "\n",
       "#sk-container-id-1 input.sk-toggleable__control:checked~label.sk-toggleable__label-arrow:before {\n",
       "  content: \"▾\";\n",
       "}\n",
       "\n",
       "/* Pipeline/ColumnTransformer-specific style */\n",
       "\n",
       "#sk-container-id-1 div.sk-label input.sk-toggleable__control:checked~label.sk-toggleable__label {\n",
       "  color: var(--sklearn-color-text);\n",
       "  background-color: var(--sklearn-color-unfitted-level-2);\n",
       "}\n",
       "\n",
       "#sk-container-id-1 div.sk-label.fitted input.sk-toggleable__control:checked~label.sk-toggleable__label {\n",
       "  background-color: var(--sklearn-color-fitted-level-2);\n",
       "}\n",
       "\n",
       "/* Estimator-specific style */\n",
       "\n",
       "/* Colorize estimator box */\n",
       "#sk-container-id-1 div.sk-estimator input.sk-toggleable__control:checked~label.sk-toggleable__label {\n",
       "  /* unfitted */\n",
       "  background-color: var(--sklearn-color-unfitted-level-2);\n",
       "}\n",
       "\n",
       "#sk-container-id-1 div.sk-estimator.fitted input.sk-toggleable__control:checked~label.sk-toggleable__label {\n",
       "  /* fitted */\n",
       "  background-color: var(--sklearn-color-fitted-level-2);\n",
       "}\n",
       "\n",
       "#sk-container-id-1 div.sk-label label.sk-toggleable__label,\n",
       "#sk-container-id-1 div.sk-label label {\n",
       "  /* The background is the default theme color */\n",
       "  color: var(--sklearn-color-text-on-default-background);\n",
       "}\n",
       "\n",
       "/* On hover, darken the color of the background */\n",
       "#sk-container-id-1 div.sk-label:hover label.sk-toggleable__label {\n",
       "  color: var(--sklearn-color-text);\n",
       "  background-color: var(--sklearn-color-unfitted-level-2);\n",
       "}\n",
       "\n",
       "/* Label box, darken color on hover, fitted */\n",
       "#sk-container-id-1 div.sk-label.fitted:hover label.sk-toggleable__label.fitted {\n",
       "  color: var(--sklearn-color-text);\n",
       "  background-color: var(--sklearn-color-fitted-level-2);\n",
       "}\n",
       "\n",
       "/* Estimator label */\n",
       "\n",
       "#sk-container-id-1 div.sk-label label {\n",
       "  font-family: monospace;\n",
       "  font-weight: bold;\n",
       "  display: inline-block;\n",
       "  line-height: 1.2em;\n",
       "}\n",
       "\n",
       "#sk-container-id-1 div.sk-label-container {\n",
       "  text-align: center;\n",
       "}\n",
       "\n",
       "/* Estimator-specific */\n",
       "#sk-container-id-1 div.sk-estimator {\n",
       "  font-family: monospace;\n",
       "  border: 1px dotted var(--sklearn-color-border-box);\n",
       "  border-radius: 0.25em;\n",
       "  box-sizing: border-box;\n",
       "  margin-bottom: 0.5em;\n",
       "  /* unfitted */\n",
       "  background-color: var(--sklearn-color-unfitted-level-0);\n",
       "}\n",
       "\n",
       "#sk-container-id-1 div.sk-estimator.fitted {\n",
       "  /* fitted */\n",
       "  background-color: var(--sklearn-color-fitted-level-0);\n",
       "}\n",
       "\n",
       "/* on hover */\n",
       "#sk-container-id-1 div.sk-estimator:hover {\n",
       "  /* unfitted */\n",
       "  background-color: var(--sklearn-color-unfitted-level-2);\n",
       "}\n",
       "\n",
       "#sk-container-id-1 div.sk-estimator.fitted:hover {\n",
       "  /* fitted */\n",
       "  background-color: var(--sklearn-color-fitted-level-2);\n",
       "}\n",
       "\n",
       "/* Specification for estimator info (e.g. \"i\" and \"?\") */\n",
       "\n",
       "/* Common style for \"i\" and \"?\" */\n",
       "\n",
       ".sk-estimator-doc-link,\n",
       "a:link.sk-estimator-doc-link,\n",
       "a:visited.sk-estimator-doc-link {\n",
       "  float: right;\n",
       "  font-size: smaller;\n",
       "  line-height: 1em;\n",
       "  font-family: monospace;\n",
       "  background-color: var(--sklearn-color-background);\n",
       "  border-radius: 1em;\n",
       "  height: 1em;\n",
       "  width: 1em;\n",
       "  text-decoration: none !important;\n",
       "  margin-left: 1ex;\n",
       "  /* unfitted */\n",
       "  border: var(--sklearn-color-unfitted-level-1) 1pt solid;\n",
       "  color: var(--sklearn-color-unfitted-level-1);\n",
       "}\n",
       "\n",
       ".sk-estimator-doc-link.fitted,\n",
       "a:link.sk-estimator-doc-link.fitted,\n",
       "a:visited.sk-estimator-doc-link.fitted {\n",
       "  /* fitted */\n",
       "  border: var(--sklearn-color-fitted-level-1) 1pt solid;\n",
       "  color: var(--sklearn-color-fitted-level-1);\n",
       "}\n",
       "\n",
       "/* On hover */\n",
       "div.sk-estimator:hover .sk-estimator-doc-link:hover,\n",
       ".sk-estimator-doc-link:hover,\n",
       "div.sk-label-container:hover .sk-estimator-doc-link:hover,\n",
       ".sk-estimator-doc-link:hover {\n",
       "  /* unfitted */\n",
       "  background-color: var(--sklearn-color-unfitted-level-3);\n",
       "  color: var(--sklearn-color-background);\n",
       "  text-decoration: none;\n",
       "}\n",
       "\n",
       "div.sk-estimator.fitted:hover .sk-estimator-doc-link.fitted:hover,\n",
       ".sk-estimator-doc-link.fitted:hover,\n",
       "div.sk-label-container:hover .sk-estimator-doc-link.fitted:hover,\n",
       ".sk-estimator-doc-link.fitted:hover {\n",
       "  /* fitted */\n",
       "  background-color: var(--sklearn-color-fitted-level-3);\n",
       "  color: var(--sklearn-color-background);\n",
       "  text-decoration: none;\n",
       "}\n",
       "\n",
       "/* Span, style for the box shown on hovering the info icon */\n",
       ".sk-estimator-doc-link span {\n",
       "  display: none;\n",
       "  z-index: 9999;\n",
       "  position: relative;\n",
       "  font-weight: normal;\n",
       "  right: .2ex;\n",
       "  padding: .5ex;\n",
       "  margin: .5ex;\n",
       "  width: min-content;\n",
       "  min-width: 20ex;\n",
       "  max-width: 50ex;\n",
       "  color: var(--sklearn-color-text);\n",
       "  box-shadow: 2pt 2pt 4pt #999;\n",
       "  /* unfitted */\n",
       "  background: var(--sklearn-color-unfitted-level-0);\n",
       "  border: .5pt solid var(--sklearn-color-unfitted-level-3);\n",
       "}\n",
       "\n",
       ".sk-estimator-doc-link.fitted span {\n",
       "  /* fitted */\n",
       "  background: var(--sklearn-color-fitted-level-0);\n",
       "  border: var(--sklearn-color-fitted-level-3);\n",
       "}\n",
       "\n",
       ".sk-estimator-doc-link:hover span {\n",
       "  display: block;\n",
       "}\n",
       "\n",
       "/* \"?\"-specific style due to the `<a>` HTML tag */\n",
       "\n",
       "#sk-container-id-1 a.estimator_doc_link {\n",
       "  float: right;\n",
       "  font-size: 1rem;\n",
       "  line-height: 1em;\n",
       "  font-family: monospace;\n",
       "  background-color: var(--sklearn-color-background);\n",
       "  border-radius: 1rem;\n",
       "  height: 1rem;\n",
       "  width: 1rem;\n",
       "  text-decoration: none;\n",
       "  /* unfitted */\n",
       "  color: var(--sklearn-color-unfitted-level-1);\n",
       "  border: var(--sklearn-color-unfitted-level-1) 1pt solid;\n",
       "}\n",
       "\n",
       "#sk-container-id-1 a.estimator_doc_link.fitted {\n",
       "  /* fitted */\n",
       "  border: var(--sklearn-color-fitted-level-1) 1pt solid;\n",
       "  color: var(--sklearn-color-fitted-level-1);\n",
       "}\n",
       "\n",
       "/* On hover */\n",
       "#sk-container-id-1 a.estimator_doc_link:hover {\n",
       "  /* unfitted */\n",
       "  background-color: var(--sklearn-color-unfitted-level-3);\n",
       "  color: var(--sklearn-color-background);\n",
       "  text-decoration: none;\n",
       "}\n",
       "\n",
       "#sk-container-id-1 a.estimator_doc_link.fitted:hover {\n",
       "  /* fitted */\n",
       "  background-color: var(--sklearn-color-fitted-level-3);\n",
       "}\n",
       "</style><div id=\"sk-container-id-1\" class=\"sk-top-container\"><div class=\"sk-text-repr-fallback\"><pre>XGBClassifier(base_score=None, booster=None, callbacks=None,\n",
       "              colsample_bylevel=None, colsample_bynode=None,\n",
       "              colsample_bytree=None, device=None, early_stopping_rounds=None,\n",
       "              enable_categorical=False, eval_metric=&#x27;mlogloss&#x27;,\n",
       "              feature_types=None, feature_weights=None, gamma=None,\n",
       "              grow_policy=None, importance_type=None,\n",
       "              interaction_constraints=None, learning_rate=None, max_bin=None,\n",
       "              max_cat_threshold=None, max_cat_to_onehot=None,\n",
       "              max_delta_step=None, max_depth=None, max_leaves=None,\n",
       "              min_child_weight=None, missing=nan, monotone_constraints=None,\n",
       "              multi_strategy=None, n_estimators=None, n_jobs=None, num_class=10, ...)</pre><b>In a Jupyter environment, please rerun this cell to show the HTML representation or trust the notebook. <br />On GitHub, the HTML representation is unable to render, please try loading this page with nbviewer.org.</b></div><div class=\"sk-container\" hidden><div class=\"sk-item\"><div class=\"sk-estimator fitted sk-toggleable\"><input class=\"sk-toggleable__control sk-hidden--visually\" id=\"sk-estimator-id-1\" type=\"checkbox\" checked><label for=\"sk-estimator-id-1\" class=\"sk-toggleable__label fitted sk-toggleable__label-arrow fitted\">&nbsp;&nbsp;XGBClassifier<a class=\"sk-estimator-doc-link fitted\" rel=\"noreferrer\" target=\"_blank\" href=\"https://xgboost.readthedocs.io/en/release_3.1.0/python/python_api.html#xgboost.XGBClassifier\">?<span>Documentation for XGBClassifier</span></a><span class=\"sk-estimator-doc-link fitted\">i<span>Fitted</span></span></label><div class=\"sk-toggleable__content fitted\"><pre>XGBClassifier(base_score=None, booster=None, callbacks=None,\n",
       "              colsample_bylevel=None, colsample_bynode=None,\n",
       "              colsample_bytree=None, device=None, early_stopping_rounds=None,\n",
       "              enable_categorical=False, eval_metric=&#x27;mlogloss&#x27;,\n",
       "              feature_types=None, feature_weights=None, gamma=None,\n",
       "              grow_policy=None, importance_type=None,\n",
       "              interaction_constraints=None, learning_rate=None, max_bin=None,\n",
       "              max_cat_threshold=None, max_cat_to_onehot=None,\n",
       "              max_delta_step=None, max_depth=None, max_leaves=None,\n",
       "              min_child_weight=None, missing=nan, monotone_constraints=None,\n",
       "              multi_strategy=None, n_estimators=None, n_jobs=None, num_class=10, ...)</pre></div> </div></div></div></div>"
      ],
      "text/plain": [
       "XGBClassifier(base_score=None, booster=None, callbacks=None,\n",
       "              colsample_bylevel=None, colsample_bynode=None,\n",
       "              colsample_bytree=None, device=None, early_stopping_rounds=None,\n",
       "              enable_categorical=False, eval_metric='mlogloss',\n",
       "              feature_types=None, feature_weights=None, gamma=None,\n",
       "              grow_policy=None, importance_type=None,\n",
       "              interaction_constraints=None, learning_rate=None, max_bin=None,\n",
       "              max_cat_threshold=None, max_cat_to_onehot=None,\n",
       "              max_delta_step=None, max_depth=None, max_leaves=None,\n",
       "              min_child_weight=None, missing=nan, monotone_constraints=None,\n",
       "              multi_strategy=None, n_estimators=None, n_jobs=None, num_class=10, ...)"
      ]
     },
     "execution_count": 9,
     "metadata": {},
     "output_type": "execute_result"
    }
   ],
   "source": [
    "from xgboost import XGBClassifier\n",
    "\n",
    "# Train the gate model to predict cluster labels from Z features\n",
    "gate_model = XGBClassifier(objective='multi:softprob', num_class=K, \n",
    "                           use_label_encoder=False, eval_metric='mlogloss', random_state=42)\n",
    "Z_train = train_df[Z_features].values  # gate input features for training\n",
    "gate_model.fit(Z_train, cluster_labels_train)\n",
    "\n",
    "# Example: gate_model.predict_proba(Z_train[:5])  -> softmax probabilities for the first 5 samples\n"
   ]
  },
  {
   "cell_type": "markdown",
   "id": "d17901d7",
   "metadata": {},
   "source": [
    "# 4. Expert Models Training (X → y for each cluster)"
   ]
  },
  {
   "cell_type": "code",
   "execution_count": 10,
   "id": "7ca1e135",
   "metadata": {},
   "outputs": [],
   "source": [
    "from xgboost import XGBRegressor\n",
    "\n",
    "# Train one XGBRegressor per cluster on the corresponding subset of training data\n",
    "expert_models = []\n",
    "for k in range(K):\n",
    "    # Select data for cluster k\n",
    "    X_train_k = train_df.loc[train_df['moe_cluster_label'] == k, X_features].values\n",
    "    y_train_k = train_df.loc[train_df['moe_cluster_label'] == k, 'y'].values\n",
    "    # Train expert k\n",
    "    expert = XGBRegressor(objective='reg:squarederror', random_state=42)\n",
    "    expert.fit(X_train_k, y_train_k)\n",
    "    expert_models.append(expert)\n"
   ]
  },
  {
   "cell_type": "markdown",
   "id": "7b2c2d5e",
   "metadata": {},
   "source": [
    "# 5. Mixture-of-Experts Prediction on New Data"
   ]
  },
  {
   "cell_type": "code",
   "execution_count": 11,
   "id": "24bc12e9",
   "metadata": {},
   "outputs": [
    {
     "name": "stderr",
     "output_type": "stream",
     "text": [
      "c:\\Users\\eunseok\\anaconda3\\Lib\\site-packages\\xgboost\\training.py:199: UserWarning: [15:44:54] WARNING: C:\\actions-runner\\_work\\xgboost\\xgboost\\src\\learner.cc:790: \n",
      "Parameters: { \"use_label_encoder\" } are not used.\n",
      "\n",
      "  bst.update(dtrain, iteration=i, fobj=obj)\n"
     ]
    },
    {
     "name": "stdout",
     "output_type": "stream",
     "text": [
      "          num     base_ym   target_ym  moe_cluster        y_pred   moe_p_0  \\\n",
      "0  000F03E44A  2024-08-01  2024-09-01            1  15906.551758  0.000032   \n",
      "1  000F03E44A  2024-09-01  2024-10-01            8   2766.532227  0.000204   \n",
      "2  000F03E44A  2024-10-01  2024-11-01            3   2385.349609  0.000051   \n",
      "3  002816BA73  2024-08-01  2024-09-01            0  21300.462891  0.953193   \n",
      "4  002816BA73  2024-09-01  2024-10-01            0  27535.074219  0.954050   \n",
      "\n",
      "    moe_p_1   moe_p_2   moe_p_3   moe_p_4   moe_p_5   moe_p_6   moe_p_7  \\\n",
      "0  0.731746  0.001259  0.000169  0.266196  0.000036  0.000029  0.000013   \n",
      "1  0.000419  0.000642  0.361301  0.021291  0.000038  0.004672  0.004261   \n",
      "2  0.008212  0.000006  0.760156  0.017410  0.000004  0.006262  0.000022   \n",
      "3  0.000002  0.000273  0.021293  0.000434  0.000010  0.008041  0.001420   \n",
      "4  0.000002  0.000269  0.022406  0.000811  0.000009  0.008427  0.001172   \n",
      "\n",
      "    moe_p_8   moe_p_9  \n",
      "0  0.000414  0.000108  \n",
      "1  0.606722  0.000450  \n",
      "2  0.207809  0.000067  \n",
      "3  0.014555  0.000779  \n",
      "4  0.011622  0.001231  \n"
     ]
    }
   ],
   "source": [
    "class MoEModel:\n",
    "    def __init__(self, X_features, Z_features, n_clusters):\n",
    "        self.X_features = X_features\n",
    "        self.Z_features = Z_features\n",
    "        self.n_clusters = n_clusters\n",
    "        self.gate_model = None\n",
    "        self.expert_models = []\n",
    "        self.scaler = StandardScaler()  # for scaling X features for GMM (if needed)\n",
    "        self.gmm = None\n",
    "\n",
    "    def fit(self, data):\n",
    "        # Prepare X for clustering and scale it\n",
    "        X_data = data[self.X_features].fillna(0.0).values\n",
    "        X_scaled = self.scaler.fit_transform(X_data)\n",
    "        # Fit GMM to X features\n",
    "        self.gmm = GaussianMixture(n_components=self.n_clusters, random_state=42)\n",
    "        self.gmm.fit(X_scaled)\n",
    "        cluster_labels = self.gmm.predict(X_scaled)\n",
    "        # Train gate model (Z -> cluster label)\n",
    "        Z_data = data[self.Z_features].fillna(0.0).values\n",
    "        self.gate_model = XGBClassifier(objective='multi:softprob', num_class=self.n_clusters,\n",
    "                                        use_label_encoder=False, eval_metric='mlogloss', random_state=42)\n",
    "        self.gate_model.fit(Z_data, cluster_labels)\n",
    "        # Train expert models for each cluster\n",
    "        y = data['y'].values\n",
    "        for k in range(self.n_clusters):\n",
    "            X_k = X_data[cluster_labels == k]\n",
    "            y_k = y[cluster_labels == k]\n",
    "            expert = XGBRegressor(objective='reg:squarederror', random_state=42)\n",
    "            expert.fit(X_k, y_k)\n",
    "            self.expert_models.append(expert) ## ← y로 학습하는 부분\n",
    "\n",
    "    def predict(self, data):\n",
    "        Z_data = data[self.Z_features].fillna(0.0).values\n",
    "        X_data = data[self.X_features].fillna(0.0).values\n",
    "        # Gate: predict cluster probabilities\n",
    "        cluster_prob = self.gate_model.predict_proba(Z_data)    # shape [n_samples, K]\n",
    "        cluster_pred = np.argmax(cluster_prob, axis=1)          # predicted cluster index (highest prob)\n",
    "        # Experts: predict sales for each cluster model\n",
    "        expert_preds = np.vstack([model.predict(X_data) for model in self.expert_models]).T  # shape [n_samples, K]\n",
    "        # Weighted sum of expert predictions\n",
    "        y_pred = np.sum(cluster_prob * expert_preds, axis=1)\n",
    "        # Build result DataFrame\n",
    "        result = pd.DataFrame({'moe_cluster': cluster_pred, 'y_pred': y_pred})\n",
    "        # Add cluster probability columns for each cluster k\n",
    "        for k in range(self.n_clusters):\n",
    "            result[f'moe_p_{k}'] = cluster_prob[:, k]\n",
    "        return result\n",
    "\n",
    "# Initialize and train the MoE model on the training set\n",
    "moe_model = MoEModel(X_features=X_features, Z_features=Z_features, n_clusters=K)\n",
    "moe_model.fit(train_df)\n",
    "\n",
    "# Generate predictions on the test set\n",
    "test_results = moe_model.predict(test_df)\n",
    "\n",
    "# Append identifying info if needed\n",
    "test_results = pd.concat([test_df[['num','base_ym','target_ym']].reset_index(drop=True), test_results], axis=1)\n",
    "print(test_results.head(5))\n"
   ]
  },
  {
   "cell_type": "markdown",
   "id": "9b52e3c1",
   "metadata": {},
   "source": [
    "# 6. 모델 평가"
   ]
  },
  {
   "cell_type": "markdown",
   "id": "ea8e2f21",
   "metadata": {},
   "source": [
    "## 6-1 train 평가"
   ]
  },
  {
   "cell_type": "code",
   "execution_count": 12,
   "id": "1878dbff",
   "metadata": {},
   "outputs": [
    {
     "name": "stdout",
     "output_type": "stream",
     "text": [
      "[Train 성능]\n",
      "MAE  : 4,379\n",
      "RMSE : 7,878\n",
      "R²   : 0.9657\n"
     ]
    },
    {
     "name": "stderr",
     "output_type": "stream",
     "text": [
      "c:\\Users\\eunseok\\anaconda3\\Lib\\site-packages\\sklearn\\metrics\\_regression.py:492: FutureWarning: 'squared' is deprecated in version 1.4 and will be removed in 1.6. To calculate the root mean squared error, use the function'root_mean_squared_error'.\n",
      "  warnings.warn(\n"
     ]
    }
   ],
   "source": [
    "from sklearn.metrics import mean_absolute_error, mean_squared_error, r2_score\n",
    "import numpy as np\n",
    "\n",
    "# 예측 수행 (train 기준 성능 평가)\n",
    "train_preds = moe_model.predict(train_df)\n",
    "y_true = train_df['y'].values\n",
    "y_pred = train_preds['y_pred'].values\n",
    "\n",
    "# 성능 지표 계산\n",
    "mae = mean_absolute_error(y_true, y_pred)\n",
    "rmse = mean_squared_error(y_true, y_pred, squared=False)\n",
    "r2 = r2_score(y_true, y_pred)\n",
    "\n",
    "print(f\"[Train 성능]\")\n",
    "print(f\"MAE  : {mae:,.0f}\")\n",
    "print(f\"RMSE : {rmse:,.0f}\")\n",
    "print(f\"R²   : {r2:.4f}\")\n"
   ]
  },
  {
   "cell_type": "markdown",
   "id": "a5ebd3d6",
   "metadata": {},
   "source": [
    "## 6-2 test 평가"
   ]
  },
  {
   "cell_type": "code",
   "execution_count": 13,
   "id": "8ad3e963",
   "metadata": {},
   "outputs": [
    {
     "name": "stdout",
     "output_type": "stream",
     "text": [
      "[Test 성능]\n",
      "MAE  : 9,696\n",
      "RMSE : 20,620\n",
      "R²   : 0.7875\n"
     ]
    },
    {
     "name": "stderr",
     "output_type": "stream",
     "text": [
      "c:\\Users\\eunseok\\anaconda3\\Lib\\site-packages\\sklearn\\metrics\\_regression.py:492: FutureWarning: 'squared' is deprecated in version 1.4 and will be removed in 1.6. To calculate the root mean squared error, use the function'root_mean_squared_error'.\n",
      "  warnings.warn(\n"
     ]
    }
   ],
   "source": [
    "test_preds = moe_model.predict(test_df)\n",
    "y_true_test = test_df['y'].values\n",
    "y_pred_test = test_preds['y_pred'].values\n",
    "\n",
    "print(f\"[Test 성능]\")\n",
    "print(f\"MAE  : {mean_absolute_error(y_true_test, y_pred_test):,.0f}\")\n",
    "print(f\"RMSE : {mean_squared_error(y_true_test, y_pred_test, squared=False):,.0f}\")\n",
    "print(f\"R²   : {r2_score(y_true_test, y_pred_test):.4f}\")\n"
   ]
  },
  {
   "cell_type": "markdown",
   "id": "cdcd2322",
   "metadata": {},
   "source": [
    "## 6-3 confusion matrix"
   ]
  },
  {
   "cell_type": "code",
   "execution_count": 14,
   "id": "abf47a4f",
   "metadata": {},
   "outputs": [
    {
     "name": "stdout",
     "output_type": "stream",
     "text": [
      "[Gate vs GMM] Confusion matrix:\n",
      "[[14606     0     5     2     0     1   109   119    62   374]\n",
      " [    0   930     0     6     2    17     0     0     6   122]\n",
      " [   55     0   393     9     1     3     3     1     0    11]\n",
      " [  985     0     0  8313     1     0    80    18    46    45]\n",
      " [   23    29     0    13   324    29    10     1    29   177]\n",
      " [    7    18     0     0     1   527     0     1     0   335]\n",
      " [  414     0     2   419     1     0  2436     2    49    16]\n",
      " [  531     0     0    87     0     2     3  1470    12    83]\n",
      " [  407     5     0   233     7     0    28    12  1462   145]\n",
      " [  388     4     0     0     7    91     2    59    36  4594]]\n"
     ]
    },
    {
     "data": {
      "image/png": "[encoded data removed]",
      "text/plain": [
       "<Figure size 640x480 with 2 Axes>"
      ]
     },
     "metadata": {},
     "output_type": "display_data"
    }
   ],
   "source": [
    "from sklearn.metrics import confusion_matrix, ConfusionMatrixDisplay\n",
    "import matplotlib.pyplot as plt\n",
    "\n",
    "# GMM 기준 실제 클러스터 (hard label)\n",
    "X_scaled = moe_model.scaler.transform(train_df[moe_model.X_features].values)\n",
    "true_clusters = moe_model.gmm.predict(X_scaled)\n",
    "\n",
    "# Gate가 예측한 클러스터 (softmax argmax)\n",
    "Z_data = train_df[moe_model.Z_features].values\n",
    "gate_pred_clusters = moe_model.gate_model.predict(Z_data)\n",
    "\n",
    "# Confusion matrix\n",
    "cm = confusion_matrix(true_clusters, gate_pred_clusters)\n",
    "print(\"[Gate vs GMM] Confusion matrix:\")\n",
    "print(cm)\n",
    "\n",
    "# 시각화 (선택)\n",
    "disp = ConfusionMatrixDisplay(confusion_matrix=cm)\n",
    "disp.plot(xticks_rotation=45, cmap=\"Blues\")\n",
    "plt.title(\"Gate Prediction vs GMM Cluster\")\n",
    "plt.show()\n"
   ]
  },
  {
   "cell_type": "code",
   "execution_count": 15,
   "id": "1cc9088b",
   "metadata": {},
   "outputs": [
    {
     "name": "stdout",
     "output_type": "stream",
     "text": [
      "[Cluster 비율]\n",
      "moe_cluster\n",
      "0    0.426278\n",
      "1    0.024134\n",
      "2    0.009790\n",
      "3    0.222293\n",
      "4    0.008420\n",
      "5    0.016399\n",
      "6    0.065376\n",
      "7    0.041193\n",
      "8    0.041659\n",
      "9    0.144459\n",
      "Name: proportion, dtype: float64\n",
      "[Cluster 개수]\n",
      "moe_cluster\n",
      "0    17416\n",
      "1      986\n",
      "2      400\n",
      "3     9082\n",
      "4      344\n",
      "5      670\n",
      "6     2671\n",
      "7     1683\n",
      "8     1702\n",
      "9     5902\n",
      "Name: count, dtype: int64\n"
     ]
    }
   ],
   "source": [
    "import pandas as pd\n",
    "\n",
    "# Train 데이터에서 클러스터 분포 확인 (Gate 기반 soft routing)\n",
    "train_preds = moe_model.predict(train_df)\n",
    "df_check = train_df.copy()\n",
    "df_check[\"moe_cluster\"] = train_preds[\"moe_cluster\"]\n",
    "\n",
    "# 분포 출력 (비율 포함)\n",
    "print(\"[Cluster 비율]\")\n",
    "print(df_check[\"moe_cluster\"].value_counts(normalize=True).sort_index())\n",
    "\n",
    "print(\"[Cluster 개수]\")\n",
    "print(df_check[\"moe_cluster\"].value_counts(normalize=False).sort_index())\n"
   ]
  },
  {
   "cell_type": "markdown",
   "id": "f1822c09",
   "metadata": {},
   "source": [
    "✅ 1. Gate(Z)에 정량 피처만 있는지 확인"
   ]
  },
  {
   "cell_type": "code",
   "execution_count": 16,
   "id": "e3bfde9c",
   "metadata": {},
   "outputs": [
    {
     "name": "stdout",
     "output_type": "stream",
     "text": [
      "⚠️ Gate(Z)에 수치형 피처만 포함되어 있습니다 (분기 신호 약할 수 있음).\n"
     ]
    }
   ],
   "source": [
    "# Gate에 수치형(float, int)만 포함되어 있는지 체크\n",
    "numeric_cols = train_df[Z_features].select_dtypes(include=['float', 'int']).columns.tolist()\n",
    "non_numeric = [col for col in Z_features if col not in numeric_cols]\n",
    "\n",
    "if len(non_numeric) == 0:\n",
    "    print(\"⚠️ Gate(Z)에 수치형 피처만 포함되어 있습니다 (분기 신호 약할 수 있음).\")\n",
    "else:\n",
    "    print(f\"✅ Gate(Z)에 범주형/불리언 피처 포함: {non_numeric}\")\n"
   ]
  },
  {
   "cell_type": "markdown",
   "id": "2252befa",
   "metadata": {},
   "source": [
    "✅ 2. Gate에 너무 강한 피처가 있는지 확인 (softmax 쏠림)"
   ]
  },
  {
   "cell_type": "code",
   "execution_count": 17,
   "id": "070f8885",
   "metadata": {},
   "outputs": [
    {
     "name": "stderr",
     "output_type": "stream",
     "text": [
      "c:\\Users\\eunseok\\anaconda3\\Lib\\site-packages\\sklearn\\linear_model\\_logistic.py:1247: FutureWarning: 'multi_class' was deprecated in version 1.5 and will be removed in 1.7. From then on, it will always use 'multinomial'. Leave it to its default value to avoid this warning.\n",
      "  warnings.warn(\n"
     ]
    },
    {
     "name": "stdout",
     "output_type": "stream",
     "text": [
      "🔍 Gate에서 가장 강한 영향력을 가진 변수:\n",
      "                     feature  importance\n",
      "3  delivery_sales_ratio_last    1.761225\n",
      "5       cancel_rate_grp_last    1.636415\n",
      "1          cust_cnt_grp_last    1.200989\n",
      "7               is_franchise    0.565211\n",
      "0             sales_grp_last    0.490152\n",
      "2           avg_pay_grp_last    0.489281\n",
      "6  share_sales_industry_last    0.118133\n",
      "4             new_ratio_last    0.080776\n",
      "8         revisit_ratio_last    0.034647\n"
     ]
    },
    {
     "name": "stderr",
     "output_type": "stream",
     "text": [
      "c:\\Users\\eunseok\\anaconda3\\Lib\\site-packages\\sklearn\\linear_model\\_logistic.py:469: ConvergenceWarning: lbfgs failed to converge (status=1):\n",
      "STOP: TOTAL NO. of ITERATIONS REACHED LIMIT.\n",
      "\n",
      "Increase the number of iterations (max_iter) or scale the data as shown in:\n",
      "    https://scikit-learn.org/stable/modules/preprocessing.html\n",
      "Please also refer to the documentation for alternative solver options:\n",
      "    https://scikit-learn.org/stable/modules/linear_model.html#logistic-regression\n",
      "  n_iter_i = _check_optimize_result(\n"
     ]
    }
   ],
   "source": [
    "from sklearn.linear_model import LogisticRegression\n",
    "import numpy as np\n",
    "import pandas as pd\n",
    "\n",
    "# Gate 입력: 인코딩 없이 Z_features 그대로\n",
    "Z_train = train_df[Z_features].values\n",
    "y_gate = train_df['moe_cluster_label']  # 또는 gmm_cluster\n",
    "\n",
    "# Gate 모델 학습 (선형 모델)\n",
    "gate_model = LogisticRegression(multi_class='multinomial', max_iter=500)\n",
    "gate_model.fit(Z_train, y_gate)\n",
    "\n",
    "# 변수 중요도 계산 (절댓값 평균 계수 기준)\n",
    "importances = np.abs(gate_model.coef_).mean(axis=0)\n",
    "importance_df = pd.DataFrame({'feature': Z_features, 'importance': importances})\n",
    "top = importance_df.sort_values('importance', ascending=False).head(10)\n",
    "\n",
    "print(\"🔍 Gate에서 가장 강한 영향력을 가진 변수:\")\n",
    "print(top)\n"
   ]
  },
  {
   "cell_type": "markdown",
   "id": "5bcb8772",
   "metadata": {},
   "source": [
    "✅ 3. Expert(X)에 중복된 비율 변수 과다 포함 여부 확인"
   ]
  },
  {
   "cell_type": "code",
   "execution_count": 18,
   "id": "bcdc093c",
   "metadata": {},
   "outputs": [
    {
     "name": "stdout",
     "output_type": "stream",
     "text": [
      "✅ 비율 피처 간 중복 강한 상관 없음\n"
     ]
    }
   ],
   "source": [
    "# X에 포함된 비율형 변수들 중 상관관계 높은 것 찾기\n",
    "ratio_cols = [col for col in X_features if 'ratio' in col and col in train_df.columns]\n",
    "corr = train_df[ratio_cols].corr().abs()\n",
    "\n",
    "# 강한 상관관계 있는 피처 쌍 추출 (예: 상관계수 > 0.95)\n",
    "high_corr_pairs = [(i, j, corr.loc[i, j])\n",
    "                   for i in corr.columns\n",
    "                   for j in corr.columns\n",
    "                   if i != j and corr.loc[i, j] > 0.95]\n",
    "\n",
    "if high_corr_pairs:\n",
    "    print(\"⚠️ X에 고상관 비율 피처 쌍 존재:\")\n",
    "    for i, j, c in high_corr_pairs:\n",
    "        print(f\"{i} ↔ {j} (corr={c:.3f})\")\n",
    "else:\n",
    "    print(\"✅ 비율 피처 간 중복 강한 상관 없음\")\n"
   ]
  },
  {
   "cell_type": "markdown",
   "id": "85943e57",
   "metadata": {},
   "source": [
    "✅ 4. X/Z에 타깃(y)과 유사한 예측치가 포함되어 있는지 확인 (누수 위험)"
   ]
  },
  {
   "cell_type": "code",
   "execution_count": 19,
   "id": "6a5490ec",
   "metadata": {},
   "outputs": [
    {
     "name": "stdout",
     "output_type": "stream",
     "text": [
      "🔎 sales_estimate_mean vs y → R² = 0.8575\n",
      "⚠️ 이 변수는 y와 유사하여 누수 가능성 있음 (제외 고려)\n",
      "🔎 sales_estimate_std vs y → R² = -0.2030\n"
     ]
    }
   ],
   "source": [
    "from sklearn.metrics import r2_score\n",
    "\n",
    "# 예: 'estimate_sales_last'가 y와 너무 유사하면 위험\n",
    "suspect_cols = [col for col in (X_features + Z_features) if 'estimate' in col]\n",
    "\n",
    "for col in suspect_cols:\n",
    "    if col in train_df.columns:\n",
    "        r2 = r2_score(train_df['y'], train_df[col])\n",
    "        print(f\"🔎 {col} vs y → R² = {r2:.4f}\")\n",
    "        if r2 > 0.7:\n",
    "            print(\"⚠️ 이 변수는 y와 유사하여 누수 가능성 있음 (제외 고려)\")\n"
   ]
  },
  {
   "cell_type": "markdown",
   "id": "b78840ba",
   "metadata": {},
   "source": [
    "# softmax 품질확인"
   ]
  },
  {
   "cell_type": "code",
   "execution_count": 20,
   "id": "e78cb14e",
   "metadata": {},
   "outputs": [
    {
     "name": "stdout",
     "output_type": "stream",
     "text": [
      "🔍 Gate softmax log-loss: 0.8952\n"
     ]
    }
   ],
   "source": [
    "from sklearn.metrics import log_loss\n",
    "\n",
    "# Gate 소프트 예측 확률\n",
    "gate_proba = gate_model.predict_proba(Z_train)\n",
    "\n",
    "# GMM 또는 moe 클러스터 라벨\n",
    "true_labels = train_df['moe_cluster_label'].values  # 또는 'moe_cluster_label'\n",
    "\n",
    "# log-loss 계산(작을수록 좋음)\n",
    "loss = log_loss(true_labels, gate_proba)\n",
    "print(f\"🔍 Gate softmax log-loss: {loss:.4f}\")\n"
   ]
  },
  {
   "cell_type": "code",
   "execution_count": 21,
   "id": "1ea4f7f3",
   "metadata": {},
   "outputs": [
    {
     "name": "stdout",
     "output_type": "stream",
     "text": [
      "🔍 평균 softmax 확신도: 0.694\n"
     ]
    }
   ],
   "source": [
    "# 각 sample에 대해 최대 확률 값만 추출\n",
    "max_probs = gate_proba.max(axis=1)\n",
    "\n",
    "# 평균 확신도(높을수록 좋음)\n",
    "print(f\"🔍 평균 softmax 확신도: {max_probs.mean():.3f}\")\n"
   ]
  }
 ],
 "metadata": {
  "kernelspec": {
   "display_name": "base",
   "language": "python",
   "name": "python3"
  },
  "language_info": {
   "codemirror_mode": {
    "name": "ipython",
    "version": 3
   },
   "file_extension": ".py",
   "mimetype": "text/x-python",
   "name": "python",
   "nbconvert_exporter": "python",
   "pygments_lexer": "ipython3",
   "version": "3.11.7"
  }
 },
 "nbformat": 4,
 "nbformat_minor": 5
}
